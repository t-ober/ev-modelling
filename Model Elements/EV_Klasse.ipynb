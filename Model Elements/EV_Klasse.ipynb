{
 "cells": [
  {
   "cell_type": "code",
   "execution_count": 1,
   "metadata": {},
   "outputs": [],
   "source": [
    "import pandas as pd"
   ]
  },
  {
   "cell_type": "code",
   "execution_count": 23,
   "metadata": {},
   "outputs": [
    {
     "data": {
      "text/html": [
       "<div>\n",
       "<style scoped>\n",
       "    .dataframe tbody tr th:only-of-type {\n",
       "        vertical-align: middle;\n",
       "    }\n",
       "\n",
       "    .dataframe tbody tr th {\n",
       "        vertical-align: top;\n",
       "    }\n",
       "\n",
       "    .dataframe thead th {\n",
       "        text-align: right;\n",
       "    }\n",
       "</style>\n",
       "<table border=\"1\" class=\"dataframe\">\n",
       "  <thead>\n",
       "    <tr style=\"text-align: right;\">\n",
       "      <th></th>\n",
       "      <th>Hersteller</th>\n",
       "      <th>Segment</th>\n",
       "      <th>Batterie</th>\n",
       "      <th>Verbrauch</th>\n",
       "      <th>Leistung</th>\n",
       "    </tr>\n",
       "    <tr>\n",
       "      <th>Modell</th>\n",
       "      <th></th>\n",
       "      <th></th>\n",
       "      <th></th>\n",
       "      <th></th>\n",
       "      <th></th>\n",
       "    </tr>\n",
       "  </thead>\n",
       "  <tbody>\n",
       "    <tr>\n",
       "      <th>Fortwo electric Drive</th>\n",
       "      <td>Smart</td>\n",
       "      <td>1</td>\n",
       "      <td>17.6</td>\n",
       "      <td>12.9</td>\n",
       "      <td>60.0</td>\n",
       "    </tr>\n",
       "    <tr>\n",
       "      <th>e-up!</th>\n",
       "      <td>VW</td>\n",
       "      <td>1</td>\n",
       "      <td>18.7</td>\n",
       "      <td>11.7</td>\n",
       "      <td>60.0</td>\n",
       "    </tr>\n",
       "    <tr>\n",
       "      <th>Forfour electric Drive</th>\n",
       "      <td>Smart</td>\n",
       "      <td>2</td>\n",
       "      <td>17.6</td>\n",
       "      <td>13.1</td>\n",
       "      <td>60.0</td>\n",
       "    </tr>\n",
       "    <tr>\n",
       "      <th>ZOE Z.E. 40</th>\n",
       "      <td>Renault</td>\n",
       "      <td>2</td>\n",
       "      <td>41.0</td>\n",
       "      <td>11.2</td>\n",
       "      <td>68.0</td>\n",
       "    </tr>\n",
       "    <tr>\n",
       "      <th>i3 94Ah</th>\n",
       "      <td>BMW</td>\n",
       "      <td>2</td>\n",
       "      <td>27.2</td>\n",
       "      <td>13.6</td>\n",
       "      <td>125.0</td>\n",
       "    </tr>\n",
       "  </tbody>\n",
       "</table>\n",
       "</div>"
      ],
      "text/plain": [
       "                       Hersteller  Segment  Batterie  Verbrauch  Leistung\n",
       "Modell                                                                   \n",
       "Fortwo electric Drive       Smart        1      17.6       12.9      60.0\n",
       "e-up!                          VW        1      18.7       11.7      60.0\n",
       "Forfour electric Drive      Smart        2      17.6       13.1      60.0\n",
       "ZOE Z.E. 40              Renault         2      41.0       11.2      68.0\n",
       "i3 94Ah                       BMW        2      27.2       13.6     125.0"
      ]
     },
     "execution_count": 23,
     "metadata": {},
     "output_type": "execute_result"
    }
   ],
   "source": [
    "models = pd.read_excel(r\"C:\\Users\\thoma\\Desktop\\ev-modelling-repo\\Data\\EV_Modelle_Tabelle.xlsx\", index_col='Modell')\n",
    "models.head()"
   ]
  },
  {
   "cell_type": "code",
   "execution_count": 28,
   "metadata": {},
   "outputs": [],
   "source": [
    "class Electric_Vehicle:\n",
    "    model_df = get_model_df()\n",
    "    \n",
    "    def __init__(self, model):\n",
    "        # Exception wenn model nicht in model_df?\n",
    "        models = Electric_Vehicle.model_df\n",
    "        self.MODEL = model\n",
    "        self.SEGMENT = models.at[model, \"Segment\"]\n",
    "        self.CAPACITY = models.at[model, \"Batterie\"]\n",
    "        self.CONSUMPTION = models.at[model, \"Verbrauch\"]\n",
    "        self.POWER = models.at[model, \"Leistung\"]\n",
    "        \n",
    "    def get_model_df():\n",
    "       return pd.read_excel(r\"C:\\Users\\thoma\\Desktop\\ev-modelling-repo\\Data\\EV_Modelle_Tabelle.xlsx\", index_col='Modell')"
   ]
  },
  {
   "cell_type": "code",
   "execution_count": 30,
   "metadata": {},
   "outputs": [
    {
     "data": {
      "text/plain": [
       "{'MODEL': 'Model 3',\n",
       " 'SEGMENT': 4,\n",
       " 'CAPACITY': 50.0,\n",
       " 'CONSUMPTION': 14.1,\n",
       " 'POWER': 192.0}"
      ]
     },
     "execution_count": 30,
     "metadata": {},
     "output_type": "execute_result"
    }
   ],
   "source": [
    "ev = Electric_Vehicle(\"Model 3\")\n",
    "vars(ev)"
   ]
  },
  {
   "cell_type": "markdown",
   "metadata": {},
   "source": [
    "### Beispieldaten der relativen Verteilung der Fharzeugsegmente aus MOP Studie 2016 "
   ]
  },
  {
   "cell_type": "code",
   "execution_count": 34,
   "metadata": {},
   "outputs": [],
   "source": [
    "prob_seg = {\n",
    "    1 : 5.92,\n",
    "    2 : 19.58,\n",
    "    3 : 26.21,\n",
    "    4 : 15.97,\n",
    "    5 : 2.9,\n",
    "    6 : 0.58,\n",
    "    7 : 3.54,\n",
    "    8 : 1.22,\n",
    "    9 : 6.37,\n",
    "    10 : 5.86,\n",
    "    11 : 3.86,\n",
    "    12 : 0.58,\n",
    "    13 : 5.28,\n",
    "    -9 : 2.12\n",
    "}"
   ]
  },
  {
   "cell_type": "code",
   "execution_count": 36,
   "metadata": {},
   "outputs": [
    {
     "data": {
      "text/plain": [
       "99.99000000000002"
      ]
     },
     "execution_count": 36,
     "metadata": {},
     "output_type": "execute_result"
    }
   ],
   "source": [
    "count = 0\n",
    "for key, val in prob_seg.items(): \n",
    "    count += val \n",
    "count"
   ]
  },
  {
   "cell_type": "code",
   "execution_count": null,
   "metadata": {},
   "outputs": [],
   "source": []
  },
  {
   "cell_type": "code",
   "execution_count": 31,
   "metadata": {},
   "outputs": [],
   "source": [
    "def build_car():\n",
    "    segment = choose_segment()\n",
    "    model = choose_model(segment)\n",
    "    return Electric_Vehicle(model)"
   ]
  },
  {
   "cell_type": "code",
   "execution_count": null,
   "metadata": {},
   "outputs": [],
   "source": []
  }
 ],
 "metadata": {
  "kernelspec": {
   "display_name": "Python 3",
   "language": "python",
   "name": "python3"
  },
  "language_info": {
   "codemirror_mode": {
    "name": "ipython",
    "version": 3
   },
   "file_extension": ".py",
   "mimetype": "text/x-python",
   "name": "python",
   "nbconvert_exporter": "python",
   "pygments_lexer": "ipython3",
   "version": "3.7.6"
  }
 },
 "nbformat": 4,
 "nbformat_minor": 4
}

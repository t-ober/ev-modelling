{
 "cells": [
  {
   "cell_type": "markdown",
   "metadata": {},
   "source": [
    "# Ladevorgang der EVS in Simulation\n",
    "\n",
    "### vorerst folgende Ladeszenarien\n",
    "* CHARGE_SCEN = 1 = laden nur Zuhause\n",
    "* CHARGE_SCEN = 2 = laden Zuhause und auf der Arbeit\n",
    "* CHARGE_SCEN = 3 = laden überall\n",
    "\n",
    "### vorerst nur Slow Charging\n",
    "* PCHARGE_SLOW = 3,7 \\[kW\\]\n",
    "\n",
    "(Vorgehen so in Rohlink)"
   ]
  },
  {
   "cell_type": "code",
   "execution_count": null,
   "metadata": {},
   "outputs": [],
   "source": []
  }
 ],
 "metadata": {
  "kernelspec": {
   "display_name": "Python 3",
   "language": "python",
   "name": "python3"
  },
  "language_info": {
   "codemirror_mode": {
    "name": "ipython",
    "version": 3
   },
   "file_extension": ".py",
   "mimetype": "text/x-python",
   "name": "python",
   "nbconvert_exporter": "python",
   "pygments_lexer": "ipython3",
   "version": "3.7.6"
  }
 },
 "nbformat": 4,
 "nbformat_minor": 4
}

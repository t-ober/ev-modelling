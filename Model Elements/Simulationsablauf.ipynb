{
 "cells": [
  {
   "cell_type": "code",
   "execution_count": 161,
   "metadata": {},
   "outputs": [],
   "source": [
    "import pandas as pd\n",
    "import numpy as np\n",
    "import matplotlib as mlp\n",
    "import matplotlib.pyplot as plt\n",
    "import pickle\n",
    "from scipy import stats"
   ]
  },
  {
   "cell_type": "markdown",
   "metadata": {},
   "source": [
    "# Festlegen globaler Parameter der Simulation"
   ]
  },
  {
   "cell_type": "code",
   "execution_count": 162,
   "metadata": {},
   "outputs": [],
   "source": [
    "# Breite der Zeitschritte\n",
    "T_STEP = 15 \n",
    "# Anzahl zu simulierender Fahrzeuge\n",
    "EV_GES = 1000\n",
    "# Anzahl an Tagen die simuliert werden sollen \n",
    "D_TOTAL = 1\n",
    "# Tagtyp: 1 = Werktag, 2 = Samstag, 3 = Sonntag\n",
    "TYPE_D = 1 \n",
    "# Ladeszenario: 1 = nur Zuhause, 2 = Zuhause und Arbeit, 3 = Überall\n",
    "CHARGE_SCEN = 1 \n",
    "# Ladeleistung \n",
    "PCHARGE_SLOW = 3.7 \n",
    "\n",
    "# durchschnittliche Fahrgeschwindigkeit\n",
    "# Dummy Wert aus anderem Modell\n",
    "EV_SPEED = 19"
   ]
  },
  {
   "cell_type": "markdown",
   "metadata": {},
   "source": [
    "# Laden der Simulationsdaten"
   ]
  },
  {
   "cell_type": "code",
   "execution_count": 163,
   "metadata": {},
   "outputs": [],
   "source": [
    "import pickle\n",
    "import os\n",
    "root = os.getcwd()+\"\\\\Simulationsdaten\"\n",
    "\n",
    "# Verteilungsfunktion für initiale Abreise\n",
    "initial_departure_model = pickle.load(open(root+\"\\\\Modell_Initiale_Abfahrtszeit_Werktag.pickle\", \"rb\"))\n",
    "\n",
    "\"\"\"\n",
    "Übergangswahrscheinlichkeiten:\n",
    "- eine Liste pro Ausgangszustand mit einem Eintrag pro Zeitschritt -> 96 Einträge \n",
    "- jeder der 96 Einträge enthält 4 Werte die der jeweiligen relativen Übergangswahrscheinlichkeit entsprechen\n",
    "    -> sortiert nach numerischer Repräsentation der Zustände\n",
    "- Beispiel: transition_prob_home[10] = [0.2, 0.4, 0.1, 0.3] = [p1_2, p1_3, p1_4, p1_5] im Zeitintervall 9-10(dummy Werte)\n",
    "\"\"\"\n",
    "transition_prob_home = pickle.load(open(root+\"\\\\Übergangswahrscheinlichkeiten_Zuhause.pickle\", \"rb\"))\n",
    "\n",
    "\"\"\"\n",
    "Parameter Verteilungsfunktion Wegstrecken: \n",
    "- jeweils m*m Liste wobei Parameter der Verteilungsfunktion der Weglänge von i nach j in Reihe i-1 und Spalte j-1 zu finden sind\n",
    "- Beispiel: loc[0][1] = Mittelwert der Weglängenverteilung Zustand Zuhause(1) nach Zustand Arbeit(2)\n",
    "\"\"\"\n",
    "# shape = Formparameter der Verteilung\n",
    "dist_wd_shape_ij = pickle.load(open(root+\"\\\\Verteilung_Wegstrecken_Werktage_Shape.pickle\", \"rb\"))\n",
    "# scale = Standardabweichung der Verteilung\n",
    "dist_wd_scale_ij = pickle.load(open(root+\"\\\\Verteilung_Wegstrecken_Werktage_Scale.pickle\", \"rb\"))\n",
    "# loc = Mittelwert der Verteilung\n",
    "dist_wd_loc_ij = pickle.load(open(root+\"\\\\Verteilung_Wegstrecken_Werktage_Loc.pickle\", \"rb\"))\n",
    "\n",
    "\"\"\"\n",
    "Verteilungsfunktion der Aufenthaltsdauern in den einzelnen Zuständen:\n",
    "- Liste mit dem jeweiligen Density Estimation Modell des Zustands in sortierter Reihenfolge\n",
    "- Modell des Zustands i in Index i-1 \n",
    "- Beispiel: Modell Aufenthaltsdauer Zustand 2(= Arbeit) in stay_duration_model[1]\n",
    "\"\"\"\n",
    "stay_duration_model = pickle.load(open(root+\"\\\\Modelle_Aufenthaltsdauer_Werktag.pickle\", \"rb\"))\n",
    "\n"
   ]
  },
  {
   "cell_type": "markdown",
   "metadata": {},
   "source": [
    "# Initialisieren Fahrzeug"
   ]
  },
  {
   "cell_type": "code",
   "execution_count": 164,
   "metadata": {},
   "outputs": [],
   "source": [
    "class Electric_Vehicle(object):\n",
    "    model_df = pd.read_excel(r\"C:\\Users\\thoma\\Desktop\\ev-modelling-repo\\Data\\EV_Modelle_Tabelle.xlsx\", index_col='Modell')\n",
    "    segments = np.array([1, 2, 3, 4, 5, 6, 7, 8, 9, 10, 11, 12, 13, -9])\n",
    "    # prob_segment einlesen und nicht bei jeder EV Initialisierung neu definieren \n",
    "    \n",
    "    def __init__(self):\n",
    "        segment = self.choose_segment()\n",
    "        model = self.choose_model(segment)\n",
    "        self.MODEL = model\n",
    "        \n",
    "        # Bug da Modelle mehrfach in Liste keine eindeutige Zuordnung sondern Array als output -> fixed -> elegantere Lösung?\n",
    "        # Segment des Fahrzeugs\n",
    "        if np.isscalar(Electric_Vehicle.model_df.at[model, \"Segment\"]):\n",
    "            self.SEGMENT = Electric_Vehicle.model_df.at[model, \"Segment\"]\n",
    "        else:\n",
    "            self.SEGMENT = Electric_Vehicle.model_df.at[model, \"Segment\"][0]\n",
    "        \n",
    "        # Batteriekapazität in kWh\n",
    "        if np.isscalar(Electric_Vehicle.model_df.at[model, \"Batterie\"]):\n",
    "            self.CAPACITY = Electric_Vehicle.model_df.at[model, \"Batterie\"]\n",
    "        else:\n",
    "            self.CAPACITY = Electric_Vehicle.model_df.at[model, \"Batterie\"][0]\n",
    "        \n",
    "        # Verbrauch in kWh/100km\n",
    "        if np.isscalar(Electric_Vehicle.model_df.at[model, \"Verbrauch\"]):\n",
    "            self.CONSUMPTION = Electric_Vehicle.model_df.at[model, \"Verbrauch\"]\n",
    "        else:\n",
    "            self.CONSUMPTION = Electric_Vehicle.model_df.at[model, \"Verbrauch\"][0]\n",
    "        \n",
    "        # Leistung (notwendig?) \n",
    "        if np.isscalar(Electric_Vehicle.model_df.at[model, \"Leistung\"]):\n",
    "            self.POWER = Electric_Vehicle.model_df.at[model, \"Leistung\"]\n",
    "        else:\n",
    "            self.POWER = Electric_Vehicle.model_df.at[model, \"Leistung\"][0]\n",
    "            \n",
    "        self.SOC = 100\n",
    "        self.trip_no = 0\n",
    "        self.trips = []\n",
    "    \n",
    "    def choose_segment(self): \n",
    "        # WICHTIG: Später errechnen und als globale Variable in Klasse speichern und nur Zugriff -> Performance\n",
    "        \n",
    "        # Beispieldaten der relativen Verteilung der Fharzeugsegmente aus MOP Studie 2016 \n",
    "        prob_segment = {\n",
    "        1 : 5.92,\n",
    "        2 : 19.58,\n",
    "        3 : 26.21,\n",
    "        4 : 15.97,\n",
    "        5 : 2.9,\n",
    "        6 : 0.58,\n",
    "        7 : 3.54,\n",
    "        8 : 1.22,\n",
    "        9 : 6.37,\n",
    "        10 : 5.86,\n",
    "        11 : 3.86,\n",
    "        12 : 0.58,\n",
    "        13 : 5.28,\n",
    "        -9 : 2.13\n",
    "        }\n",
    "        \n",
    "        # Rundungsfehler beseitigen -> sicherstellen dass sich W'keiten zu 1 aufsummieren\n",
    "        p_ges = sum(val for key, val in prob_segment.items())\n",
    "        p_rest = 100-p_ges\n",
    "        prob_segment[-9] = prob_segment[-9]+p_rest\n",
    "        \n",
    "        # wähle p zufällig auf Basis gegebener W'keiten\n",
    "        choice = np.random.choice(Electric_Vehicle.segments, p=[prob_segment[x]/100 for x in Electric_Vehicle.segments])\n",
    "        \n",
    "        # Vorerst Wahl des häufigsten Semgents bei keiner Angabe -> später überarbeiten\n",
    "        if choice == -9: \n",
    "            choice = 3\n",
    "        \n",
    "        return choice\n",
    "    \n",
    "    def choose_model(self, segment):\n",
    "        models = Electric_Vehicle.model_df\n",
    "        \n",
    "        # filtern der infragekommenden Fahrzeuge über Segment\n",
    "        filt = models[\"Segment\"] == segment\n",
    "        choices = models[filt]\n",
    "        \n",
    "        # Wahl einse zufälligen Fahrzeugs aus der Liste\n",
    "        pick = np.random.randint(0, len(choices))\n",
    "        model = choices.index[pick]\n",
    "        return model\n",
    "    \n",
    "    # drive() und charge() testen\n",
    "    \n",
    "    def drive(self, distance):\n",
    "        trip_consumption = distance * (self.CONSUMPTION / 100) \n",
    "        self.SOC = self.SOC - (trip_consumption / self.CAPACITY) * 100\n",
    "        \n",
    "    def charge(self):\n",
    "        # Fahrzeug befindet sich im Zielzustand des letzten Trips\n",
    "        trip = self.trips[len(trips-1)]\n",
    "        # nötige Zeit zum vollständigen Aufladen\n",
    "        t_charge_full = ((100 - ev.SOC)/100 * ev.CAPACITY) / PCHARGE_SLOW\n",
    "        # Ladezeit beschränkt durch Zeit zum vollständigen Aufladen und Länge des Aufenthalts\n",
    "        t_charge = min(t_charge_full, trip.stay_duration)\n",
    "        # update SOC über Ladedauer und Ladeleistung\n",
    "        self.SOC = self.SOC + ((t_charge/60 * PCHARGE_SLOW) / self.CAPACITY) * 100\n",
    "        trip.charge_start = trip.arrival\n",
    "        trip.charge_end = trip.charge_start + t_charge"
   ]
  },
  {
   "cell_type": "code",
   "execution_count": 165,
   "metadata": {},
   "outputs": [],
   "source": [
    "class Trip(object):\n",
    "    \n",
    "    def __init__(self, whyfrom):\n",
    "        self.whyfrom = whyfrom\n",
    "        self.whyto = None\n",
    "        self.departure = None\n",
    "        self.departure_t\n",
    "        self.trip_duration = None\n",
    "        self.arrival = None\n",
    "        self.distance = None\n",
    "        self.stay_duration = None\n",
    "        self.charge_start = None \n",
    "        self.charge_end = None"
   ]
  },
  {
   "cell_type": "code",
   "execution_count": 166,
   "metadata": {},
   "outputs": [],
   "source": [
    "# erzeugen Testfahrzeug, normalerweise Loop range(EV_GES)\n",
    "ev = Electric_Vehicle()\n",
    "# erzeugen Trip\n",
    "ev_trip = Trip(whyfrom=1)"
   ]
  },
  {
   "cell_type": "code",
   "execution_count": 167,
   "metadata": {},
   "outputs": [],
   "source": [
    "if TYPE_D == 1: \n",
    "    ev_trip.departure = int(np.round(initial_departure_model.sample()))\n",
    "else:\n",
    "    # Modell Samstag / Sonntag ergänzen\n",
    "    pass\n",
    "# Werte runden?\n",
    "\n",
    "# diskreter Zeitschritt des Übergangs\n",
    "ev_trip.departure_t = round(ev_trip.departure/T_STEP)"
   ]
  },
  {
   "cell_type": "code",
   "execution_count": 168,
   "metadata": {},
   "outputs": [],
   "source": [
    "# wähle nächsten Zustand in Abhängigkeit des aktuellen Zustands und des Abfahrtszeitpunkt des Trips\n",
    "if ev_trip.whyfrom == 1:\n",
    "    ev_trip.whyto = np.random.choice([2, 3, 4, 5], p=transition_prob_home[ev_trip.departure_t])\n",
    "    "
   ]
  },
  {
   "cell_type": "code",
   "execution_count": 169,
   "metadata": {},
   "outputs": [],
   "source": [
    "# Samplen der Aufenthaltsdauer\n",
    "ev_trip.stay_duration = stay_duration_model[ev_trip.whyto - 1].sample()"
   ]
  },
  {
   "cell_type": "code",
   "execution_count": 170,
   "metadata": {},
   "outputs": [],
   "source": [
    "# Ermitteln der Wegstrecke\n",
    "if TYPE_D == 1: \n",
    "    # Erläutering Datenstruktur siehe \"Parameter der Verteilungsfunktion Wegstrecken:\" in \"Laden der Simulationsdaten\"\n",
    "    dist_shape = dist_wd_shape_ij[ev_trip.whyfrom - 1][ev_trip.whyto - 1]\n",
    "    dist_scale = dist_wd_scale_ij[ev_trip.whyfrom - 1][ev_trip.whyto - 1]\n",
    "    dist_loc = dist_wd_loc_ij[ev_trip.whyfrom - 1][ev_trip.whyto - 1]\n",
    "    \n",
    "    # samplen der lognorm Verteilungsfunktion der Zustandskombination\n",
    "    ev_trip.distance = stats.lognorm.rvs(s=dist_shape, loc=dist_loc, scale=dist_scale)\n",
    "else :\n",
    "    # Werte Samstag / Sonntag \n",
    "    pass"
   ]
  },
  {
   "cell_type": "code",
   "execution_count": 171,
   "metadata": {},
   "outputs": [],
   "source": [
    "# Placeholder Ladevorgang\n",
    "if CHARGE_SCEN == 1:\n",
    "    if ev.SOC < 100:\n",
    "        # geladen wird nur wenn sich das Fahrzeug sich zuhause befindet (Szenario 1) und sich dort länger als 15 Minuten aufhält\n",
    "        if ev.trip_no > 0 and ev.trips[len(ev.trips)-1].whyto == 1 and ev_trip.stay_duration > 15:\n",
    "            ev.charge()\n",
    "        \n",
    "            \n",
    "        "
   ]
  },
  {
   "cell_type": "code",
   "execution_count": 172,
   "metadata": {},
   "outputs": [],
   "source": [
    "# Fahrvorgang -> update SOC \n",
    "ev.drive(ev_trip.distance)\n",
    "ev_trip.trip_duration = (ev_trip.distance / EV_SPEED) * 60\n",
    "ev_trip.arrival = ev_trip.departure + ev_trip.trip_duration\n",
    "ev.trips.append(ev_trip)\n",
    "ev.trip_no += 1"
   ]
  },
  {
   "cell_type": "code",
   "execution_count": 173,
   "metadata": {},
   "outputs": [
    {
     "data": {
      "text/plain": [
       "7.732479058603191"
      ]
     },
     "execution_count": 173,
     "metadata": {},
     "output_type": "execute_result"
    }
   ],
   "source": [
    "ev_trip.distance"
   ]
  },
  {
   "cell_type": "code",
   "execution_count": 174,
   "metadata": {},
   "outputs": [
    {
     "data": {
      "text/plain": [
       "30.0"
      ]
     },
     "execution_count": 174,
     "metadata": {},
     "output_type": "execute_result"
    }
   ],
   "source": [
    "ev.CAPACITY"
   ]
  },
  {
   "cell_type": "code",
   "execution_count": 175,
   "metadata": {},
   "outputs": [
    {
     "data": {
      "text/plain": [
       "14.3"
      ]
     },
     "execution_count": 175,
     "metadata": {},
     "output_type": "execute_result"
    }
   ],
   "source": [
    "ev.CONSUMPTION"
   ]
  },
  {
   "cell_type": "code",
   "execution_count": 176,
   "metadata": {},
   "outputs": [
    {
     "data": {
      "text/plain": [
       "96.31418498206581"
      ]
     },
     "execution_count": 176,
     "metadata": {},
     "output_type": "execute_result"
    }
   ],
   "source": [
    "ev.SOC"
   ]
  },
  {
   "cell_type": "code",
   "execution_count": null,
   "metadata": {},
   "outputs": [],
   "source": []
  }
 ],
 "metadata": {
  "kernelspec": {
   "display_name": "Python 3",
   "language": "python",
   "name": "python3"
  },
  "language_info": {
   "codemirror_mode": {
    "name": "ipython",
    "version": 3
   },
   "file_extension": ".py",
   "mimetype": "text/x-python",
   "name": "python",
   "nbconvert_exporter": "python",
   "pygments_lexer": "ipython3",
   "version": "3.7.6"
  }
 },
 "nbformat": 4,
 "nbformat_minor": 4
}

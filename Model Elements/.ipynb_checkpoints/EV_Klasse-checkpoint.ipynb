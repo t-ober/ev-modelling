{
 "cells": [
  {
   "cell_type": "code",
   "execution_count": 53,
   "metadata": {},
   "outputs": [],
   "source": [
    "import pandas as pd\n",
    "import matplotlib.pyplot as plt\n",
    "import numpy as np\n",
    "from scipy import stats"
   ]
  },
  {
   "cell_type": "code",
   "execution_count": 62,
   "metadata": {},
   "outputs": [
    {
     "data": {
      "text/html": [
       "<div>\n",
       "<style scoped>\n",
       "    .dataframe tbody tr th:only-of-type {\n",
       "        vertical-align: middle;\n",
       "    }\n",
       "\n",
       "    .dataframe tbody tr th {\n",
       "        vertical-align: top;\n",
       "    }\n",
       "\n",
       "    .dataframe thead th {\n",
       "        text-align: right;\n",
       "    }\n",
       "</style>\n",
       "<table border=\"1\" class=\"dataframe\">\n",
       "  <thead>\n",
       "    <tr style=\"text-align: right;\">\n",
       "      <th></th>\n",
       "      <th>Hersteller</th>\n",
       "      <th>Segment</th>\n",
       "      <th>Batterie</th>\n",
       "      <th>Verbrauch</th>\n",
       "      <th>Leistung</th>\n",
       "    </tr>\n",
       "    <tr>\n",
       "      <th>Modell</th>\n",
       "      <th></th>\n",
       "      <th></th>\n",
       "      <th></th>\n",
       "      <th></th>\n",
       "      <th></th>\n",
       "    </tr>\n",
       "  </thead>\n",
       "  <tbody>\n",
       "    <tr>\n",
       "      <th>Fortwo electric Drive</th>\n",
       "      <td>Smart</td>\n",
       "      <td>1</td>\n",
       "      <td>17.6</td>\n",
       "      <td>12.9</td>\n",
       "      <td>60.0</td>\n",
       "    </tr>\n",
       "    <tr>\n",
       "      <th>e-up!</th>\n",
       "      <td>VW</td>\n",
       "      <td>1</td>\n",
       "      <td>18.7</td>\n",
       "      <td>11.7</td>\n",
       "      <td>60.0</td>\n",
       "    </tr>\n",
       "    <tr>\n",
       "      <th>Forfour electric Drive</th>\n",
       "      <td>Smart</td>\n",
       "      <td>2</td>\n",
       "      <td>17.6</td>\n",
       "      <td>13.1</td>\n",
       "      <td>60.0</td>\n",
       "    </tr>\n",
       "    <tr>\n",
       "      <th>ZOE Z.E. 40</th>\n",
       "      <td>Renault</td>\n",
       "      <td>2</td>\n",
       "      <td>41.0</td>\n",
       "      <td>11.2</td>\n",
       "      <td>68.0</td>\n",
       "    </tr>\n",
       "    <tr>\n",
       "      <th>i3 94Ah</th>\n",
       "      <td>BMW</td>\n",
       "      <td>2</td>\n",
       "      <td>27.2</td>\n",
       "      <td>13.6</td>\n",
       "      <td>125.0</td>\n",
       "    </tr>\n",
       "  </tbody>\n",
       "</table>\n",
       "</div>"
      ],
      "text/plain": [
       "                       Hersteller  Segment  Batterie  Verbrauch  Leistung\n",
       "Modell                                                                   \n",
       "Fortwo electric Drive       Smart        1      17.6       12.9      60.0\n",
       "e-up!                          VW        1      18.7       11.7      60.0\n",
       "Forfour electric Drive      Smart        2      17.6       13.1      60.0\n",
       "ZOE Z.E. 40              Renault         2      41.0       11.2      68.0\n",
       "i3 94Ah                       BMW        2      27.2       13.6     125.0"
      ]
     },
     "execution_count": 62,
     "metadata": {},
     "output_type": "execute_result"
    }
   ],
   "source": [
    "models = pd.read_excel(r\"C:\\Users\\thoma\\Desktop\\ev-modelling-repo\\Data\\EV_Modelle_Tabelle.xlsx\", index_col='Modell')\n",
    "models.head()"
   ]
  },
  {
   "cell_type": "code",
   "execution_count": 28,
   "metadata": {},
   "outputs": [],
   "source": [
    "class Electric_Vehicle:\n",
    "    model_df = get_model_df()\n",
    "    \n",
    "    def __init__(self, model):\n",
    "        # Exception wenn model nicht in model_df?\n",
    "        models = Electric_Vehicle.model_df\n",
    "        self.MODEL = model\n",
    "        self.SEGMENT = models.at[model, \"Segment\"]\n",
    "        self.CAPACITY = models.at[model, \"Batterie\"]\n",
    "        self.CONSUMPTION = models.at[model, \"Verbrauch\"]\n",
    "        self.POWER = models.at[model, \"Leistung\"]\n",
    "        \n",
    "    def get_model_df():\n",
    "       return pd.read_excel(r\"C:\\Users\\thoma\\Desktop\\ev-modelling-repo\\Data\\EV_Modelle_Tabelle.xlsx\", index_col='Modell')"
   ]
  },
  {
   "cell_type": "code",
   "execution_count": 30,
   "metadata": {},
   "outputs": [
    {
     "data": {
      "text/plain": [
       "{'MODEL': 'Model 3',\n",
       " 'SEGMENT': 4,\n",
       " 'CAPACITY': 50.0,\n",
       " 'CONSUMPTION': 14.1,\n",
       " 'POWER': 192.0}"
      ]
     },
     "execution_count": 30,
     "metadata": {},
     "output_type": "execute_result"
    }
   ],
   "source": [
    "ev = Electric_Vehicle(\"Model 3\")\n",
    "vars(ev)"
   ]
  },
  {
   "cell_type": "markdown",
   "metadata": {},
   "source": [
    "### Beispieldaten der relativen Verteilung der Fharzeugsegmente aus MOP Studie 2016 "
   ]
  },
  {
   "cell_type": "code",
   "execution_count": 34,
   "metadata": {},
   "outputs": [],
   "source": []
  },
  {
   "cell_type": "code",
   "execution_count": 41,
   "metadata": {},
   "outputs": [
    {
     "data": {
      "text/plain": [
       "100.00000000000001"
      ]
     },
     "execution_count": 41,
     "metadata": {},
     "output_type": "execute_result"
    }
   ],
   "source": [
    "prob_segment = {\n",
    "1 : 5.92,\n",
    "2 : 19.58,\n",
    "3 : 26.21,\n",
    "4 : 15.97,\n",
    "5 : 2.9,\n",
    "6 : 0.58,\n",
    "7 : 3.54,\n",
    "8 : 1.22,\n",
    "9 : 6.37,\n",
    "10 : 5.86,\n",
    "11 : 3.86,\n",
    "12 : 0.58,\n",
    "13 : 5.28,\n",
    "-9 : 2.13\n",
    "}\n",
    "\n",
    "count = 0\n",
    "for key, val in prob_segment.items(): \n",
    "    count += val \n",
    "count"
   ]
  },
  {
   "cell_type": "code",
   "execution_count": 49,
   "metadata": {},
   "outputs": [],
   "source": [
    "def choose_segment(): \n",
    "    # Beispieldaten der relativen Verteilung der Fharzeugsegmente aus MOP Studie 2016 \n",
    "    segments = np.array([1, 2, 3, 4, 5, 6, 7, 8, 9, 10, 11, 12, 13, -9])\n",
    "    prob_segment = {\n",
    "    1 : 5.92,\n",
    "    2 : 19.58,\n",
    "    3 : 26.21,\n",
    "    4 : 15.97,\n",
    "    5 : 2.9,\n",
    "    6 : 0.58,\n",
    "    7 : 3.54,\n",
    "    8 : 1.22,\n",
    "    9 : 6.37,\n",
    "    10 : 5.86,\n",
    "    11 : 3.86,\n",
    "    12 : 0.58,\n",
    "    13 : 5.28,\n",
    "    -9 : 2.13\n",
    "    }\n",
    "    # Rundungsfehler beseitigen -> sicherstellen dass sich W'keiten zu 1 aufsummieren\n",
    "    p_ges = sum(val for key, val in prob_segment.items())\n",
    "    p_rest = 100-p_ges\n",
    "    prob_segment[-9] = prob_segment[-9]+p_rest\n",
    "    \n",
    "    choice = np.random.choice(segments, p=[prob_segment[x]/100 for x in segments])\n",
    "    return choice\n",
    "    "
   ]
  },
  {
   "cell_type": "code",
   "execution_count": 60,
   "metadata": {},
   "outputs": [
    {
     "data": {
      "text/plain": [
       "(array([0.021273, 0.      , 0.      , 0.      , 0.      , 0.      ,\n",
       "        0.      , 0.      , 0.      , 0.      , 0.059096, 0.195519,\n",
       "        0.262847, 0.159107, 0.029051, 0.00584 , 0.035218, 0.012262,\n",
       "        0.063913, 0.058437, 0.038555, 0.058882]),\n",
       " array([-9, -8, -7, -6, -5, -4, -3, -2, -1,  0,  1,  2,  3,  4,  5,  6,  7,\n",
       "         8,  9, 10, 11, 12, 13]),\n",
       " <a list of 22 Patch objects>)"
      ]
     },
     "execution_count": 60,
     "metadata": {},
     "output_type": "execute_result"
    },
    {
     "data": {
      "image/png": "[encoded data removed]",
      "text/plain": [
       "<Figure size 432x288 with 1 Axes>"
      ]
     },
     "metadata": {
      "needs_background": "light"
     },
     "output_type": "display_data"
    }
   ],
   "source": [
    "# Test der choose_segment Funktion\n",
    "test_seg = []\n",
    "for i in range(1000000):\n",
    "    test_seg.append(choose_segment())\n",
    "\n",
    "plt.hist(test_seg, bins=np.arange(-9,14), density=True)"
   ]
  },
  {
   "cell_type": "code",
   "execution_count": 38,
   "metadata": {},
   "outputs": [],
   "source": [
    "def build_car():\n",
    "    segment = choose_segment()\n",
    "    model = choose_model(segment)\n",
    "    return Electric_Vehicle(model)"
   ]
  },
  {
   "cell_type": "code",
   "execution_count": null,
   "metadata": {},
   "outputs": [],
   "source": [
    "def choose_model(segment):\n",
    "    # models als Globalvariable in EV Klasse \n",
    "    models = pd.read_excel(r\"C:\\Users\\thoma\\Desktop\\ev-modelling-repo\\Data\\EV_Modelle_Tabelle.xlsx\", index_col='Modell')\n",
    "    choices = models[models[\"Segment\"] == segment]\n",
    "    pick = np.random.randint(0, len(choices))\n",
    "    model = choices.index[pick]\n",
    "    return model"
   ]
  },
  {
   "cell_type": "code",
   "execution_count": null,
   "metadata": {},
   "outputs": [],
   "source": [
    "class Electric_Vehicle:\n",
    "    model_df = get_model_df()\n",
    "    \n",
    "    def __init__(self, model):\n",
    "        # Exception wenn model nicht in model_df?\n",
    "        models = Electric_Vehicle.model_df\n",
    "        self.MODEL = model\n",
    "        self.SEGMENT = models.at[model, \"Segment\"]\n",
    "        self.CAPACITY = models.at[model, \"Batterie\"]\n",
    "        self.CONSUMPTION = models.at[model, \"Verbrauch\"]\n",
    "        self.POWER = models.at[model, \"Leistung\"]\n",
    "\n",
    "    def get_model_df():\n",
    "       return pd.read_excel(r\"C:\\Users\\thoma\\Desktop\\ev-modelling-repo\\Data\\EV_Modelle_Tabelle.xlsx\", index_col='Modell')"
   ]
  },
  {
   "cell_type": "code",
   "execution_count": null,
   "metadata": {},
   "outputs": [],
   "source": []
  },
  {
   "cell_type": "code",
   "execution_count": 102,
   "metadata": {},
   "outputs": [],
   "source": [
    "class Electric_Vehicle:\n",
    "    model_df = pd.read_excel(r\"C:\\Users\\thoma\\Desktop\\ev-modelling-repo\\Data\\EV_Modelle_Tabelle.xlsx\", index_col='Modell')\n",
    "    segments = np.array([1, 2, 3, 4, 5, 6, 7, 8, 9, 10, 11, 12, 13, -9])\n",
    "    # prob_segment einlesen und nicht bei jeder EV Initialisierung neu definieren \n",
    "    \n",
    "    def __init__(self):\n",
    "        segment = self.choose_segment()\n",
    "        model = self.choose_model(segment)\n",
    "        self.MODEL = model\n",
    "        self.SEGMENT = Electric_Vehicle.model_df.at[model, \"Segment\"]\n",
    "        self.CAPACITY = Electric_Vehicle.model_df.at[model, \"Batterie\"]\n",
    "        self.CONSUMPTION = Electric_Vehicle.model_df.at[model, \"Verbrauch\"]\n",
    "        self.POWER = Electric_Vehicle.model_df.at[model, \"Leistung\"]\n",
    "    \n",
    "    def choose_segment(self): \n",
    "        # WICHTIG: Später errechnen und als globale Variable in Klasse speichern und nur Zugriff -> Performance\n",
    "        \n",
    "        # Beispieldaten der relativen Verteilung der Fharzeugsegmente aus MOP Studie 2016 \n",
    "        prob_segment = {\n",
    "        1 : 5.92,\n",
    "        2 : 19.58,\n",
    "        3 : 26.21,\n",
    "        4 : 15.97,\n",
    "        5 : 2.9,\n",
    "        6 : 0.58,\n",
    "        7 : 3.54,\n",
    "        8 : 1.22,\n",
    "        9 : 6.37,\n",
    "        10 : 5.86,\n",
    "        11 : 3.86,\n",
    "        12 : 0.58,\n",
    "        13 : 5.28,\n",
    "        -9 : 2.13\n",
    "        }\n",
    "        \n",
    "        # Rundungsfehler beseitigen -> sicherstellen dass sich W'keiten zu 1 aufsummieren\n",
    "        p_ges = sum(val for key, val in prob_segment.items())\n",
    "        p_rest = 100-p_ges\n",
    "        prob_segment[-9] = prob_segment[-9]+p_rest\n",
    "        \n",
    "        # wähle p zufällig auf Basis gegebener W'keiten\n",
    "        choice = np.random.choice(Electric_Vehicle.segments, p=[prob_segment[x]/100 for x in Electric_Vehicle.segments])\n",
    "        \n",
    "        # Vorerst Wahl des häufigsten Semgents bei keiner Angabe -> später überarbeiten\n",
    "        if choice == -9: \n",
    "            choice = 3\n",
    "        \n",
    "        return choice\n",
    "    \n",
    "    def choose_model(self, segment):\n",
    "        models = Electric_Vehicle.model_df\n",
    "        \n",
    "        # filtern der infragekommenden Fahrzeuge über Segment\n",
    "        choices = models[models[\"Segment\"] == segment]\n",
    "        \n",
    "        # Wahl einse zufälligen Fahrzeugs aus der Liste\n",
    "        pick = np.random.randint(0, len(choices))\n",
    "        model = choices.index[pick]\n",
    "        return model\n"
   ]
  },
  {
   "cell_type": "code",
   "execution_count": 103,
   "metadata": {},
   "outputs": [],
   "source": [
    "evs = []\n",
    "for i in range(10):\n",
    "    ev = Electric_Vehicle()\n",
    "    evs.append(ev)"
   ]
  },
  {
   "cell_type": "code",
   "execution_count": 104,
   "metadata": {},
   "outputs": [
    {
     "name": "stdout",
     "output_type": "stream",
     "text": [
      "{'MODEL': 'ZOE Z.E. 40', 'SEGMENT': 2, 'CAPACITY': 41.0, 'CONSUMPTION': 11.2, 'POWER': 68.0}\n",
      "{'MODEL': 'Fortwo electric Drive', 'SEGMENT': 1, 'CAPACITY': 17.6, 'CONSUMPTION': 12.9, 'POWER': 60.0}\n",
      "{'MODEL': 'Forfour electric Drive', 'SEGMENT': 2, 'CAPACITY': 17.6, 'CONSUMPTION': 13.1, 'POWER': 60.0}\n",
      "{'MODEL': 'Forfour electric Drive', 'SEGMENT': 2, 'CAPACITY': 17.6, 'CONSUMPTION': 13.1, 'POWER': 60.0}\n",
      "{'MODEL': 'KIA Soul EV', 'SEGMENT': 9, 'CAPACITY': 30.0, 'CONSUMPTION': 14.3, 'POWER': 81.4}\n",
      "{'MODEL': 'e-up!', 'SEGMENT': 1, 'CAPACITY': 18.7, 'CONSUMPTION': 11.7, 'POWER': 60.0}\n",
      "{'MODEL': 'e-NV200 Evalia', 'SEGMENT': array([10, 11], dtype=int64), 'CAPACITY': array([25., 25.]), 'CONSUMPTION': array([16.5, 16.5]), 'POWER': array([80., 80.])}\n",
      "{'MODEL': 'e-up!', 'SEGMENT': 1, 'CAPACITY': 18.7, 'CONSUMPTION': 11.7, 'POWER': 60.0}\n",
      "{'MODEL': 'KIA Soul EV', 'SEGMENT': 9, 'CAPACITY': 30.0, 'CONSUMPTION': 14.3, 'POWER': 81.4}\n",
      "{'MODEL': 'StreetScooter Work', 'SEGMENT': 11, 'CAPACITY': 20.0, 'CONSUMPTION': 25.0, 'POWER': 30.0}\n"
     ]
    }
   ],
   "source": [
    "for i in range(len(evs)):\n",
    "    print(vars(evs[i]))"
   ]
  },
  {
   "cell_type": "code",
   "execution_count": null,
   "metadata": {},
   "outputs": [],
   "source": []
  }
 ],
 "metadata": {
  "kernelspec": {
   "display_name": "Python 3",
   "language": "python",
   "name": "python3"
  },
  "language_info": {
   "codemirror_mode": {
    "name": "ipython",
    "version": 3
   },
   "file_extension": ".py",
   "mimetype": "text/x-python",
   "name": "python",
   "nbconvert_exporter": "python",
   "pygments_lexer": "ipython3",
   "version": "3.7.6"
  }
 },
 "nbformat": 4,
 "nbformat_minor": 4
}

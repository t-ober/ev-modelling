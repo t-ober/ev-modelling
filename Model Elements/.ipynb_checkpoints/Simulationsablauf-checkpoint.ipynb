{
 "cells": [
  {
   "cell_type": "code",
   "execution_count": 3,
   "metadata": {},
   "outputs": [],
   "source": [
    "import pandas as pd\n",
    "import numpy as np\n",
    "import matplotlib as mlp\n",
    "import matplotlib.pyplot as plt"
   ]
  },
  {
   "cell_type": "markdown",
   "metadata": {},
   "source": [
    "# Festlegen globaler Parameter der Simulation"
   ]
  },
  {
   "cell_type": "code",
   "execution_count": 4,
   "metadata": {},
   "outputs": [],
   "source": [
    "# Breite der Zeitschritte\n",
    "T_STEP = 15 \n",
    "# Anzahl zu simulierender Fahrzeuge\n",
    "EV_GES = 1000\n",
    "# Anzahl an Tagen die simuliert werden sollen \n",
    "D_TOTAL = 1\n",
    "# Tagtyp: 1 = Werktag, 2 = Samstag, 3 = Sonntag\n",
    "TYPE_D = 1 \n",
    "# Ladeszenario: 1 = nur Zuhause, 2 = Zuhause und Arbeit, 3 = Überall\n",
    "CHARGE_SCEN = 1 \n",
    "# Ladeleistung \n",
    "PCHARGE_SLOW = 3.7 "
   ]
  },
  {
   "cell_type": "markdown",
   "metadata": {},
   "source": [
    "# Initialisieren Fahrzeug"
   ]
  },
  {
   "cell_type": "code",
   "execution_count": 10,
   "metadata": {},
   "outputs": [],
   "source": [
    "class Electric_Vehicle(object):\n",
    "    model_df = pd.read_excel(r\"C:\\Users\\thoma\\Desktop\\ev-modelling-repo\\Data\\EV_Modelle_Tabelle.xlsx\", index_col='Modell')\n",
    "    segments = np.array([1, 2, 3, 4, 5, 6, 7, 8, 9, 10, 11, 12, 13, -9])\n",
    "    # prob_segment einlesen und nicht bei jeder EV Initialisierung neu definieren \n",
    "    \n",
    "    def __init__(self):\n",
    "        segment = self.choose_segment()\n",
    "        model = self.choose_model(segment)\n",
    "        self.MODEL = model\n",
    "        \n",
    "        # Bug da Modelle mehrfach in Liste keine eindeutige Zuordnung sondern Array als output -> fixed -> elegantere Lösung?\n",
    "        if np.isscalar(Electric_Vehicle.model_df.at[model, \"Segment\"]):\n",
    "            self.SEGMENT = Electric_Vehicle.model_df.at[model, \"Segment\"]\n",
    "        else:\n",
    "            self.SEGMENT = Electric_Vehicle.model_df.at[model, \"Segment\"][0]\n",
    "            \n",
    "        if np.isscalar(Electric_Vehicle.model_df.at[model, \"Batterie\"]):\n",
    "            self.CAPACITY = Electric_Vehicle.model_df.at[model, \"Batterie\"]\n",
    "        else:\n",
    "            self.CAPACITY = Electric_Vehicle.model_df.at[model, \"Batterie\"][0]\n",
    "            \n",
    "        if np.isscalar(Electric_Vehicle.model_df.at[model, \"Verbrauch\"]):\n",
    "            self.CONSUMPTION = Electric_Vehicle.model_df.at[model, \"Verbrauch\"]\n",
    "        else:\n",
    "            self.CONSUMPTION = Electric_Vehicle.model_df.at[model, \"Verbrauch\"][0]\n",
    "        \n",
    "        if np.isscalar(Electric_Vehicle.model_df.at[model, \"Leistung\"]):\n",
    "            self.POWER = Electric_Vehicle.model_df.at[model, \"Leistung\"]\n",
    "        else:\n",
    "            self.POWER = Electric_Vehicle.model_df.at[model, \"Leistung\"][0]\n",
    "            \n",
    "        self.SOC = 100\n",
    "        self.trip_no = 0\n",
    "        self.trips = []\n",
    "    \n",
    "    def choose_segment(self): \n",
    "        # WICHTIG: Später errechnen und als globale Variable in Klasse speichern und nur Zugriff -> Performance\n",
    "        \n",
    "        # Beispieldaten der relativen Verteilung der Fharzeugsegmente aus MOP Studie 2016 \n",
    "        prob_segment = {\n",
    "        1 : 5.92,\n",
    "        2 : 19.58,\n",
    "        3 : 26.21,\n",
    "        4 : 15.97,\n",
    "        5 : 2.9,\n",
    "        6 : 0.58,\n",
    "        7 : 3.54,\n",
    "        8 : 1.22,\n",
    "        9 : 6.37,\n",
    "        10 : 5.86,\n",
    "        11 : 3.86,\n",
    "        12 : 0.58,\n",
    "        13 : 5.28,\n",
    "        -9 : 2.13\n",
    "        }\n",
    "        \n",
    "        # Rundungsfehler beseitigen -> sicherstellen dass sich W'keiten zu 1 aufsummieren\n",
    "        p_ges = sum(val for key, val in prob_segment.items())\n",
    "        p_rest = 100-p_ges\n",
    "        prob_segment[-9] = prob_segment[-9]+p_rest\n",
    "        \n",
    "        # wähle p zufällig auf Basis gegebener W'keiten\n",
    "        choice = np.random.choice(Electric_Vehicle.segments, p=[prob_segment[x]/100 for x in Electric_Vehicle.segments])\n",
    "        \n",
    "        # Vorerst Wahl des häufigsten Semgents bei keiner Angabe -> später überarbeiten\n",
    "        if choice == -9: \n",
    "            choice = 3\n",
    "        \n",
    "        return choice\n",
    "    \n",
    "    def choose_model(self, segment):\n",
    "        models = Electric_Vehicle.model_df\n",
    "        \n",
    "        # filtern der infragekommenden Fahrzeuge über Segment\n",
    "        choices = models[models[\"Segment\"] == segment]\n",
    "        \n",
    "        # Wahl einse zufälligen Fahrzeugs aus der Liste\n",
    "        pick = np.random.randint(0, len(choices))\n",
    "        model = choices.index[pick]\n",
    "        return model"
   ]
  },
  {
   "cell_type": "code",
   "execution_count": 12,
   "metadata": {},
   "outputs": [],
   "source": [
    "class Trip(object):\n",
    "    \n",
    "    def __init__(self, departure=0, whyfrom):\n",
    "        # zur \n",
    "        self.departure =  departure\n",
    "        self.arrival = None\n",
    "        self.distance = None\n",
    "        self.duration = None\n",
    "        self.whyfrom = None\n",
    "        self.whyto = None"
   ]
  },
  {
   "cell_type": "code",
   "execution_count": 13,
   "metadata": {},
   "outputs": [],
   "source": [
    "# erzeugen Testfahrzeug, normalerweise Loop range(EV_GES)\n",
    "ev = Electric_Vehicle()\n",
    "# erzeugen Trip\n",
    "ev_trip = Trip(whyfrom=1)"
   ]
  },
  {
   "cell_type": "code",
   "execution_count": null,
   "metadata": {},
   "outputs": [],
   "source": []
  }
 ],
 "metadata": {
  "kernelspec": {
   "display_name": "Python 3",
   "language": "python",
   "name": "python3"
  },
  "language_info": {
   "codemirror_mode": {
    "name": "ipython",
    "version": 3
   },
   "file_extension": ".py",
   "mimetype": "text/x-python",
   "name": "python",
   "nbconvert_exporter": "python",
   "pygments_lexer": "ipython3",
   "version": "3.7.6"
  }
 },
 "nbformat": 4,
 "nbformat_minor": 4
}

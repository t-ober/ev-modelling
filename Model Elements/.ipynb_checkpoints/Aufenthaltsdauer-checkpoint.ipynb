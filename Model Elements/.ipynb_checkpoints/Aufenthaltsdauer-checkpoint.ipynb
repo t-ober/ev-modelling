{
 "cells": [
  {
   "cell_type": "markdown",
   "metadata": {},
   "source": [
    "# Aufenthaltsdauer in Zuständen aus Rohdaten"
   ]
  },
  {
   "cell_type": "markdown",
   "metadata": {},
   "source": [
    "Offenes / Unklares: \n",
    "* Wie umgehen mit Fahrten die nicht zuhause enden? \n",
    "* Wie Aufenthaltsdauer des Endzustands berechnen? ->  *Ankuftszeit Endzustand bis erste Abfahrtszeit erste Fahrt?* "
   ]
  },
  {
   "cell_type": "markdown",
   "metadata": {},
   "source": [
    "### Zustände\n",
    "\n",
    "* Zuhause -> 1\n",
    "* Arbeit -> 2 \n",
    "* Einkaufen -> 3 \n",
    "* Freizeit -> 4\n",
    "* Sonstiges -> 5"
   ]
  },
  {
   "cell_type": "code",
   "execution_count": 16,
   "metadata": {},
   "outputs": [],
   "source": [
    "import pandas as pd"
   ]
  },
  {
   "cell_type": "code",
   "execution_count": 25,
   "metadata": {},
   "outputs": [],
   "source": [
    "df = pd.read_csv(r'C:\\Users\\thoma\\Desktop\\ev-modelling-repo\\Data\\NHTS_trips_processed.csv')"
   ]
  },
  {
   "cell_type": "code",
   "execution_count": 26,
   "metadata": {},
   "outputs": [],
   "source": [
    "df[\"aufenthalt\"] = 0"
   ]
  },
  {
   "cell_type": "code",
   "execution_count": 27,
   "metadata": {},
   "outputs": [
    {
     "data": {
      "text/html": [
       "<div>\n",
       "<style scoped>\n",
       "    .dataframe tbody tr th:only-of-type {\n",
       "        vertical-align: middle;\n",
       "    }\n",
       "\n",
       "    .dataframe tbody tr th {\n",
       "        vertical-align: top;\n",
       "    }\n",
       "\n",
       "    .dataframe thead th {\n",
       "        text-align: right;\n",
       "    }\n",
       "</style>\n",
       "<table border=\"1\" class=\"dataframe\">\n",
       "  <thead>\n",
       "    <tr style=\"text-align: right;\">\n",
       "      <th></th>\n",
       "      <th>ID</th>\n",
       "      <th>ST_WOTAG</th>\n",
       "      <th>WHYFROM</th>\n",
       "      <th>zweck</th>\n",
       "      <th>W_NR</th>\n",
       "      <th>TRPTRANS</th>\n",
       "      <th>wegkm</th>\n",
       "      <th>wegmin_imp1</th>\n",
       "      <th>W_SZ</th>\n",
       "      <th>W_AZ</th>\n",
       "      <th>W_SZ_MIN</th>\n",
       "      <th>W_AZ_MIN</th>\n",
       "      <th>aufenthalt</th>\n",
       "    </tr>\n",
       "  </thead>\n",
       "  <tbody>\n",
       "    <tr>\n",
       "      <th>0</th>\n",
       "      <td>130000007</td>\n",
       "      <td>1</td>\n",
       "      <td>1</td>\n",
       "      <td>4</td>\n",
       "      <td>1</td>\n",
       "      <td>3</td>\n",
       "      <td>8.439</td>\n",
       "      <td>15</td>\n",
       "      <td>1000</td>\n",
       "      <td>1015</td>\n",
       "      <td>600</td>\n",
       "      <td>615</td>\n",
       "      <td>0</td>\n",
       "    </tr>\n",
       "    <tr>\n",
       "      <th>1</th>\n",
       "      <td>130000007</td>\n",
       "      <td>1</td>\n",
       "      <td>4</td>\n",
       "      <td>1</td>\n",
       "      <td>2</td>\n",
       "      <td>3</td>\n",
       "      <td>8.286</td>\n",
       "      <td>20</td>\n",
       "      <td>1510</td>\n",
       "      <td>1530</td>\n",
       "      <td>910</td>\n",
       "      <td>930</td>\n",
       "      <td>0</td>\n",
       "    </tr>\n",
       "    <tr>\n",
       "      <th>2</th>\n",
       "      <td>230000007</td>\n",
       "      <td>1</td>\n",
       "      <td>2</td>\n",
       "      <td>1</td>\n",
       "      <td>1</td>\n",
       "      <td>6</td>\n",
       "      <td>135.191</td>\n",
       "      <td>120</td>\n",
       "      <td>700</td>\n",
       "      <td>900</td>\n",
       "      <td>420</td>\n",
       "      <td>540</td>\n",
       "      <td>0</td>\n",
       "    </tr>\n",
       "    <tr>\n",
       "      <th>3</th>\n",
       "      <td>230000007</td>\n",
       "      <td>1</td>\n",
       "      <td>1</td>\n",
       "      <td>2</td>\n",
       "      <td>2</td>\n",
       "      <td>6</td>\n",
       "      <td>131.367</td>\n",
       "      <td>150</td>\n",
       "      <td>1800</td>\n",
       "      <td>2030</td>\n",
       "      <td>1080</td>\n",
       "      <td>1230</td>\n",
       "      <td>0</td>\n",
       "    </tr>\n",
       "    <tr>\n",
       "      <th>4</th>\n",
       "      <td>330000007</td>\n",
       "      <td>1</td>\n",
       "      <td>1</td>\n",
       "      <td>2</td>\n",
       "      <td>1</td>\n",
       "      <td>3</td>\n",
       "      <td>3.621</td>\n",
       "      <td>15</td>\n",
       "      <td>845</td>\n",
       "      <td>900</td>\n",
       "      <td>525</td>\n",
       "      <td>540</td>\n",
       "      <td>0</td>\n",
       "    </tr>\n",
       "  </tbody>\n",
       "</table>\n",
       "</div>"
      ],
      "text/plain": [
       "          ID  ST_WOTAG  WHYFROM  zweck  W_NR  TRPTRANS    wegkm  wegmin_imp1  \\\n",
       "0  130000007         1        1      4     1         3    8.439           15   \n",
       "1  130000007         1        4      1     2         3    8.286           20   \n",
       "2  230000007         1        2      1     1         6  135.191          120   \n",
       "3  230000007         1        1      2     2         6  131.367          150   \n",
       "4  330000007         1        1      2     1         3    3.621           15   \n",
       "\n",
       "   W_SZ  W_AZ  W_SZ_MIN  W_AZ_MIN  aufenthalt  \n",
       "0  1000  1015       600       615           0  \n",
       "1  1510  1530       910       930           0  \n",
       "2   700   900       420       540           0  \n",
       "3  1800  2030      1080      1230           0  \n",
       "4   845   900       525       540           0  "
      ]
     },
     "execution_count": 27,
     "metadata": {},
     "output_type": "execute_result"
    }
   ],
   "source": [
    "df.head()"
   ]
  },
  {
   "cell_type": "code",
   "execution_count": 73,
   "metadata": {},
   "outputs": [
    {
     "data": {
      "text/html": [
       "<div>\n",
       "<style scoped>\n",
       "    .dataframe tbody tr th:only-of-type {\n",
       "        vertical-align: middle;\n",
       "    }\n",
       "\n",
       "    .dataframe tbody tr th {\n",
       "        vertical-align: top;\n",
       "    }\n",
       "\n",
       "    .dataframe thead th {\n",
       "        text-align: right;\n",
       "    }\n",
       "</style>\n",
       "<table border=\"1\" class=\"dataframe\">\n",
       "  <thead>\n",
       "    <tr style=\"text-align: right;\">\n",
       "      <th></th>\n",
       "      <th>ID</th>\n",
       "      <th>ST_WOTAG</th>\n",
       "      <th>WHYFROM</th>\n",
       "      <th>zweck</th>\n",
       "      <th>W_NR</th>\n",
       "      <th>TRPTRANS</th>\n",
       "      <th>wegkm</th>\n",
       "      <th>wegmin_imp1</th>\n",
       "      <th>W_SZ</th>\n",
       "      <th>W_AZ</th>\n",
       "      <th>W_SZ_MIN</th>\n",
       "      <th>W_AZ_MIN</th>\n",
       "      <th>aufenthalt</th>\n",
       "    </tr>\n",
       "  </thead>\n",
       "  <tbody>\n",
       "    <tr>\n",
       "      <th>2</th>\n",
       "      <td>230000007</td>\n",
       "      <td>1</td>\n",
       "      <td>2</td>\n",
       "      <td>1</td>\n",
       "      <td>1</td>\n",
       "      <td>6</td>\n",
       "      <td>135.191</td>\n",
       "      <td>120</td>\n",
       "      <td>700</td>\n",
       "      <td>900</td>\n",
       "      <td>420</td>\n",
       "      <td>540</td>\n",
       "      <td>0</td>\n",
       "    </tr>\n",
       "    <tr>\n",
       "      <th>3</th>\n",
       "      <td>230000007</td>\n",
       "      <td>1</td>\n",
       "      <td>1</td>\n",
       "      <td>2</td>\n",
       "      <td>2</td>\n",
       "      <td>6</td>\n",
       "      <td>131.367</td>\n",
       "      <td>150</td>\n",
       "      <td>1800</td>\n",
       "      <td>2030</td>\n",
       "      <td>1080</td>\n",
       "      <td>1230</td>\n",
       "      <td>0</td>\n",
       "    </tr>\n",
       "  </tbody>\n",
       "</table>\n",
       "</div>"
      ],
      "text/plain": [
       "          ID  ST_WOTAG  WHYFROM  zweck  W_NR  TRPTRANS    wegkm  wegmin_imp1  \\\n",
       "2  230000007         1        2      1     1         6  135.191          120   \n",
       "3  230000007         1        1      2     2         6  131.367          150   \n",
       "\n",
       "   W_SZ  W_AZ  W_SZ_MIN  W_AZ_MIN  aufenthalt  \n",
       "2   700   900       420       540           0  \n",
       "3  1800  2030      1080      1230           0  "
      ]
     },
     "execution_count": 73,
     "metadata": {},
     "output_type": "execute_result"
    }
   ],
   "source": [
    "test = df[df[\"ID\"] == 230000007]\n",
    "test.head()"
   ]
  },
  {
   "cell_type": "code",
   "execution_count": 29,
   "metadata": {},
   "outputs": [],
   "source": [
    "person_grpd = df.groupby(['ID'])"
   ]
  },
  {
   "cell_type": "markdown",
   "metadata": {},
   "source": [
    "### ACHTUNG: Indizieren Spalte \"aufenhthalt\" über index -> Funktion bricht wenn wenn sich Spaltenindex ändert\n",
    "* **Idee: Nutzen W_NR als Index in Groupby Objekten und dann Zugriff über .at -> Multiindex?** "
   ]
  },
  {
   "cell_type": "code",
   "execution_count": 94,
   "metadata": {},
   "outputs": [],
   "source": [
    "# ACHTUNG: Indizieren Spalte Aufenthalt über Index \n",
    "def calc_aufenthalt(group):\n",
    "    for i in range(len(group)): \n",
    "        if i == len(group)-1:\n",
    "            # Annahme: Aufenthalt im letzten Zustand = Zeitdauer bis zur ersten Fahrt des Tages\n",
    "            start_first_trip = group.iloc[0][\"W_SZ_MIN\"]\n",
    "            end_last_trip =  group.iloc[i][\"W_AZ_MIN\"]\n",
    "            \n",
    "            # Gesamtaufenthalt = Rest des Tages + Dauer bis zum ersten Trip\n",
    "            group.iat[i,12] = 1440 - end_last_trip + start_first_trip\n",
    "        else:\n",
    "            # Aufenthalt im Zustand \"zweck\" = Abfahrtszeit vom Zustand(= Startzeit nächster Trip) [in min] - Ankunftszeit im Zustand [in min]  \n",
    "            group.iat[i,12] = group.iloc[i+1][\"W_SZ_MIN\"] - group.iloc[i][\"W_AZ_MIN\"] \n",
    "    "
   ]
  },
  {
   "cell_type": "code",
   "execution_count": 90,
   "metadata": {},
   "outputs": [
    {
     "name": "stdout",
     "output_type": "stream",
     "text": [
      "0\n",
      "1\n"
     ]
    }
   ],
   "source": [
    "calc_aufenthalt(test)\n",
    "test"
   ]
  },
  {
   "cell_type": "code",
   "execution_count": 95,
   "metadata": {},
   "outputs": [],
   "source": [
    "for name, group in person_grpd:\n",
    "    calc_aufenthalt(group)\n",
    "    "
   ]
  },
  {
   "cell_type": "code",
   "execution_count": 97,
   "metadata": {},
   "outputs": [
    {
     "data": {
      "text/plain": [
       "<pandas.core.groupby.generic.DataFrameGroupBy object at 0x00000145D6D0D748>"
      ]
     },
     "execution_count": 97,
     "metadata": {},
     "output_type": "execute_result"
    }
   ],
   "source": [
    "person_grpd"
   ]
  },
  {
   "cell_type": "code",
   "execution_count": null,
   "metadata": {},
   "outputs": [],
   "source": [
    "data = pd.DataFrame()"
   ]
  },
  {
   "cell_type": "code",
   "execution_count": null,
   "metadata": {},
   "outputs": [],
   "source": [
    "for name, group in person_grpd:\n",
    "    data = data.append(group)"
   ]
  },
  {
   "cell_type": "code",
   "execution_count": null,
   "metadata": {},
   "outputs": [],
   "source": [
    "data.head()"
   ]
  },
  {
   "cell_type": "code",
   "execution_count": null,
   "metadata": {},
   "outputs": [],
   "source": [
    "test1 = df[df[\"ID\"] == 130000007]\n",
    "test2 = df[df[\"ID\"] == 230000007]"
   ]
  }
 ],
 "metadata": {
  "kernelspec": {
   "display_name": "Python 3",
   "language": "python",
   "name": "python3"
  },
  "language_info": {
   "codemirror_mode": {
    "name": "ipython",
    "version": 3
   },
   "file_extension": ".py",
   "mimetype": "text/x-python",
   "name": "python",
   "nbconvert_exporter": "python",
   "pygments_lexer": "ipython3",
   "version": "3.7.6"
  }
 },
 "nbformat": 4,
 "nbformat_minor": 4
}

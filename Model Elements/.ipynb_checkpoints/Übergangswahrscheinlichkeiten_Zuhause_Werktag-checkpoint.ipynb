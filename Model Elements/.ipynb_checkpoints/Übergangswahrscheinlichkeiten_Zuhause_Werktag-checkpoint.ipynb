{
 "cells": [
  {
   "cell_type": "markdown",
   "metadata": {},
   "source": [
    "# Übergangswahrscheinlichkeiten\n",
    "###  Bestimme relative Übergangswahrscheinlichkeiten vom Zustand Zuhause an Werktagen in Abhängigkeit des Zeitschrittes"
   ]
  },
  {
   "cell_type": "markdown",
   "metadata": {},
   "source": [
    "### Zustände\n",
    "\n",
    "* Zuhause -> 1\n",
    "* Arbeit -> 2 \n",
    "* Einkaufen -> 3 \n",
    "* Freizeit -> 4\n",
    "* Sonstiges -> 5"
   ]
  },
  {
   "cell_type": "code",
   "execution_count": 95,
   "metadata": {},
   "outputs": [],
   "source": [
    "%matplotlib inline\n",
    "import numpy as np\n",
    "import pandas as pd\n",
    "import matplotlib as mlp\n",
    "import matplotlib.pyplot as plt"
   ]
  },
  {
   "cell_type": "code",
   "execution_count": 96,
   "metadata": {},
   "outputs": [],
   "source": [
    "df = pd.read_csv(\"C:\\\\Users\\\\thoma\\\\Desktop\\\\ev-modelling-repo\\\\Data\\\\NHTS_trips_processed.csv\")"
   ]
  },
  {
   "cell_type": "code",
   "execution_count": 97,
   "metadata": {},
   "outputs": [
    {
     "data": {
      "text/html": [
       "<div>\n",
       "<style scoped>\n",
       "    .dataframe tbody tr th:only-of-type {\n",
       "        vertical-align: middle;\n",
       "    }\n",
       "\n",
       "    .dataframe tbody tr th {\n",
       "        vertical-align: top;\n",
       "    }\n",
       "\n",
       "    .dataframe thead th {\n",
       "        text-align: right;\n",
       "    }\n",
       "</style>\n",
       "<table border=\"1\" class=\"dataframe\">\n",
       "  <thead>\n",
       "    <tr style=\"text-align: right;\">\n",
       "      <th></th>\n",
       "      <th>ID</th>\n",
       "      <th>ST_WOTAG</th>\n",
       "      <th>WHYFROM</th>\n",
       "      <th>zweck</th>\n",
       "      <th>W_NR</th>\n",
       "      <th>TRPTRANS</th>\n",
       "      <th>wegkm</th>\n",
       "      <th>wegmin_imp1</th>\n",
       "      <th>W_SZ</th>\n",
       "      <th>W_AZ</th>\n",
       "      <th>W_SZ_MIN</th>\n",
       "      <th>W_AZ_MIN</th>\n",
       "      <th>W_SZ_t</th>\n",
       "    </tr>\n",
       "  </thead>\n",
       "  <tbody>\n",
       "    <tr>\n",
       "      <th>0</th>\n",
       "      <td>300000071</td>\n",
       "      <td>1</td>\n",
       "      <td>1</td>\n",
       "      <td>4</td>\n",
       "      <td>1</td>\n",
       "      <td>3</td>\n",
       "      <td>8.439</td>\n",
       "      <td>15</td>\n",
       "      <td>1000</td>\n",
       "      <td>1015</td>\n",
       "      <td>600</td>\n",
       "      <td>615</td>\n",
       "      <td>40</td>\n",
       "    </tr>\n",
       "    <tr>\n",
       "      <th>1</th>\n",
       "      <td>300000071</td>\n",
       "      <td>1</td>\n",
       "      <td>4</td>\n",
       "      <td>1</td>\n",
       "      <td>2</td>\n",
       "      <td>3</td>\n",
       "      <td>8.286</td>\n",
       "      <td>20</td>\n",
       "      <td>1510</td>\n",
       "      <td>1530</td>\n",
       "      <td>910</td>\n",
       "      <td>930</td>\n",
       "      <td>61</td>\n",
       "    </tr>\n",
       "    <tr>\n",
       "      <th>2</th>\n",
       "      <td>300000072</td>\n",
       "      <td>1</td>\n",
       "      <td>2</td>\n",
       "      <td>1</td>\n",
       "      <td>1</td>\n",
       "      <td>6</td>\n",
       "      <td>135.191</td>\n",
       "      <td>120</td>\n",
       "      <td>700</td>\n",
       "      <td>900</td>\n",
       "      <td>420</td>\n",
       "      <td>540</td>\n",
       "      <td>28</td>\n",
       "    </tr>\n",
       "    <tr>\n",
       "      <th>3</th>\n",
       "      <td>300000072</td>\n",
       "      <td>1</td>\n",
       "      <td>1</td>\n",
       "      <td>2</td>\n",
       "      <td>2</td>\n",
       "      <td>6</td>\n",
       "      <td>131.367</td>\n",
       "      <td>150</td>\n",
       "      <td>1800</td>\n",
       "      <td>2030</td>\n",
       "      <td>1080</td>\n",
       "      <td>1230</td>\n",
       "      <td>72</td>\n",
       "    </tr>\n",
       "    <tr>\n",
       "      <th>4</th>\n",
       "      <td>300000073</td>\n",
       "      <td>1</td>\n",
       "      <td>1</td>\n",
       "      <td>2</td>\n",
       "      <td>1</td>\n",
       "      <td>3</td>\n",
       "      <td>3.621</td>\n",
       "      <td>15</td>\n",
       "      <td>845</td>\n",
       "      <td>900</td>\n",
       "      <td>525</td>\n",
       "      <td>540</td>\n",
       "      <td>35</td>\n",
       "    </tr>\n",
       "  </tbody>\n",
       "</table>\n",
       "</div>"
      ],
      "text/plain": [
       "          ID  ST_WOTAG  WHYFROM  zweck  W_NR  TRPTRANS    wegkm  wegmin_imp1  \\\n",
       "0  300000071         1        1      4     1         3    8.439           15   \n",
       "1  300000071         1        4      1     2         3    8.286           20   \n",
       "2  300000072         1        2      1     1         6  135.191          120   \n",
       "3  300000072         1        1      2     2         6  131.367          150   \n",
       "4  300000073         1        1      2     1         3    3.621           15   \n",
       "\n",
       "   W_SZ  W_AZ  W_SZ_MIN  W_AZ_MIN  W_SZ_t  \n",
       "0  1000  1015       600       615      40  \n",
       "1  1510  1530       910       930      61  \n",
       "2   700   900       420       540      28  \n",
       "3  1800  2030      1080      1230      72  \n",
       "4   845   900       525       540      35  "
      ]
     },
     "execution_count": 97,
     "metadata": {},
     "output_type": "execute_result"
    }
   ],
   "source": [
    "df.head()"
   ]
  },
  {
   "cell_type": "markdown",
   "metadata": {},
   "source": [
    "## Beschränkung auf Werktage"
   ]
  },
  {
   "cell_type": "code",
   "execution_count": 98,
   "metadata": {},
   "outputs": [],
   "source": [
    "filt = df[\"ST_WOTAG\"] < 6\n",
    "df = df[filt]"
   ]
  },
  {
   "cell_type": "code",
   "execution_count": 99,
   "metadata": {},
   "outputs": [
    {
     "data": {
      "text/plain": [
       "5    154049\n",
       "4    150812\n",
       "3    147798\n",
       "2    147502\n",
       "1    137379\n",
       "Name: ST_WOTAG, dtype: int64"
      ]
     },
     "execution_count": 99,
     "metadata": {},
     "output_type": "execute_result"
    }
   ],
   "source": [
    "df[\"ST_WOTAG\"].value_counts()"
   ]
  },
  {
   "cell_type": "markdown",
   "metadata": {},
   "source": [
    "## Filtern nach Ausgangszuständen"
   ]
  },
  {
   "cell_type": "code",
   "execution_count": 100,
   "metadata": {},
   "outputs": [],
   "source": [
    "zuhause = df[df[\"WHYFROM\"]==1]\n",
    "\n",
    "arbeit = df[df[\"WHYFROM\"]==2]\n",
    "\n",
    "einkaufen = df[df[\"WHYFROM\"]==3]\n",
    "\n",
    "freizeit = df[df[\"WHYFROM\"]==4]\n",
    "\n",
    "sonstiges = df[df[\"WHYFROM\"]==5]\n"
   ]
  },
  {
   "cell_type": "code",
   "execution_count": 101,
   "metadata": {},
   "outputs": [],
   "source": [
    "# Vernachlässige Rundreisen\n",
    "zuhause = zuhause[zuhause[\"zweck\"] != 1]\n",
    "arbeit = arbeit[arbeit[\"zweck\"] != 2]\n",
    "einkaufen = einkaufen[einkaufen[\"zweck\"] != 3]\n",
    "freizeit = freizeit[freizeit[\"zweck\"] != 4]\n",
    "sonstiges = sonstiges[sonstiges[\"zweck\"] != 5]"
   ]
  },
  {
   "cell_type": "markdown",
   "metadata": {},
   "source": [
    "## Gruppieren der Trips nach Zeitschrit t des Wegbeginns"
   ]
  },
  {
   "cell_type": "code",
   "execution_count": 102,
   "metadata": {},
   "outputs": [],
   "source": [
    "zuhause_grpd = zuhause.groupby([\"W_SZ_t\"])\n",
    "arbeit_grpd = arbeit.groupby([\"W_SZ_t\"])\n",
    "einkaufen_grpd = einkaufen.groupby([\"W_SZ_t\"])\n",
    "freizeit_grpd = freizeit.groupby([\"W_SZ_t\"])\n",
    "sonstiges_grpd = sonstiges.groupby([\"W_SZ_t\"])"
   ]
  },
  {
   "cell_type": "markdown",
   "metadata": {},
   "source": [
    "## Zuordnen der relativen Übergangswahrscheinlichkeiten zu den anderen Zuständen in jedem Zeitschritt"
   ]
  },
  {
   "cell_type": "code",
   "execution_count": 103,
   "metadata": {},
   "outputs": [],
   "source": [
    "zuhause_arbeit = [0 for i in range(97)]\n",
    "zuhause_einkaufen = [0 for i in range(97)]\n",
    "zuhause_freizeit = [0 for i in range(97)]\n",
    "zuhause_sonstiges = [0 for i in range(97)]\n",
    "\n",
    "arbeit_zuhause = [0 for i in range(97)]\n",
    "arbeit_einkaufen = [0 for i in range(97)]\n",
    "arbeit_freizeit = [0 for i in range(97)]\n",
    "arbeit_sonstiges = [0 for i in range(97)]\n",
    "\n",
    "einkaufen_arbeit = [0 for i in range(97)]\n",
    "einkaufen_zuhause = [0 for i in range(97)]\n",
    "einkaufen_freizeit = [0 for i in range(97)]\n",
    "einkaufen_sonstiges = [0 for i in range(97)]\n",
    "\n",
    "freizeit_arbeit = [0 for i in range(97)]\n",
    "freizeit_einkaufen = [0 for i in range(97)]\n",
    "freizeit_zuhause = [0 for i in range(97)]\n",
    "freizeit_sonstiges = [0 for i in range(97)]\n",
    "\n",
    "sonstiges_arbeit = [0 for i in range(97)]\n",
    "sonstiges_einkaufen = [0 for i in range(97)]\n",
    "sonstiges_freizeit = [0 for i in range(97)]\n",
    "sonstiges_zuhause = [0 for i in range(97)]"
   ]
  },
  {
   "cell_type": "code",
   "execution_count": 104,
   "metadata": {},
   "outputs": [],
   "source": [
    "# zähle relative Häufigkeit der Trips zum gegebenen Zustand in Zeitschritt t\n",
    "for t, group in zuhause_grpd:\n",
    "    counts = group[\"zweck\"].value_counts(normalize=True)\n",
    "    if counts.get(2):\n",
    "        zuhause_arbeit[t] = counts.get(2)\n",
    "    if counts.get(3):\n",
    "        zuhause_einkaufen[t] = counts.get(3)\n",
    "    if counts.get(4):\n",
    "        zuhause_freizeit[t] = counts.get(4)\n",
    "    if counts.get(5):\n",
    "        zuhause_sonstiges[t] = counts.get(5)"
   ]
  },
  {
   "cell_type": "code",
   "execution_count": 105,
   "metadata": {},
   "outputs": [],
   "source": [
    "for t, group in arbeit_grpd:\n",
    "    counts = group[\"zweck\"].value_counts(normalize=True)\n",
    "    if counts.get(1):\n",
    "        arbeit_zuhause[t] = counts.get(1)\n",
    "    if counts.get(3):\n",
    "        arbeit_einkaufen[t] = counts.get(3)\n",
    "    if counts.get(4):\n",
    "        arbeit_freizeit[t] = counts.get(4)\n",
    "    if counts.get(5):\n",
    "        arbeit_sonstiges[t] = counts.get(5)"
   ]
  },
  {
   "cell_type": "code",
   "execution_count": 106,
   "metadata": {},
   "outputs": [],
   "source": [
    "for t, group in einkaufen_grpd:\n",
    "    counts = group[\"zweck\"].value_counts(normalize=True)\n",
    "    if counts.get(1):\n",
    "        einkaufen_zuhause[t] = counts.get(1)\n",
    "    if counts.get(2):\n",
    "        einkaufen_arbeit[t] = counts.get(2)\n",
    "    if counts.get(4):\n",
    "        einkaufen_freizeit[t] = counts.get(4)\n",
    "    if counts.get(5):\n",
    "        einkaufen_sonstiges[t] = counts.get(5)"
   ]
  },
  {
   "cell_type": "code",
   "execution_count": 129,
   "metadata": {},
   "outputs": [],
   "source": [
    "for t, group in freizeit_grpd:\n",
    "    counts = group[\"zweck\"].value_counts(normalize=True)\n",
    "    if counts.get(1):\n",
    "        freizeit_zuhause[t] = counts.get(1)\n",
    "    if counts.get(2):\n",
    "        freizeit_arbeit[t] = counts.get(2)\n",
    "    if counts.get(3):\n",
    "        freizeit_einkaufen[t] = counts.get(3)\n",
    "    if counts.get(5):\n",
    "        freizeit_sonstiges[t] = counts.get(5)"
   ]
  },
  {
   "cell_type": "code",
   "execution_count": 130,
   "metadata": {},
   "outputs": [],
   "source": [
    "for t, group in sonstiges_grpd:\n",
    "    counts = group[\"zweck\"].value_counts(normalize=True)\n",
    "    if counts.get(1):\n",
    "        sonstiges_zuhause[t] = counts.get(1)\n",
    "    if counts.get(2):\n",
    "        sonstiges_arbeit[t] = counts.get(2)\n",
    "    if counts.get(3):\n",
    "        sonstiges_einkaufen[t] = counts.get(3)\n",
    "    if counts.get(4):\n",
    "        sonstiges_freizeit[t] = counts.get(4)"
   ]
  },
  {
   "cell_type": "markdown",
   "metadata": {},
   "source": [
    "## Visualisierung"
   ]
  },
  {
   "cell_type": "code",
   "execution_count": 131,
   "metadata": {},
   "outputs": [
    {
     "data": {
      "image/png": "[encoded data removed]",
      "text/plain": [
       "<Figure size 1008x576 with 1 Axes>"
      ]
     },
     "metadata": {
      "needs_background": "light"
     },
     "output_type": "display_data"
    }
   ],
   "source": [
    "plt.figure(figsize=(14,8))\n",
    "x = np.linspace(0,96, 97)\n",
    "plt.bar(x, zuhause_arbeit, label=\"Arbeit\", color='#FF595E');\n",
    "plt.bar(x, zuhause_einkaufen, bottom=zuhause_arbeit, label=\"Einkaufen\", color='#8AC926');\n",
    "plt.bar(x, zuhause_freizeit, bottom=[i+j for i,j in zip(zuhause_arbeit,zuhause_einkaufen)], label=\"Freizeit\", color='#1982C4');\n",
    "plt.bar(x, zuhause_sonstiges, bottom=[i+j+k for i,j,k in zip(zuhause_arbeit,zuhause_einkaufen,zuhause_freizeit)], label=\"Sonstiges\", color='#6A4C93');\n",
    "plt.xlabel(\"Zeitschritt t in 15 Minuten\")\n",
    "plt.ylabel(\"relative Wahrscheinlichkeit\")\n",
    "plt.box(on=None)\n",
    "plt.title(\"Wahrscheinlichkeit der Tripziele bei Ursprung \\\"Zuhause\\\"\");\n",
    "plt.tick_params(top=False, bottom=False, left=False, right=False, labelbottom=True)\n",
    "plt.legend();\n"
   ]
  },
  {
   "cell_type": "code",
   "execution_count": 142,
   "metadata": {},
   "outputs": [
    {
     "data": {
      "image/png": "[encoded data removed]",
      "text/plain": [
       "<Figure size 1440x1440 with 5 Axes>"
      ]
     },
     "metadata": {
      "needs_background": "light"
     },
     "output_type": "display_data"
    }
   ],
   "source": [
    "fig, ((ax1, ax2), (ax3, ax4), (ax5, ax6)) = plt.subplots(3, 2, figsize=(20,20), sharey=True)\n",
    "x = np.linspace(0,96, 97)\n",
    "ax1.bar(x, zuhause_arbeit, label=\"Arbeit\", color='#FF595E');\n",
    "ax1.bar(x, zuhause_einkaufen, bottom=zuhause_arbeit, label=\"Einkaufen\", color='#8AC926');\n",
    "ax1.bar(x, zuhause_freizeit, bottom=[i+j for i,j in zip(zuhause_arbeit,zuhause_einkaufen)], label=\"Freizeit\", color='#1982C4');\n",
    "ax1.bar(x, zuhause_sonstiges, bottom=[i+j+k for i,j,k in zip(zuhause_arbeit,zuhause_einkaufen,zuhause_freizeit)], label=\"Sonstiges\", color='#6A4C93');\n",
    "ax1.legend()\n",
    "\n",
    "ax2.bar(x, arbeit_zuhause, label=\"Zuhause\", color='#FFCA3A');\n",
    "ax2.bar(x, arbeit_einkaufen, bottom=arbeit_zuhause, label=\"Einkaufen\", color='#8AC926');\n",
    "ax2.bar(x, arbeit_freizeit, bottom=[i+j for i,j in zip(arbeit_zuhause,arbeit_einkaufen)], label=\"Freizeit\", color='#1982C4');\n",
    "ax2.bar(x, arbeit_sonstiges, bottom=[i+j+k for i,j,k in zip(arbeit_zuhause,arbeit_einkaufen,arbeit_freizeit)], label=\"Sonstiges\", color='#6A4C93')\n",
    "\n",
    "ax3.bar(x, einkaufen_zuhause, label=\"Zuhause\", color='#FFCA3A');\n",
    "ax3.bar(x, einkaufen_arbeit, bottom=einkaufen_zuhause, label=\"Arbeit\", color='#FF595E');\n",
    "ax3.bar(x, einkaufen_freizeit, bottom=[i+j for i,j in zip(einkaufen_zuhause,einkaufen_arbeit)], label=\"Freizeit\", color='#1982C4');\n",
    "ax3.bar(x, einkaufen_sonstiges, bottom=[i+j+k for i,j,k in zip(einkaufen_zuhause,einkaufen_arbeit,einkaufen_freizeit)], label=\"Sonstiges\", color='#6A4C93')\n",
    "ax3.legend()\n",
    "\n",
    "ax4.bar(x, freizeit_zuhause, label=\"Zuhause\", color='#FFCA3A');\n",
    "ax4.bar(x, freizeit_arbeit, bottom=freizeit_zuhause, label=\"Arbeit\", color='#FF595E');\n",
    "ax4.bar(x, freizeit_einkaufen, bottom=[i+j for i,j in zip(freizeit_zuhause,freizeit_arbeit)], label=\"Einkaufen\", color='#8AC926');\n",
    "ax4.bar(x, freizeit_sonstiges, bottom=[i+j+k for i,j,k in zip(freizeit_zuhause,freizeit_arbeit,freizeit_einkaufen)], label=\"Sonstiges\", color='#6A4C93')\n",
    "\n",
    "ax5.bar(x, sonstiges_zuhause, label=\"Zuhause\", color='#FFCA3A');\n",
    "ax5.bar(x, sonstiges_arbeit, bottom=sonstiges_zuhause, label=\"Arbeit\", color='#FF595E');\n",
    "ax5.bar(x, sonstiges_einkaufen, bottom=[i+j for i,j in zip(sonstiges_zuhause,sonstiges_arbeit)], label=\"Einkaufen\", color='#8AC926');\n",
    "ax5.bar(x, sonstiges_freizeit, bottom=[i+j+k for i,j,k in zip(sonstiges_zuhause,sonstiges_arbeit,sonstiges_einkaufen)], label=\"Freizeit\", color='#1982C4')\n",
    "ax5.legend()\n",
    "\n",
    "fig.delaxes(ax6)"
   ]
  },
  {
   "cell_type": "code",
   "execution_count": 133,
   "metadata": {},
   "outputs": [
    {
     "data": {
      "text/plain": [
       "[0.03773584905660377,\n",
       " 0.02702702702702703,\n",
       " 0.03305785123966942,\n",
       " 0,\n",
       " 0.011111111111111112,\n",
       " 0,\n",
       " 0.034482758620689655,\n",
       " 0,\n",
       " 0,\n",
       " 0.10526315789473684,\n",
       " 0,\n",
       " 0,\n",
       " 0,\n",
       " 0,\n",
       " 0,\n",
       " 0,\n",
       " 0,\n",
       " 0.047619047619047616,\n",
       " 0.09090909090909091,\n",
       " 0.020833333333333332,\n",
       " 0.05128205128205128,\n",
       " 0.050505050505050504,\n",
       " 0.02158273381294964,\n",
       " 0.04878048780487805,\n",
       " 0.032679738562091505,\n",
       " 0.06806282722513089,\n",
       " 0.060669456066945605,\n",
       " 0.05612244897959184,\n",
       " 0.06841339155749636,\n",
       " 0.08310626702997276,\n",
       " 0.09375,\n",
       " 0.10079275198187995,\n",
       " 0.14423076923076922,\n",
       " 0.1735159817351598,\n",
       " 0.20212765957446807,\n",
       " 0.2294557097118463,\n",
       " 0.2796680497925311,\n",
       " 0.32239925023430177,\n",
       " 0.33631921824104233,\n",
       " 0.34995206136145734,\n",
       " 0.36268754076973253,\n",
       " 0.3609022556390977,\n",
       " 0.35205479452054794,\n",
       " 0.3855120732722731,\n",
       " 0.3519061583577713,\n",
       " 0.3300455235204856,\n",
       " 0.3482587064676617,\n",
       " 0.3166180758017493,\n",
       " 0.28666371289322107,\n",
       " 0.2560771165129925,\n",
       " 0.26424327158336247,\n",
       " 0.23935018050541515,\n",
       " 0.26024397873005944,\n",
       " 0.26865671641791045,\n",
       " 0.2987208427389014,\n",
       " 0.29274479959411465,\n",
       " 0.3063901819720694,\n",
       " 0.2970112079701121,\n",
       " 0.2836744407425036,\n",
       " 0.2994772218073189,\n",
       " 0.28274428274428276,\n",
       " 0.25177809388335703,\n",
       " 0.24547511312217193,\n",
       " 0.24353954581049334,\n",
       " 0.19789674952198852,\n",
       " 0.22434017595307917,\n",
       " 0.17814456459874786,\n",
       " 0.17701863354037267,\n",
       " 0.13127413127413126,\n",
       " 0.12896825396825398,\n",
       " 0.14599686028257458,\n",
       " 0.1611883691529709,\n",
       " 0.12440809298321137,\n",
       " 0.13353566009104703,\n",
       " 0.12759170653907495,\n",
       " 0.10684161199625117,\n",
       " 0.11912225705329153,\n",
       " 0.10390804597701149,\n",
       " 0.09737827715355805,\n",
       " 0.10482758620689656,\n",
       " 0.0819620253164557,\n",
       " 0.08799342105263158,\n",
       " 0.06414414414414414,\n",
       " 0.0581039755351682,\n",
       " 0.052142279708973324,\n",
       " 0.043882978723404256,\n",
       " 0.03876404494382023,\n",
       " 0.041425818882466284,\n",
       " 0.033962264150943396,\n",
       " 0.04153846153846154,\n",
       " 0.033623910336239106,\n",
       " 0.035443037974683546,\n",
       " 0.0196078431372549,\n",
       " 0.024691358024691357,\n",
       " 0.04261363636363636,\n",
       " 0.026881720430107527,\n",
       " 0.017543859649122806]"
      ]
     },
     "execution_count": 133,
     "metadata": {},
     "output_type": "execute_result"
    }
   ],
   "source": [
    "freizeit_einkaufen"
   ]
  },
  {
   "cell_type": "code",
   "execution_count": null,
   "metadata": {},
   "outputs": [],
   "source": []
  },
  {
   "cell_type": "code",
   "execution_count": null,
   "metadata": {},
   "outputs": [],
   "source": []
  }
 ],
 "metadata": {
  "kernelspec": {
   "display_name": "Python 3",
   "language": "python",
   "name": "python3"
  },
  "language_info": {
   "codemirror_mode": {
    "name": "ipython",
    "version": 3
   },
   "file_extension": ".py",
   "mimetype": "text/x-python",
   "name": "python",
   "nbconvert_exporter": "python",
   "pygments_lexer": "ipython3",
   "version": "3.7.6"
  }
 },
 "nbformat": 4,
 "nbformat_minor": 4
}

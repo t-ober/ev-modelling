{
 "cells": [
  {
   "cell_type": "markdown",
   "metadata": {},
   "source": [
    "# Ermittle Wegstrecken für Wochentage "
   ]
  },
  {
   "cell_type": "code",
   "execution_count": 55,
   "metadata": {},
   "outputs": [],
   "source": [
    "import pandas as pd\n",
    "import numpy as np\n",
    "import matplotlib as mlp\n",
    "import matplotlib.pyplot as plt\n",
    "from scipy import stats"
   ]
  },
  {
   "cell_type": "code",
   "execution_count": 29,
   "metadata": {},
   "outputs": [],
   "source": [
    "df = pd.read_csv(r\"C:\\Users\\thoma\\Desktop\\ev-modelling-repo\\Data\\NHTS_trips_processed.csv\")"
   ]
  },
  {
   "cell_type": "code",
   "execution_count": 30,
   "metadata": {},
   "outputs": [
    {
     "data": {
      "text/html": [
       "<div>\n",
       "<style scoped>\n",
       "    .dataframe tbody tr th:only-of-type {\n",
       "        vertical-align: middle;\n",
       "    }\n",
       "\n",
       "    .dataframe tbody tr th {\n",
       "        vertical-align: top;\n",
       "    }\n",
       "\n",
       "    .dataframe thead th {\n",
       "        text-align: right;\n",
       "    }\n",
       "</style>\n",
       "<table border=\"1\" class=\"dataframe\">\n",
       "  <thead>\n",
       "    <tr style=\"text-align: right;\">\n",
       "      <th></th>\n",
       "      <th>ID</th>\n",
       "      <th>ST_WOTAG</th>\n",
       "      <th>WHYFROM</th>\n",
       "      <th>zweck</th>\n",
       "      <th>W_NR</th>\n",
       "      <th>TRPTRANS</th>\n",
       "      <th>wegkm</th>\n",
       "      <th>wegmin_imp1</th>\n",
       "      <th>W_SZ</th>\n",
       "      <th>W_AZ</th>\n",
       "      <th>W_SZ_MIN</th>\n",
       "      <th>W_AZ_MIN</th>\n",
       "    </tr>\n",
       "  </thead>\n",
       "  <tbody>\n",
       "    <tr>\n",
       "      <th>0</th>\n",
       "      <td>130000007</td>\n",
       "      <td>1</td>\n",
       "      <td>1</td>\n",
       "      <td>4</td>\n",
       "      <td>1</td>\n",
       "      <td>3</td>\n",
       "      <td>8.439</td>\n",
       "      <td>15</td>\n",
       "      <td>1000</td>\n",
       "      <td>1015</td>\n",
       "      <td>600</td>\n",
       "      <td>615</td>\n",
       "    </tr>\n",
       "    <tr>\n",
       "      <th>1</th>\n",
       "      <td>130000007</td>\n",
       "      <td>1</td>\n",
       "      <td>4</td>\n",
       "      <td>1</td>\n",
       "      <td>2</td>\n",
       "      <td>3</td>\n",
       "      <td>8.286</td>\n",
       "      <td>20</td>\n",
       "      <td>1510</td>\n",
       "      <td>1530</td>\n",
       "      <td>910</td>\n",
       "      <td>930</td>\n",
       "    </tr>\n",
       "    <tr>\n",
       "      <th>2</th>\n",
       "      <td>230000007</td>\n",
       "      <td>1</td>\n",
       "      <td>2</td>\n",
       "      <td>1</td>\n",
       "      <td>1</td>\n",
       "      <td>6</td>\n",
       "      <td>135.191</td>\n",
       "      <td>120</td>\n",
       "      <td>700</td>\n",
       "      <td>900</td>\n",
       "      <td>420</td>\n",
       "      <td>540</td>\n",
       "    </tr>\n",
       "    <tr>\n",
       "      <th>3</th>\n",
       "      <td>230000007</td>\n",
       "      <td>1</td>\n",
       "      <td>1</td>\n",
       "      <td>2</td>\n",
       "      <td>2</td>\n",
       "      <td>6</td>\n",
       "      <td>131.367</td>\n",
       "      <td>150</td>\n",
       "      <td>1800</td>\n",
       "      <td>2030</td>\n",
       "      <td>1080</td>\n",
       "      <td>1230</td>\n",
       "    </tr>\n",
       "    <tr>\n",
       "      <th>4</th>\n",
       "      <td>330000007</td>\n",
       "      <td>1</td>\n",
       "      <td>1</td>\n",
       "      <td>2</td>\n",
       "      <td>1</td>\n",
       "      <td>3</td>\n",
       "      <td>3.621</td>\n",
       "      <td>15</td>\n",
       "      <td>845</td>\n",
       "      <td>900</td>\n",
       "      <td>525</td>\n",
       "      <td>540</td>\n",
       "    </tr>\n",
       "  </tbody>\n",
       "</table>\n",
       "</div>"
      ],
      "text/plain": [
       "          ID  ST_WOTAG  WHYFROM  zweck  W_NR  TRPTRANS    wegkm  wegmin_imp1  \\\n",
       "0  130000007         1        1      4     1         3    8.439           15   \n",
       "1  130000007         1        4      1     2         3    8.286           20   \n",
       "2  230000007         1        2      1     1         6  135.191          120   \n",
       "3  230000007         1        1      2     2         6  131.367          150   \n",
       "4  330000007         1        1      2     1         3    3.621           15   \n",
       "\n",
       "   W_SZ  W_AZ  W_SZ_MIN  W_AZ_MIN  \n",
       "0  1000  1015       600       615  \n",
       "1  1510  1530       910       930  \n",
       "2   700   900       420       540  \n",
       "3  1800  2030      1080      1230  \n",
       "4   845   900       525       540  "
      ]
     },
     "execution_count": 30,
     "metadata": {},
     "output_type": "execute_result"
    }
   ],
   "source": [
    "df.head()"
   ]
  },
  {
   "cell_type": "markdown",
   "metadata": {},
   "source": [
    "## Filtern nach Werktagen und Wegstrecke > 0"
   ]
  },
  {
   "cell_type": "code",
   "execution_count": 39,
   "metadata": {},
   "outputs": [],
   "source": [
    "filt = (df[\"ST_WOTAG\"] < 6) & (df[\"wegkm\"] > 0.0)\n",
    "data = df[filt]"
   ]
  },
  {
   "cell_type": "code",
   "execution_count": 40,
   "metadata": {},
   "outputs": [
    {
     "data": {
      "text/html": [
       "<div>\n",
       "<style scoped>\n",
       "    .dataframe tbody tr th:only-of-type {\n",
       "        vertical-align: middle;\n",
       "    }\n",
       "\n",
       "    .dataframe tbody tr th {\n",
       "        vertical-align: top;\n",
       "    }\n",
       "\n",
       "    .dataframe thead th {\n",
       "        text-align: right;\n",
       "    }\n",
       "</style>\n",
       "<table border=\"1\" class=\"dataframe\">\n",
       "  <thead>\n",
       "    <tr style=\"text-align: right;\">\n",
       "      <th></th>\n",
       "      <th>ID</th>\n",
       "      <th>ST_WOTAG</th>\n",
       "      <th>WHYFROM</th>\n",
       "      <th>zweck</th>\n",
       "      <th>W_NR</th>\n",
       "      <th>TRPTRANS</th>\n",
       "      <th>wegkm</th>\n",
       "      <th>wegmin_imp1</th>\n",
       "      <th>W_SZ</th>\n",
       "      <th>W_AZ</th>\n",
       "      <th>W_SZ_MIN</th>\n",
       "      <th>W_AZ_MIN</th>\n",
       "    </tr>\n",
       "  </thead>\n",
       "  <tbody>\n",
       "    <tr>\n",
       "      <th>0</th>\n",
       "      <td>130000007</td>\n",
       "      <td>1</td>\n",
       "      <td>1</td>\n",
       "      <td>4</td>\n",
       "      <td>1</td>\n",
       "      <td>3</td>\n",
       "      <td>8.439</td>\n",
       "      <td>15</td>\n",
       "      <td>1000</td>\n",
       "      <td>1015</td>\n",
       "      <td>600</td>\n",
       "      <td>615</td>\n",
       "    </tr>\n",
       "    <tr>\n",
       "      <th>1</th>\n",
       "      <td>130000007</td>\n",
       "      <td>1</td>\n",
       "      <td>4</td>\n",
       "      <td>1</td>\n",
       "      <td>2</td>\n",
       "      <td>3</td>\n",
       "      <td>8.286</td>\n",
       "      <td>20</td>\n",
       "      <td>1510</td>\n",
       "      <td>1530</td>\n",
       "      <td>910</td>\n",
       "      <td>930</td>\n",
       "    </tr>\n",
       "    <tr>\n",
       "      <th>2</th>\n",
       "      <td>230000007</td>\n",
       "      <td>1</td>\n",
       "      <td>2</td>\n",
       "      <td>1</td>\n",
       "      <td>1</td>\n",
       "      <td>6</td>\n",
       "      <td>135.191</td>\n",
       "      <td>120</td>\n",
       "      <td>700</td>\n",
       "      <td>900</td>\n",
       "      <td>420</td>\n",
       "      <td>540</td>\n",
       "    </tr>\n",
       "    <tr>\n",
       "      <th>3</th>\n",
       "      <td>230000007</td>\n",
       "      <td>1</td>\n",
       "      <td>1</td>\n",
       "      <td>2</td>\n",
       "      <td>2</td>\n",
       "      <td>6</td>\n",
       "      <td>131.367</td>\n",
       "      <td>150</td>\n",
       "      <td>1800</td>\n",
       "      <td>2030</td>\n",
       "      <td>1080</td>\n",
       "      <td>1230</td>\n",
       "    </tr>\n",
       "    <tr>\n",
       "      <th>4</th>\n",
       "      <td>330000007</td>\n",
       "      <td>1</td>\n",
       "      <td>1</td>\n",
       "      <td>2</td>\n",
       "      <td>1</td>\n",
       "      <td>3</td>\n",
       "      <td>3.621</td>\n",
       "      <td>15</td>\n",
       "      <td>845</td>\n",
       "      <td>900</td>\n",
       "      <td>525</td>\n",
       "      <td>540</td>\n",
       "    </tr>\n",
       "  </tbody>\n",
       "</table>\n",
       "</div>"
      ],
      "text/plain": [
       "          ID  ST_WOTAG  WHYFROM  zweck  W_NR  TRPTRANS    wegkm  wegmin_imp1  \\\n",
       "0  130000007         1        1      4     1         3    8.439           15   \n",
       "1  130000007         1        4      1     2         3    8.286           20   \n",
       "2  230000007         1        2      1     1         6  135.191          120   \n",
       "3  230000007         1        1      2     2         6  131.367          150   \n",
       "4  330000007         1        1      2     1         3    3.621           15   \n",
       "\n",
       "   W_SZ  W_AZ  W_SZ_MIN  W_AZ_MIN  \n",
       "0  1000  1015       600       615  \n",
       "1  1510  1530       910       930  \n",
       "2   700   900       420       540  \n",
       "3  1800  2030      1080      1230  \n",
       "4   845   900       525       540  "
      ]
     },
     "execution_count": 40,
     "metadata": {},
     "output_type": "execute_result"
    }
   ],
   "source": [
    "data.head()"
   ]
  },
  {
   "cell_type": "markdown",
   "metadata": {},
   "source": [
    "## Filtern Start \"Zuhause\" = 1 Ziel \"Arbeit\" = 2 "
   ]
  },
  {
   "cell_type": "code",
   "execution_count": 41,
   "metadata": {},
   "outputs": [],
   "source": [
    "filt = (data[\"WHYFROM\"] == 1) & (data[\"zweck\"] == 2)\n",
    "weg_zuhause_arbeit = list(data[filt][\"wegkm\"])"
   ]
  },
  {
   "cell_type": "code",
   "execution_count": 68,
   "metadata": {},
   "outputs": [],
   "source": [
    "weg_zuhause_arbeit2 = [x for x in weg_zuhause_arbeit if x<150]"
   ]
  },
  {
   "cell_type": "code",
   "execution_count": 74,
   "metadata": {},
   "outputs": [
    {
     "data": {
      "text/plain": [
       "51955"
      ]
     },
     "execution_count": 74,
     "metadata": {},
     "output_type": "execute_result"
    }
   ],
   "source": [
    "len(weg_zuhause_arbeit)"
   ]
  },
  {
   "cell_type": "code",
   "execution_count": 73,
   "metadata": {},
   "outputs": [
    {
     "data": {
      "text/plain": [
       "51743"
      ]
     },
     "execution_count": 73,
     "metadata": {},
     "output_type": "execute_result"
    }
   ],
   "source": [
    "len(weg_zuhause_arbeit2)"
   ]
  },
  {
   "cell_type": "code",
   "execution_count": 54,
   "metadata": {},
   "outputs": [
    {
     "data": {
      "text/plain": [
       "[(-10, 100)]"
      ]
     },
     "execution_count": 54,
     "metadata": {},
     "output_type": "execute_result"
    },
    {
     "data": {
      "image/png": "[encoded data removed]",
      "text/plain": [
       "<Figure size 432x288 with 1 Axes>"
      ]
     },
     "metadata": {
      "needs_background": "light"
     },
     "output_type": "display_data"
    }
   ],
   "source": [
    "plt.figure()\n",
    "ax = plt.gca()\n",
    "plt.hist(weg_zuhause_arbeit, bins=10000, density=True);\n",
    "ax.set(xlim=(-10, 100))"
   ]
  },
  {
   "cell_type": "markdown",
   "metadata": {},
   "source": [
    "# Lognormalverteilung"
   ]
  },
  {
   "cell_type": "code",
   "execution_count": 56,
   "metadata": {},
   "outputs": [],
   "source": [
    "shape, loc, scale = stats.lognorm.fit(weg_zuhause_arbeit, floc=0 )"
   ]
  },
  {
   "cell_type": "code",
   "execution_count": 108,
   "metadata": {},
   "outputs": [],
   "source": [
    "x = np.linspace(0, 1000, 1000)"
   ]
  },
  {
   "cell_type": "code",
   "execution_count": 109,
   "metadata": {},
   "outputs": [],
   "source": [
    "pdf = stats.lognorm.pdf(x, s=shape, loc=0, scale=scale )"
   ]
  },
  {
   "cell_type": "code",
   "execution_count": 110,
   "metadata": {},
   "outputs": [
    {
     "data": {
      "text/plain": [
       "[(-10, 100)]"
      ]
     },
     "execution_count": 110,
     "metadata": {},
     "output_type": "execute_result"
    },
    {
     "data": {
      "image/png": "[encoded data removed]",
      "text/plain": [
       "<Figure size 432x288 with 1 Axes>"
      ]
     },
     "metadata": {
      "needs_background": "light"
     },
     "output_type": "display_data"
    }
   ],
   "source": [
    "plt.figure()\n",
    "ax = plt.gca()\n",
    "plt.hist(weg_zuhause_arbeit, bins=8000, density=True);\n",
    "plt.plot(x, pdf)\n",
    "ax.set(xlim=(-10, 100))"
   ]
  },
  {
   "cell_type": "code",
   "execution_count": 111,
   "metadata": {},
   "outputs": [],
   "source": [
    "shape2, loc2, scale2 = stats.lognorm.fit(weg_zuhause_arbeit2, floc=0 )"
   ]
  },
  {
   "cell_type": "code",
   "execution_count": 112,
   "metadata": {},
   "outputs": [],
   "source": [
    "pdf2 = stats.lognorm.pdf(x, s=shape2, loc=0, scale=scale2 )"
   ]
  },
  {
   "cell_type": "code",
   "execution_count": 113,
   "metadata": {},
   "outputs": [
    {
     "data": {
      "text/plain": [
       "[(-10, 100)]"
      ]
     },
     "execution_count": 113,
     "metadata": {},
     "output_type": "execute_result"
    },
    {
     "data": {
      "image/png": "[encoded data removed]",
      "text/plain": [
       "<Figure size 432x288 with 1 Axes>"
      ]
     },
     "metadata": {
      "needs_background": "light"
     },
     "output_type": "display_data"
    }
   ],
   "source": [
    "plt.figure()\n",
    "ax = plt.gca()\n",
    "plt.hist(weg_zuhause_arbeit2, bins=100, density=True);\n",
    "plt.plot(x, pdf2)\n",
    "ax.set(xlim=(-10, 100))"
   ]
  },
  {
   "cell_type": "markdown",
   "metadata": {},
   "source": [
    "# Gamma Verteilung"
   ]
  },
  {
   "cell_type": "code",
   "execution_count": 114,
   "metadata": {},
   "outputs": [],
   "source": [
    "gamma_alpha, gamma_loc, gamma_beta = stats.gamma.fit(weg_zuhause_arbeit, floc=0)"
   ]
  },
  {
   "cell_type": "code",
   "execution_count": 115,
   "metadata": {},
   "outputs": [],
   "source": [
    "pdf_gamma = stats.gamma.pdf(x, gamma_alpha, gamma_loc, gamma_beta)"
   ]
  },
  {
   "cell_type": "code",
   "execution_count": 116,
   "metadata": {},
   "outputs": [
    {
     "data": {
      "text/plain": [
       "[(-10, 100)]"
      ]
     },
     "execution_count": 116,
     "metadata": {},
     "output_type": "execute_result"
    },
    {
     "data": {
      "image/png": "[encoded data removed]",
      "text/plain": [
       "<Figure size 432x288 with 1 Axes>"
      ]
     },
     "metadata": {
      "needs_background": "light"
     },
     "output_type": "display_data"
    }
   ],
   "source": [
    "plt.figure()\n",
    "ax = plt.gca()\n",
    "plt.hist(weg_zuhause_arbeit, bins=5000, density=True);\n",
    "plt.plot(x, pdf_gamma)\n",
    "ax.set(xlim=(-10, 100))"
   ]
  },
  {
   "cell_type": "code",
   "execution_count": 117,
   "metadata": {},
   "outputs": [],
   "source": [
    "exp_loc, exp_scale = stats.expon.fit(weg_zuhause_arbeit, floc=0)"
   ]
  },
  {
   "cell_type": "code",
   "execution_count": 124,
   "metadata": {},
   "outputs": [],
   "source": [
    "pdf_exp = stats.expon.pdf(weg_zuhause_arbeit, scale=exp_scale)"
   ]
  },
  {
   "cell_type": "code",
   "execution_count": 130,
   "metadata": {},
   "outputs": [
    {
     "data": {
      "text/plain": [
       "[(-10, 100)]"
      ]
     },
     "execution_count": 130,
     "metadata": {},
     "output_type": "execute_result"
    },
    {
     "data": {
      "image/png": "[encoded data removed]",
      "text/plain": [
       "<Figure size 432x288 with 1 Axes>"
      ]
     },
     "metadata": {
      "needs_background": "light"
     },
     "output_type": "display_data"
    }
   ],
   "source": [
    "plt.figure()\n",
    "ax = plt.gca()\n",
    "plt.hist(weg_zuhause_arbeit, bins=5000, density=True);\n",
    "plt.plot(pdf_exp)\n",
    "ax.set(xlim=(-10, 100))"
   ]
  },
  {
   "cell_type": "markdown",
   "metadata": {},
   "source": [
    "GREAT !"
   ]
  },
  {
   "cell_type": "code",
   "execution_count": null,
   "metadata": {},
   "outputs": [],
   "source": []
  }
 ],
 "metadata": {
  "kernelspec": {
   "display_name": "Python 3",
   "language": "python",
   "name": "python3"
  },
  "language_info": {
   "codemirror_mode": {
    "name": "ipython",
    "version": 3
   },
   "file_extension": ".py",
   "mimetype": "text/x-python",
   "name": "python",
   "nbconvert_exporter": "python",
   "pygments_lexer": "ipython3",
   "version": "3.7.6"
  }
 },
 "nbformat": 4,
 "nbformat_minor": 4
}

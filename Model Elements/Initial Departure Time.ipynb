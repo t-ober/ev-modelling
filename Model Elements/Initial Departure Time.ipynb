{
 "cells": [
  {
   "cell_type": "code",
   "execution_count": 1,
   "metadata": {},
   "outputs": [],
   "source": [
    "%matplotlib inline\n",
    "import numpy as np\n",
    "import pandas as pd\n",
    "import matplotlib as mlp\n",
    "import matplotlib.pyplot as plt"
   ]
  },
  {
   "cell_type": "code",
   "execution_count": 2,
   "metadata": {},
   "outputs": [],
   "source": [
    "df = pd.read_csv(\"C:\\\\Users\\\\thoma\\\\Desktop\\\\ev-modelling-repo\\\\Data\\\\NHTS_trips_processed.csv\")"
   ]
  },
  {
   "cell_type": "code",
   "execution_count": 3,
   "metadata": {},
   "outputs": [
    {
     "data": {
      "text/plain": [
       "(795163, 12)"
      ]
     },
     "execution_count": 3,
     "metadata": {},
     "output_type": "execute_result"
    }
   ],
   "source": [
    "df.shape"
   ]
  },
  {
   "cell_type": "markdown",
   "metadata": {},
   "source": [
    "# Nur 1. Weg und dessen Startzeit relevant\n",
    "\n",
    "### Achtung: W_NR (Weg Nummer) scheinbar nicht explizit in MiD Studie -> Ermittlung dort auf andere Art und Weise"
   ]
  },
  {
   "cell_type": "code",
   "execution_count": 4,
   "metadata": {},
   "outputs": [],
   "source": [
    "filt = df[\"W_NR\"] == 1\n",
    "first_trip = df[filt][\"W_SZ_MIN\"]"
   ]
  },
  {
   "cell_type": "code",
   "execution_count": 5,
   "metadata": {},
   "outputs": [
    {
     "data": {
      "text/plain": [
       "450     8005\n",
       "600     7562\n",
       "480     7305\n",
       "540     7067\n",
       "420     6730\n",
       "        ... \n",
       "1268       1\n",
       "1208       1\n",
       "1430       1\n",
       "1286       1\n",
       "289        1\n",
       "Name: W_SZ_MIN, Length: 1052, dtype: int64"
      ]
     },
     "execution_count": 5,
     "metadata": {},
     "output_type": "execute_result"
    }
   ],
   "source": [
    "first_trip.value_counts()"
   ]
  },
  {
   "cell_type": "code",
   "execution_count": 80,
   "metadata": {},
   "outputs": [
    {
     "data": {
      "image/png": "[encoded data removed]",
      "text/plain": [
       "<Figure size 720x576 with 1 Axes>"
      ]
     },
     "metadata": {
      "needs_background": "light"
     },
     "output_type": "display_data"
    }
   ],
   "source": [
    "plt.figure(figsize=(10,8))\n",
    "count, bins, ignored = plt.hist(first_trip, bins = 30 )"
   ]
  },
  {
   "cell_type": "markdown",
   "metadata": {},
   "source": [
    "# Gaussian Mixture Model ermitteln"
   ]
  },
  {
   "cell_type": "code",
   "execution_count": 7,
   "metadata": {},
   "outputs": [],
   "source": [
    "from sklearn.mixture import GaussianMixture"
   ]
  },
  {
   "cell_type": "code",
   "execution_count": 8,
   "metadata": {},
   "outputs": [],
   "source": [
    "model_data = np.array(first_trip).reshape(-1,1)"
   ]
  },
  {
   "cell_type": "code",
   "execution_count": 82,
   "metadata": {},
   "outputs": [],
   "source": [
    "gm_models = [None for i in range(15)]\n",
    "model_data = np.array(first_trip).reshape(-1,1)\n",
    "for i in range(1, 16):\n",
    "    gm_models[i-1] = GaussianMixture(n_components=i, n_init=10).fit(model_data)\n",
    "    "
   ]
  },
  {
   "cell_type": "markdown",
   "metadata": {},
   "source": [
    "## Bestimme bestes Model anhand 'theoretical information criterion' \n",
    "* je kleiner desto besser\n",
    "* Bestrafung komplexerer Systeme (mehr Komponenten)\n",
    "* Belohnung besserer fit zu den Daten\n"
   ]
  },
  {
   "cell_type": "code",
   "execution_count": 83,
   "metadata": {},
   "outputs": [],
   "source": [
    "AIC = [m.aic(model_data) for m in gm_models]\n",
    "BIC = [m.bic(model_data) for m in gm_models]"
   ]
  },
  {
   "cell_type": "code",
   "execution_count": 84,
   "metadata": {},
   "outputs": [],
   "source": [
    "m_best = gm_models[np.argmin(AIC)]"
   ]
  },
  {
   "cell_type": "markdown",
   "metadata": {},
   "source": [
    "# Ergebnis plotten"
   ]
  },
  {
   "cell_type": "markdown",
   "metadata": {},
   "source": [
    "* logprob = logarithmische Wahrscheinlichkeit der x-Werte \n",
    "* responsibilities = Anteil der individuellen Normalverteilungen an der Gesamtwahrscheinlichkeit"
   ]
  },
  {
   "cell_type": "code",
   "execution_count": 85,
   "metadata": {},
   "outputs": [],
   "source": [
    "x = np.linspace(-50, 1450, 10000)\n",
    "logprob = m_best.score_samples(x.reshape(-1, 1))\n",
    "responsibilities = m_best.predict_proba(x.reshape(-1, 1))\n",
    "pdf = np.exp(logprob)\n",
    "pdf_individual = responsibilities * pdf[:, np.newaxis]"
   ]
  },
  {
   "cell_type": "code",
   "execution_count": null,
   "metadata": {},
   "outputs": [],
   "source": [
    "plt.figure(figsize=(10,8))\n",
    "plt.hist(first_trip, bins=52, density=True);\n",
    "plt.plot(x, pdf, '-k');\n",
    "plt.plot(x, pdf_individual, '--k', alpha=0.7);\n",
    "labels = [\"Aggregiertes GMM\", \"Individuelle Normalverteilungen\"]\n",
    "plt.legend(labels)\n",
    "plt.xlabel(\"Tageszeit in Minuten\")\n",
    "plt.ylabel(\"relative Wahrscheinlichkeit\")"
   ]
  },
  {
   "cell_type": "markdown",
   "metadata": {},
   "source": [
    "## Achtung Unterteilung Wochentag/Werktag nicht berücksichtigt"
   ]
  },
  {
   "cell_type": "code",
   "execution_count": null,
   "metadata": {},
   "outputs": [],
   "source": []
  }
 ],
 "metadata": {
  "kernelspec": {
   "display_name": "Python 3",
   "language": "python",
   "name": "python3"
  },
  "language_info": {
   "codemirror_mode": {
    "name": "ipython",
    "version": 3
   },
   "file_extension": ".py",
   "mimetype": "text/x-python",
   "name": "python",
   "nbconvert_exporter": "python",
   "pygments_lexer": "ipython3",
   "version": "3.7.6"
  }
 },
 "nbformat": 4,
 "nbformat_minor": 4
}

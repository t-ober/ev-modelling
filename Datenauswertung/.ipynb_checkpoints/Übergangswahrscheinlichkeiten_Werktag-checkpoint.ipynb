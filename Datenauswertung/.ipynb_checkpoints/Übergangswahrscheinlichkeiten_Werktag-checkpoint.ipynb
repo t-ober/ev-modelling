{
 "cells": [
  {
   "cell_type": "markdown",
   "metadata": {},
   "source": [
    "# Übergangswahrscheinlichkeiten\n",
    "###  Bestimme relative Übergangswahrscheinlichkeiten vom Zustand Zuhause an Werktagen in Abhängigkeit des Zeitschrittes"
   ]
  },
  {
   "cell_type": "markdown",
   "metadata": {},
   "source": [
    "### Zustände\n",
    "\n",
    "* Zuhause -> 1\n",
    "* Arbeit -> 2 \n",
    "* Einkaufen -> 3 \n",
    "* Freizeit -> 4\n",
    "* Sonstiges -> 5"
   ]
  },
  {
   "cell_type": "code",
   "execution_count": 1,
   "metadata": {},
   "outputs": [],
   "source": [
    "%matplotlib inline\n",
    "import numpy as np\n",
    "import pandas as pd\n",
    "import matplotlib as mlp\n",
    "import matplotlib.pyplot as plt\n",
    "import seaborn as sns"
   ]
  },
  {
   "cell_type": "code",
   "execution_count": 2,
   "metadata": {},
   "outputs": [],
   "source": [
    "df = pd.read_csv(\"C:\\\\Users\\\\thoma\\\\Desktop\\\\ev-modelling-repo\\\\Data\\\\NHTS_trips_processed.csv\")"
   ]
  },
  {
   "cell_type": "code",
   "execution_count": 3,
   "metadata": {},
   "outputs": [
    {
     "data": {
      "text/html": [
       "<div>\n",
       "<style scoped>\n",
       "    .dataframe tbody tr th:only-of-type {\n",
       "        vertical-align: middle;\n",
       "    }\n",
       "\n",
       "    .dataframe tbody tr th {\n",
       "        vertical-align: top;\n",
       "    }\n",
       "\n",
       "    .dataframe thead th {\n",
       "        text-align: right;\n",
       "    }\n",
       "</style>\n",
       "<table border=\"1\" class=\"dataframe\">\n",
       "  <thead>\n",
       "    <tr style=\"text-align: right;\">\n",
       "      <th></th>\n",
       "      <th>ID</th>\n",
       "      <th>Type_day</th>\n",
       "      <th>TRPTRANS</th>\n",
       "      <th>Trip_no</th>\n",
       "      <th>Whyfrom</th>\n",
       "      <th>Whyto</th>\n",
       "      <th>Distance</th>\n",
       "      <th>Trip_duration</th>\n",
       "      <th>Departure_hhmm</th>\n",
       "      <th>Arrival_hhmm</th>\n",
       "      <th>Departure</th>\n",
       "      <th>Arrival</th>\n",
       "      <th>Departure_t</th>\n",
       "    </tr>\n",
       "  </thead>\n",
       "  <tbody>\n",
       "    <tr>\n",
       "      <th>0</th>\n",
       "      <td>300000071</td>\n",
       "      <td>1</td>\n",
       "      <td>3</td>\n",
       "      <td>1</td>\n",
       "      <td>1</td>\n",
       "      <td>4</td>\n",
       "      <td>8.439</td>\n",
       "      <td>15</td>\n",
       "      <td>1000</td>\n",
       "      <td>1015</td>\n",
       "      <td>600</td>\n",
       "      <td>615</td>\n",
       "      <td>40</td>\n",
       "    </tr>\n",
       "    <tr>\n",
       "      <th>1</th>\n",
       "      <td>300000071</td>\n",
       "      <td>1</td>\n",
       "      <td>3</td>\n",
       "      <td>2</td>\n",
       "      <td>4</td>\n",
       "      <td>1</td>\n",
       "      <td>8.286</td>\n",
       "      <td>20</td>\n",
       "      <td>1510</td>\n",
       "      <td>1530</td>\n",
       "      <td>910</td>\n",
       "      <td>930</td>\n",
       "      <td>61</td>\n",
       "    </tr>\n",
       "    <tr>\n",
       "      <th>2</th>\n",
       "      <td>300000072</td>\n",
       "      <td>1</td>\n",
       "      <td>6</td>\n",
       "      <td>1</td>\n",
       "      <td>2</td>\n",
       "      <td>1</td>\n",
       "      <td>135.191</td>\n",
       "      <td>120</td>\n",
       "      <td>700</td>\n",
       "      <td>900</td>\n",
       "      <td>420</td>\n",
       "      <td>540</td>\n",
       "      <td>28</td>\n",
       "    </tr>\n",
       "    <tr>\n",
       "      <th>3</th>\n",
       "      <td>300000072</td>\n",
       "      <td>1</td>\n",
       "      <td>6</td>\n",
       "      <td>2</td>\n",
       "      <td>1</td>\n",
       "      <td>2</td>\n",
       "      <td>131.367</td>\n",
       "      <td>150</td>\n",
       "      <td>1800</td>\n",
       "      <td>2030</td>\n",
       "      <td>1080</td>\n",
       "      <td>1230</td>\n",
       "      <td>72</td>\n",
       "    </tr>\n",
       "    <tr>\n",
       "      <th>4</th>\n",
       "      <td>300000073</td>\n",
       "      <td>1</td>\n",
       "      <td>3</td>\n",
       "      <td>1</td>\n",
       "      <td>1</td>\n",
       "      <td>2</td>\n",
       "      <td>3.621</td>\n",
       "      <td>15</td>\n",
       "      <td>845</td>\n",
       "      <td>900</td>\n",
       "      <td>525</td>\n",
       "      <td>540</td>\n",
       "      <td>35</td>\n",
       "    </tr>\n",
       "  </tbody>\n",
       "</table>\n",
       "</div>"
      ],
      "text/plain": [
       "          ID  Type_day  TRPTRANS  Trip_no  Whyfrom  Whyto  Distance  \\\n",
       "0  300000071         1         3        1        1      4     8.439   \n",
       "1  300000071         1         3        2        4      1     8.286   \n",
       "2  300000072         1         6        1        2      1   135.191   \n",
       "3  300000072         1         6        2        1      2   131.367   \n",
       "4  300000073         1         3        1        1      2     3.621   \n",
       "\n",
       "   Trip_duration  Departure_hhmm  Arrival_hhmm  Departure  Arrival  \\\n",
       "0             15            1000          1015        600      615   \n",
       "1             20            1510          1530        910      930   \n",
       "2            120             700           900        420      540   \n",
       "3            150            1800          2030       1080     1230   \n",
       "4             15             845           900        525      540   \n",
       "\n",
       "   Departure_t  \n",
       "0           40  \n",
       "1           61  \n",
       "2           28  \n",
       "3           72  \n",
       "4           35  "
      ]
     },
     "execution_count": 3,
     "metadata": {},
     "output_type": "execute_result"
    }
   ],
   "source": [
    "df.head()"
   ]
  },
  {
   "cell_type": "markdown",
   "metadata": {},
   "source": [
    "## Beschränkung auf Werktage"
   ]
  },
  {
   "cell_type": "code",
   "execution_count": 4,
   "metadata": {},
   "outputs": [],
   "source": [
    "filt = df[\"Type_day\"] < 6\n",
    "df = df[filt]"
   ]
  },
  {
   "cell_type": "code",
   "execution_count": 5,
   "metadata": {},
   "outputs": [
    {
     "data": {
      "text/plain": [
       "5    133031\n",
       "4    129219\n",
       "3    126751\n",
       "2    126668\n",
       "1    117352\n",
       "Name: Type_day, dtype: int64"
      ]
     },
     "execution_count": 5,
     "metadata": {},
     "output_type": "execute_result"
    }
   ],
   "source": [
    "df[\"Type_day\"].value_counts()"
   ]
  },
  {
   "cell_type": "markdown",
   "metadata": {},
   "source": [
    "## Filtern nach Ausgangszuständen"
   ]
  },
  {
   "cell_type": "code",
   "execution_count": 6,
   "metadata": {},
   "outputs": [],
   "source": [
    "zuhause = df[df[\"Whyfrom\"]==1]\n",
    "\n",
    "arbeit = df[df[\"Whyfrom\"]==2]\n",
    "\n",
    "einkaufen = df[df[\"Whyfrom\"]==3]\n",
    "\n",
    "freizeit = df[df[\"Whyfrom\"]==4]\n",
    "\n",
    "sonstiges = df[df[\"Whyfrom\"]==5]\n"
   ]
  },
  {
   "cell_type": "code",
   "execution_count": 7,
   "metadata": {},
   "outputs": [],
   "source": [
    "# Vernachlässige Rundreisen\n",
    "zuhause = zuhause[zuhause[\"Whyto\"] != 1]\n",
    "arbeit = arbeit[arbeit[\"Whyto\"] != 2]\n",
    "einkaufen = einkaufen[einkaufen[\"Whyto\"] != 3]\n",
    "freizeit = freizeit[freizeit[\"Whyto\"] != 4]\n",
    "sonstiges = sonstiges[sonstiges[\"Whyto\"] != 5]"
   ]
  },
  {
   "cell_type": "markdown",
   "metadata": {},
   "source": [
    "## Gruppieren der Trips nach Zeitschrit t des Wegbeginns"
   ]
  },
  {
   "cell_type": "code",
   "execution_count": 17,
   "metadata": {},
   "outputs": [],
   "source": [
    "zuhause_grpd = zuhause.groupby([\"Departure_t\"])\n",
    "arbeit_grpd = arbeit.groupby([\"Departure_t\"])\n",
    "einkaufen_grpd = einkaufen.groupby([\"Departure_t\"])\n",
    "freizeit_grpd = freizeit.groupby([\"Departure_t\"])\n",
    "sonstiges_grpd = sonstiges.groupby([\"Departure_t\"])"
   ]
  },
  {
   "cell_type": "markdown",
   "metadata": {},
   "source": [
    "## Zuordnen der relativen Übergangswahrscheinlichkeiten zu den anderen Zuständen in jedem Zeitschritt"
   ]
  },
  {
   "cell_type": "code",
   "execution_count": 18,
   "metadata": {},
   "outputs": [],
   "source": [
    "zuhause_arbeit = [0 for i in range(97)]\n",
    "zuhause_einkaufen = [0 for i in range(97)]\n",
    "zuhause_freizeit = [0 for i in range(97)]\n",
    "zuhause_sonstiges = [0 for i in range(97)]\n",
    "\n",
    "arbeit_zuhause = [0 for i in range(97)]\n",
    "arbeit_einkaufen = [0 for i in range(97)]\n",
    "arbeit_freizeit = [0 for i in range(97)]\n",
    "arbeit_sonstiges = [0 for i in range(97)]\n",
    "\n",
    "einkaufen_arbeit = [0 for i in range(97)]\n",
    "einkaufen_zuhause = [0 for i in range(97)]\n",
    "einkaufen_freizeit = [0 for i in range(97)]\n",
    "einkaufen_sonstiges = [0 for i in range(97)]\n",
    "\n",
    "freizeit_arbeit = [0 for i in range(97)]\n",
    "freizeit_einkaufen = [0 for i in range(97)]\n",
    "freizeit_zuhause = [0 for i in range(97)]\n",
    "freizeit_sonstiges = [0 for i in range(97)]\n",
    "\n",
    "sonstiges_arbeit = [0 for i in range(97)]\n",
    "sonstiges_einkaufen = [0 for i in range(97)]\n",
    "sonstiges_freizeit = [0 for i in range(97)]\n",
    "sonstiges_zuhause = [0 for i in range(97)]"
   ]
  },
  {
   "cell_type": "code",
   "execution_count": 19,
   "metadata": {},
   "outputs": [],
   "source": [
    "# zähle relative Häufigkeit der Trips zum gegebenen Zustand in Zeitschritt t\n",
    "for t, group in zuhause_grpd:\n",
    "    counts = group[\"Whyto\"].value_counts(normalize=True)\n",
    "    if counts.get(2):\n",
    "        zuhause_arbeit[t] = counts.get(2)\n",
    "    if counts.get(3):\n",
    "        zuhause_einkaufen[t] = counts.get(3)\n",
    "    if counts.get(4):\n",
    "        zuhause_freizeit[t] = counts.get(4)\n",
    "    if counts.get(5):\n",
    "        zuhause_sonstiges[t] = counts.get(5)"
   ]
  },
  {
   "cell_type": "code",
   "execution_count": 20,
   "metadata": {},
   "outputs": [],
   "source": [
    "for t, group in arbeit_grpd:\n",
    "    counts = group[\"Whyto\"].value_counts(normalize=True)\n",
    "    if counts.get(1):\n",
    "        arbeit_zuhause[t] = counts.get(1)\n",
    "    if counts.get(3):\n",
    "        arbeit_einkaufen[t] = counts.get(3)\n",
    "    if counts.get(4):\n",
    "        arbeit_freizeit[t] = counts.get(4)\n",
    "    if counts.get(5):\n",
    "        arbeit_sonstiges[t] = counts.get(5)"
   ]
  },
  {
   "cell_type": "code",
   "execution_count": 21,
   "metadata": {},
   "outputs": [],
   "source": [
    "for t, group in einkaufen_grpd:\n",
    "    counts = group[\"Whyto\"].value_counts(normalize=True)\n",
    "    if counts.get(1):\n",
    "        einkaufen_zuhause[t] = counts.get(1)\n",
    "    if counts.get(2):\n",
    "        einkaufen_arbeit[t] = counts.get(2)\n",
    "    if counts.get(4):\n",
    "        einkaufen_freizeit[t] = counts.get(4)\n",
    "    if counts.get(5):\n",
    "        einkaufen_sonstiges[t] = counts.get(5)"
   ]
  },
  {
   "cell_type": "code",
   "execution_count": 22,
   "metadata": {},
   "outputs": [],
   "source": [
    "for t, group in freizeit_grpd:\n",
    "    counts = group[\"Whyto\"].value_counts(normalize=True)\n",
    "    if counts.get(1):\n",
    "        freizeit_zuhause[t] = counts.get(1)\n",
    "    if counts.get(2):\n",
    "        freizeit_arbeit[t] = counts.get(2)\n",
    "    if counts.get(3):\n",
    "        freizeit_einkaufen[t] = counts.get(3)\n",
    "    if counts.get(5):\n",
    "        freizeit_sonstiges[t] = counts.get(5)"
   ]
  },
  {
   "cell_type": "code",
   "execution_count": 23,
   "metadata": {},
   "outputs": [],
   "source": [
    "for t, group in sonstiges_grpd:\n",
    "    counts = group[\"Whyto\"].value_counts(normalize=True)\n",
    "    if counts.get(1):\n",
    "        sonstiges_zuhause[t] = counts.get(1)\n",
    "    if counts.get(2):\n",
    "        sonstiges_arbeit[t] = counts.get(2)\n",
    "    if counts.get(3):\n",
    "        sonstiges_einkaufen[t] = counts.get(3)\n",
    "    if counts.get(4):\n",
    "        sonstiges_freizeit[t] = counts.get(4)"
   ]
  },
  {
   "cell_type": "markdown",
   "metadata": {},
   "source": [
    "## Visualisierung"
   ]
  },
  {
   "cell_type": "code",
   "execution_count": 24,
   "metadata": {},
   "outputs": [
    {
     "data": {
      "image/png": "[encoded data removed]",
      "text/plain": [
       "<Figure size 1008x576 with 1 Axes>"
      ]
     },
     "metadata": {
      "needs_background": "light"
     },
     "output_type": "display_data"
    }
   ],
   "source": [
    "plt.figure(figsize=(14,8))\n",
    "x = np.linspace(0,96, 97)\n",
    "plt.bar(x, zuhause_arbeit, label=\"Arbeit\", color='#FF595E');\n",
    "plt.bar(x, zuhause_einkaufen, bottom=zuhause_arbeit, label=\"Einkaufen\", color='#8AC926');\n",
    "plt.bar(x, zuhause_freizeit, bottom=[i+j for i,j in zip(zuhause_arbeit,zuhause_einkaufen)], label=\"Freizeit\", color='#1982C4');\n",
    "plt.bar(x, zuhause_sonstiges, bottom=[i+j+k for i,j,k in zip(zuhause_arbeit,zuhause_einkaufen,zuhause_freizeit)], label=\"Sonstiges\", color='#6A4C93');\n",
    "plt.xlabel(\"Zeitschritt t in 15 Minuten\")\n",
    "plt.ylabel(\"relative Wahrscheinlichkeit\")\n",
    "plt.box(on=None)\n",
    "plt.title(\"Wahrscheinlichkeit der Tripziele bei Ursprung \\\"Zuhause\\\"\");\n",
    "plt.tick_params(top=False, bottom=False, left=False, right=False, labelbottom=True)\n",
    "plt.legend();\n"
   ]
  },
  {
   "cell_type": "code",
   "execution_count": 25,
   "metadata": {},
   "outputs": [
    {
     "data": {
      "image/png": "[encoded data removed]",
      "text/plain": [
       "<Figure size 1440x1440 with 5 Axes>"
      ]
     },
     "metadata": {
      "needs_background": "light"
     },
     "output_type": "display_data"
    }
   ],
   "source": [
    "fig, ((ax1, ax2), (ax3, ax4), (ax5, ax6)) = plt.subplots(3, 2, figsize=(20,20), sharey=True)\n",
    "x = np.linspace(0,96, 97)\n",
    "ax1.bar(x, zuhause_arbeit, label=\"Arbeit\", color='#FF595E');\n",
    "ax1.bar(x, zuhause_einkaufen, bottom=zuhause_arbeit, label=\"Einkaufen\", color='#8AC926');\n",
    "ax1.bar(x, zuhause_freizeit, bottom=[i+j for i,j in zip(zuhause_arbeit,zuhause_einkaufen)], label=\"Freizeit\", color='#1982C4');\n",
    "ax1.bar(x, zuhause_sonstiges, bottom=[i+j+k for i,j,k in zip(zuhause_arbeit,zuhause_einkaufen,zuhause_freizeit)], label=\"Sonstiges\", color='#6A4C93');\n",
    "ax1.legend()\n",
    "\n",
    "ax2.bar(x, arbeit_zuhause, label=\"Zuhause\", color='#FFCA3A');\n",
    "ax2.bar(x, arbeit_einkaufen, bottom=arbeit_zuhause, label=\"Einkaufen\", color='#8AC926');\n",
    "ax2.bar(x, arbeit_freizeit, bottom=[i+j for i,j in zip(arbeit_zuhause,arbeit_einkaufen)], label=\"Freizeit\", color='#1982C4');\n",
    "ax2.bar(x, arbeit_sonstiges, bottom=[i+j+k for i,j,k in zip(arbeit_zuhause,arbeit_einkaufen,arbeit_freizeit)], label=\"Sonstiges\", color='#6A4C93')\n",
    "\n",
    "ax3.bar(x, einkaufen_zuhause, label=\"Zuhause\", color='#FFCA3A');\n",
    "ax3.bar(x, einkaufen_arbeit, bottom=einkaufen_zuhause, label=\"Arbeit\", color='#FF595E');\n",
    "ax3.bar(x, einkaufen_freizeit, bottom=[i+j for i,j in zip(einkaufen_zuhause,einkaufen_arbeit)], label=\"Freizeit\", color='#1982C4');\n",
    "ax3.bar(x, einkaufen_sonstiges, bottom=[i+j+k for i,j,k in zip(einkaufen_zuhause,einkaufen_arbeit,einkaufen_freizeit)], label=\"Sonstiges\", color='#6A4C93')\n",
    "ax3.legend()\n",
    "\n",
    "ax4.bar(x, freizeit_zuhause, label=\"Zuhause\", color='#FFCA3A');\n",
    "ax4.bar(x, freizeit_arbeit, bottom=freizeit_zuhause, label=\"Arbeit\", color='#FF595E');\n",
    "ax4.bar(x, freizeit_einkaufen, bottom=[i+j for i,j in zip(freizeit_zuhause,freizeit_arbeit)], label=\"Einkaufen\", color='#8AC926');\n",
    "ax4.bar(x, freizeit_sonstiges, bottom=[i+j+k for i,j,k in zip(freizeit_zuhause,freizeit_arbeit,freizeit_einkaufen)], label=\"Sonstiges\", color='#6A4C93')\n",
    "\n",
    "ax5.bar(x, sonstiges_zuhause, label=\"Zuhause\", color='#FFCA3A');\n",
    "ax5.bar(x, sonstiges_arbeit, bottom=sonstiges_zuhause, label=\"Arbeit\", color='#FF595E');\n",
    "ax5.bar(x, sonstiges_einkaufen, bottom=[i+j for i,j in zip(sonstiges_zuhause,sonstiges_arbeit)], label=\"Einkaufen\", color='#8AC926');\n",
    "ax5.bar(x, sonstiges_freizeit, bottom=[i+j+k for i,j,k in zip(sonstiges_zuhause,sonstiges_arbeit,sonstiges_einkaufen)], label=\"Freizeit\", color='#1982C4')\n",
    "ax5.legend()\n",
    "\n",
    "fig.delaxes(ax6)"
   ]
  },
  {
   "cell_type": "markdown",
   "metadata": {},
   "source": [
    "## Speichern Ergebnisse"
   ]
  },
  {
   "cell_type": "code",
   "execution_count": 26,
   "metadata": {},
   "outputs": [],
   "source": [
    "übergangswahrscheinlichkeiten_zuhause=[[i, j, k, l] for i,j,k,l in zip(zuhause_arbeit, zuhause_einkaufen, zuhause_freizeit, zuhause_sonstiges)]\n",
    "übergangswahrscheinlichkeiten_arbeit=[[i, j, k, l] for i,j,k,l in zip(arbeit_zuhause, arbeit_einkaufen, arbeit_freizeit, arbeit_sonstiges)]\n",
    "übergangswahrscheinlichkeiten_einkaufen=[[i, j, k, l] for i,j,k,l in zip(einkaufen_zuhause, einkaufen_arbeit, einkaufen_freizeit, einkaufen_sonstiges)]\n",
    "übergangswahrscheinlichkeiten_freizeit=[[i, j, k, l] for i,j,k,l in zip(freizeit_zuhause, freizeit_arbeit, freizeit_einkaufen, freizeit_sonstiges)]\n",
    "übergangswahrscheinlichkeiten_sonstiges=[[i, j, k, l] for i,j,k,l in zip(sonstiges_zuhause, sonstiges_arbeit, sonstiges_einkaufen, sonstiges_freizeit)]\n",
    "\n",
    "übergangswahrscheinlichkeiten = [übergangswahrscheinlichkeiten_zuhause, übergangswahrscheinlichkeiten_arbeit, übergangswahrscheinlichkeiten_einkaufen, übergangswahrscheinlichkeiten_freizeit, übergangswahrscheinlichkeiten_sonstiges]"
   ]
  },
  {
   "cell_type": "code",
   "execution_count": 28,
   "metadata": {},
   "outputs": [],
   "source": [
    "from pathlib import Path\n",
    "import pickle\n",
    "import os\n",
    "\n",
    "root = os.getcwd()\n",
    "if not os.path.exists(os.getcwd()+ \"\\\\Simulationsdaten\"):\n",
    "    os.makedirs(root+\"\\\\Simulationsdaten\")\n",
    "\n",
    "path = root+\"\\\\Simulationsdaten\"+\"\\\\Übergangswahrscheinlichkeiten.pickle\"\n",
    "\n",
    "pickle.dump(übergangswahrscheinlichkeiten, open(path, \"wb\"))"
   ]
  },
  {
   "cell_type": "code",
   "execution_count": null,
   "metadata": {},
   "outputs": [],
   "source": []
  }
 ],
 "metadata": {
  "kernelspec": {
   "display_name": "Python 3",
   "language": "python",
   "name": "python3"
  },
  "language_info": {
   "codemirror_mode": {
    "name": "ipython",
    "version": 3
   },
   "file_extension": ".py",
   "mimetype": "text/x-python",
   "name": "python",
   "nbconvert_exporter": "python",
   "pygments_lexer": "ipython3",
   "version": "3.7.6"
  }
 },
 "nbformat": 4,
 "nbformat_minor": 4
}

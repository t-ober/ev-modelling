{
 "cells": [
  {
   "cell_type": "markdown",
   "metadata": {},
   "source": [
    "## Unterteilung des Zustands Zuhause in Zwischenstopp und Endaufenthalt"
   ]
  },
  {
   "cell_type": "code",
   "execution_count": 1,
   "metadata": {},
   "outputs": [],
   "source": [
    "import pandas as pd\n",
    "import numpy as np \n",
    "import matplotlib as mlp\n",
    "import matplotlib.pyplot as plt\n",
    "import seaborn as sns\n",
    "from scipy import stats"
   ]
  },
  {
   "cell_type": "code",
   "execution_count": 2,
   "metadata": {},
   "outputs": [],
   "source": [
    "# einlesen des bearbeiteten Trips-Datensatz\n",
    "df = pd.read_csv(r\"C:\\Users\\thoma\\Desktop\\ev-modelling-repo\\Rohdaten\\NHTS_trips_processed_WT_Aufenthalt.csv\")"
   ]
  },
  {
   "cell_type": "code",
   "execution_count": 3,
   "metadata": {},
   "outputs": [
    {
     "data": {
      "text/html": [
       "<div>\n",
       "<style scoped>\n",
       "    .dataframe tbody tr th:only-of-type {\n",
       "        vertical-align: middle;\n",
       "    }\n",
       "\n",
       "    .dataframe tbody tr th {\n",
       "        vertical-align: top;\n",
       "    }\n",
       "\n",
       "    .dataframe thead th {\n",
       "        text-align: right;\n",
       "    }\n",
       "</style>\n",
       "<table border=\"1\" class=\"dataframe\">\n",
       "  <thead>\n",
       "    <tr style=\"text-align: right;\">\n",
       "      <th></th>\n",
       "      <th>ID</th>\n",
       "      <th>Type_day</th>\n",
       "      <th>TRPTRANS</th>\n",
       "      <th>Trip_no</th>\n",
       "      <th>Whyfrom</th>\n",
       "      <th>Whyto</th>\n",
       "      <th>Distance</th>\n",
       "      <th>Trip_duration</th>\n",
       "      <th>Departure_hhmm</th>\n",
       "      <th>Arrival_hhmm</th>\n",
       "      <th>Departure</th>\n",
       "      <th>Arrival</th>\n",
       "      <th>Departure_t</th>\n",
       "      <th>Stay_duration</th>\n",
       "    </tr>\n",
       "  </thead>\n",
       "  <tbody>\n",
       "    <tr>\n",
       "      <th>0</th>\n",
       "      <td>300000071</td>\n",
       "      <td>1</td>\n",
       "      <td>3</td>\n",
       "      <td>1</td>\n",
       "      <td>1</td>\n",
       "      <td>4</td>\n",
       "      <td>8.439</td>\n",
       "      <td>15</td>\n",
       "      <td>1000</td>\n",
       "      <td>1015</td>\n",
       "      <td>600</td>\n",
       "      <td>615</td>\n",
       "      <td>40</td>\n",
       "      <td>295</td>\n",
       "    </tr>\n",
       "    <tr>\n",
       "      <th>1</th>\n",
       "      <td>300000071</td>\n",
       "      <td>1</td>\n",
       "      <td>3</td>\n",
       "      <td>2</td>\n",
       "      <td>4</td>\n",
       "      <td>1</td>\n",
       "      <td>8.286</td>\n",
       "      <td>20</td>\n",
       "      <td>1510</td>\n",
       "      <td>1530</td>\n",
       "      <td>910</td>\n",
       "      <td>930</td>\n",
       "      <td>61</td>\n",
       "      <td>1110</td>\n",
       "    </tr>\n",
       "    <tr>\n",
       "      <th>2</th>\n",
       "      <td>300000073</td>\n",
       "      <td>1</td>\n",
       "      <td>3</td>\n",
       "      <td>1</td>\n",
       "      <td>1</td>\n",
       "      <td>2</td>\n",
       "      <td>3.621</td>\n",
       "      <td>15</td>\n",
       "      <td>845</td>\n",
       "      <td>900</td>\n",
       "      <td>525</td>\n",
       "      <td>540</td>\n",
       "      <td>35</td>\n",
       "      <td>330</td>\n",
       "    </tr>\n",
       "    <tr>\n",
       "      <th>3</th>\n",
       "      <td>300000073</td>\n",
       "      <td>1</td>\n",
       "      <td>3</td>\n",
       "      <td>2</td>\n",
       "      <td>2</td>\n",
       "      <td>1</td>\n",
       "      <td>3.610</td>\n",
       "      <td>15</td>\n",
       "      <td>1430</td>\n",
       "      <td>1445</td>\n",
       "      <td>870</td>\n",
       "      <td>885</td>\n",
       "      <td>58</td>\n",
       "      <td>1080</td>\n",
       "    </tr>\n",
       "    <tr>\n",
       "      <th>4</th>\n",
       "      <td>300000081</td>\n",
       "      <td>4</td>\n",
       "      <td>6</td>\n",
       "      <td>1</td>\n",
       "      <td>1</td>\n",
       "      <td>2</td>\n",
       "      <td>12.902</td>\n",
       "      <td>15</td>\n",
       "      <td>1115</td>\n",
       "      <td>1130</td>\n",
       "      <td>675</td>\n",
       "      <td>690</td>\n",
       "      <td>45</td>\n",
       "      <td>720</td>\n",
       "    </tr>\n",
       "  </tbody>\n",
       "</table>\n",
       "</div>"
      ],
      "text/plain": [
       "          ID  Type_day  TRPTRANS  Trip_no  Whyfrom  Whyto  Distance  \\\n",
       "0  300000071         1         3        1        1      4     8.439   \n",
       "1  300000071         1         3        2        4      1     8.286   \n",
       "2  300000073         1         3        1        1      2     3.621   \n",
       "3  300000073         1         3        2        2      1     3.610   \n",
       "4  300000081         4         6        1        1      2    12.902   \n",
       "\n",
       "   Trip_duration  Departure_hhmm  Arrival_hhmm  Departure  Arrival  \\\n",
       "0             15            1000          1015        600      615   \n",
       "1             20            1510          1530        910      930   \n",
       "2             15             845           900        525      540   \n",
       "3             15            1430          1445        870      885   \n",
       "4             15            1115          1130        675      690   \n",
       "\n",
       "   Departure_t  Stay_duration  \n",
       "0           40            295  \n",
       "1           61           1110  \n",
       "2           35            330  \n",
       "3           58           1080  \n",
       "4           45            720  "
      ]
     },
     "execution_count": 3,
     "metadata": {},
     "output_type": "execute_result"
    }
   ],
   "source": [
    "df.head()"
   ]
  },
  {
   "cell_type": "code",
   "execution_count": 4,
   "metadata": {},
   "outputs": [],
   "source": [
    "filt = df[\"Whyto\"] == 1\n",
    "df_filt = df[filt]"
   ]
  },
  {
   "cell_type": "code",
   "execution_count": 5,
   "metadata": {},
   "outputs": [
    {
     "data": {
      "text/html": [
       "<div>\n",
       "<style scoped>\n",
       "    .dataframe tbody tr th:only-of-type {\n",
       "        vertical-align: middle;\n",
       "    }\n",
       "\n",
       "    .dataframe tbody tr th {\n",
       "        vertical-align: top;\n",
       "    }\n",
       "\n",
       "    .dataframe thead th {\n",
       "        text-align: right;\n",
       "    }\n",
       "</style>\n",
       "<table border=\"1\" class=\"dataframe\">\n",
       "  <thead>\n",
       "    <tr style=\"text-align: right;\">\n",
       "      <th></th>\n",
       "      <th>ID</th>\n",
       "      <th>Type_day</th>\n",
       "      <th>TRPTRANS</th>\n",
       "      <th>Trip_no</th>\n",
       "      <th>Whyfrom</th>\n",
       "      <th>Whyto</th>\n",
       "      <th>Distance</th>\n",
       "      <th>Trip_duration</th>\n",
       "      <th>Departure_hhmm</th>\n",
       "      <th>Arrival_hhmm</th>\n",
       "      <th>Departure</th>\n",
       "      <th>Arrival</th>\n",
       "      <th>Departure_t</th>\n",
       "      <th>Stay_duration</th>\n",
       "    </tr>\n",
       "  </thead>\n",
       "  <tbody>\n",
       "    <tr>\n",
       "      <th>1</th>\n",
       "      <td>300000071</td>\n",
       "      <td>1</td>\n",
       "      <td>3</td>\n",
       "      <td>2</td>\n",
       "      <td>4</td>\n",
       "      <td>1</td>\n",
       "      <td>8.286</td>\n",
       "      <td>20</td>\n",
       "      <td>1510</td>\n",
       "      <td>1530</td>\n",
       "      <td>910</td>\n",
       "      <td>930</td>\n",
       "      <td>61</td>\n",
       "      <td>1110</td>\n",
       "    </tr>\n",
       "    <tr>\n",
       "      <th>3</th>\n",
       "      <td>300000073</td>\n",
       "      <td>1</td>\n",
       "      <td>3</td>\n",
       "      <td>2</td>\n",
       "      <td>2</td>\n",
       "      <td>1</td>\n",
       "      <td>3.610</td>\n",
       "      <td>15</td>\n",
       "      <td>1430</td>\n",
       "      <td>1445</td>\n",
       "      <td>870</td>\n",
       "      <td>885</td>\n",
       "      <td>58</td>\n",
       "      <td>1080</td>\n",
       "    </tr>\n",
       "    <tr>\n",
       "      <th>5</th>\n",
       "      <td>300000081</td>\n",
       "      <td>4</td>\n",
       "      <td>6</td>\n",
       "      <td>2</td>\n",
       "      <td>2</td>\n",
       "      <td>1</td>\n",
       "      <td>12.902</td>\n",
       "      <td>10</td>\n",
       "      <td>2330</td>\n",
       "      <td>2340</td>\n",
       "      <td>1410</td>\n",
       "      <td>1420</td>\n",
       "      <td>94</td>\n",
       "      <td>695</td>\n",
       "    </tr>\n",
       "    <tr>\n",
       "      <th>7</th>\n",
       "      <td>300000121</td>\n",
       "      <td>4</td>\n",
       "      <td>4</td>\n",
       "      <td>2</td>\n",
       "      <td>4</td>\n",
       "      <td>1</td>\n",
       "      <td>5.464</td>\n",
       "      <td>15</td>\n",
       "      <td>700</td>\n",
       "      <td>715</td>\n",
       "      <td>420</td>\n",
       "      <td>435</td>\n",
       "      <td>28</td>\n",
       "      <td>15</td>\n",
       "    </tr>\n",
       "    <tr>\n",
       "      <th>9</th>\n",
       "      <td>300000121</td>\n",
       "      <td>4</td>\n",
       "      <td>4</td>\n",
       "      <td>4</td>\n",
       "      <td>4</td>\n",
       "      <td>1</td>\n",
       "      <td>1.632</td>\n",
       "      <td>10</td>\n",
       "      <td>805</td>\n",
       "      <td>815</td>\n",
       "      <td>485</td>\n",
       "      <td>495</td>\n",
       "      <td>32</td>\n",
       "      <td>45</td>\n",
       "    </tr>\n",
       "  </tbody>\n",
       "</table>\n",
       "</div>"
      ],
      "text/plain": [
       "          ID  Type_day  TRPTRANS  Trip_no  Whyfrom  Whyto  Distance  \\\n",
       "1  300000071         1         3        2        4      1     8.286   \n",
       "3  300000073         1         3        2        2      1     3.610   \n",
       "5  300000081         4         6        2        2      1    12.902   \n",
       "7  300000121         4         4        2        4      1     5.464   \n",
       "9  300000121         4         4        4        4      1     1.632   \n",
       "\n",
       "   Trip_duration  Departure_hhmm  Arrival_hhmm  Departure  Arrival  \\\n",
       "1             20            1510          1530        910      930   \n",
       "3             15            1430          1445        870      885   \n",
       "5             10            2330          2340       1410     1420   \n",
       "7             15             700           715        420      435   \n",
       "9             10             805           815        485      495   \n",
       "\n",
       "   Departure_t  Stay_duration  \n",
       "1           61           1110  \n",
       "3           58           1080  \n",
       "5           94            695  \n",
       "7           28             15  \n",
       "9           32             45  "
      ]
     },
     "execution_count": 5,
     "metadata": {},
     "output_type": "execute_result"
    }
   ],
   "source": [
    "df_filt.head()"
   ]
  },
  {
   "cell_type": "code",
   "execution_count": 6,
   "metadata": {},
   "outputs": [
    {
     "data": {
      "text/plain": [
       "pandas.core.series.Series"
      ]
     },
     "execution_count": 6,
     "metadata": {},
     "output_type": "execute_result"
    }
   ],
   "source": [
    "type(filt)"
   ]
  },
  {
   "cell_type": "code",
   "execution_count": 7,
   "metadata": {},
   "outputs": [
    {
     "data": {
      "text/plain": [
       "Int64Index([     1,      3,      5,      7,      9,     12,     14,     16,\n",
       "                18,     21,\n",
       "            ...\n",
       "            596253, 596255, 596257, 596262, 596266, 596268, 596270, 596273,\n",
       "            596277, 596279],\n",
       "           dtype='int64', length=200794)"
      ]
     },
     "execution_count": 7,
     "metadata": {},
     "output_type": "execute_result"
    }
   ],
   "source": [
    "df_filt.index"
   ]
  },
  {
   "cell_type": "code",
   "execution_count": 8,
   "metadata": {},
   "outputs": [],
   "source": [
    "index_stopover = []\n",
    "index_final = []"
   ]
  },
  {
   "cell_type": "code",
   "execution_count": 9,
   "metadata": {},
   "outputs": [],
   "source": [
    "# Indizes der Home-Trips aufteilen in Endstopps und Zwischenstopps\n",
    "for i in df_filt.index:\n",
    "    if (i+1 not in df.index) or (df.at[i+1, \"ID\"] != df.at[i, \"ID\"]):\n",
    "        index_final.append(i)\n",
    "    else:\n",
    "        index_stopover.append(i)"
   ]
  },
  {
   "cell_type": "code",
   "execution_count": 10,
   "metadata": {},
   "outputs": [
    {
     "data": {
      "text/plain": [
       "140000"
      ]
     },
     "execution_count": 10,
     "metadata": {},
     "output_type": "execute_result"
    }
   ],
   "source": [
    "len(index_final)"
   ]
  },
  {
   "cell_type": "code",
   "execution_count": 11,
   "metadata": {},
   "outputs": [
    {
     "data": {
      "text/plain": [
       "60794"
      ]
     },
     "execution_count": 11,
     "metadata": {},
     "output_type": "execute_result"
    }
   ],
   "source": [
    "len(index_stopover)"
   ]
  },
  {
   "cell_type": "code",
   "execution_count": 12,
   "metadata": {},
   "outputs": [],
   "source": [
    "df_final = df.iloc[index_final]"
   ]
  },
  {
   "cell_type": "code",
   "execution_count": 13,
   "metadata": {},
   "outputs": [
    {
     "data": {
      "text/plain": [
       "(140000, 14)"
      ]
     },
     "execution_count": 13,
     "metadata": {},
     "output_type": "execute_result"
    }
   ],
   "source": [
    "df_final.shape"
   ]
  },
  {
   "cell_type": "code",
   "execution_count": 14,
   "metadata": {},
   "outputs": [],
   "source": [
    "df_stopover = df.iloc[index_stopover]"
   ]
  },
  {
   "cell_type": "code",
   "execution_count": 15,
   "metadata": {},
   "outputs": [],
   "source": [
    "aufenthalt_final = df_final[\"Stay_duration\"]"
   ]
  },
  {
   "cell_type": "code",
   "execution_count": 16,
   "metadata": {},
   "outputs": [],
   "source": [
    "aufenthalt_stopover = df_stopover[\"Stay_duration\"]"
   ]
  },
  {
   "cell_type": "code",
   "execution_count": 17,
   "metadata": {},
   "outputs": [
    {
     "data": {
      "image/png": "[encoded data removed]",
      "text/plain": [
       "<Figure size 432x288 with 1 Axes>"
      ]
     },
     "metadata": {},
     "output_type": "display_data"
    }
   ],
   "source": [
    "sns.set();\n",
    "plt.hist(aufenthalt_stopover, bins=range(int(min(aufenthalt_stopover)), int(max(aufenthalt_stopover)), 30));"
   ]
  },
  {
   "cell_type": "code",
   "execution_count": 18,
   "metadata": {},
   "outputs": [],
   "source": [
    "x = np.linspace(0, max(aufenthalt_stopover), 1000)\n",
    "shape_stopover, loc_stopover, scale_stopover = stats.lognorm.fit(aufenthalt_stopover, loc=0)\n",
    "pdf_stopover = stats.lognorm.pdf(x, s=shape_stopover, loc=loc_stopover, scale=scale_stopover)"
   ]
  },
  {
   "cell_type": "code",
   "execution_count": 19,
   "metadata": {},
   "outputs": [
    {
     "data": {
      "text/plain": [
       "(-100, 1200)"
      ]
     },
     "execution_count": 19,
     "metadata": {},
     "output_type": "execute_result"
    },
    {
     "data": {
      "image/png": "[encoded data removed]",
      "text/plain": [
       "<Figure size 432x288 with 1 Axes>"
      ]
     },
     "metadata": {},
     "output_type": "display_data"
    }
   ],
   "source": [
    "plt.figure()\n",
    "plt.hist(aufenthalt_stopover, bins=range(int(min(aufenthalt_stopover)), int(max(aufenthalt_stopover)), 30), density=True);\n",
    "plt.plot(x, pdf_stopover)\n",
    "plt.gca().set_xlim(-100, 1200)"
   ]
  },
  {
   "cell_type": "code",
   "execution_count": 20,
   "metadata": {},
   "outputs": [],
   "source": [
    "test = []\n",
    "for i in range(100000):\n",
    "    number = stats.lognorm.rvs(s=shape_stopover, loc=loc_stopover, scale=scale_stopover)\n",
    "    if number < 0:\n",
    "        test.append(number)"
   ]
  },
  {
   "cell_type": "code",
   "execution_count": 21,
   "metadata": {},
   "outputs": [
    {
     "data": {
      "text/plain": [
       "0.00531"
      ]
     },
     "execution_count": 21,
     "metadata": {},
     "output_type": "execute_result"
    }
   ],
   "source": [
    "len(test)/100000"
   ]
  },
  {
   "cell_type": "markdown",
   "metadata": {},
   "source": [
    "### etwa 0,4 % der Werte negativ -> in Simulation berücksichtigen"
   ]
  },
  {
   "cell_type": "markdown",
   "metadata": {},
   "source": [
    "## Parameter der Verteilungsfunktion abspeichern"
   ]
  },
  {
   "cell_type": "code",
   "execution_count": 22,
   "metadata": {},
   "outputs": [],
   "source": [
    "import pickle\n",
    "import os \n",
    "\n",
    "path = os.getcwd()+ \"\\\\Simulationsdaten\"\n",
    "if not os.path.exists(path):\n",
    "    os.makedirs(path)\n",
    "\n",
    "shape_loc_scale = [shape_stopover, loc_stopover, scale_stopover]\n",
    "pickle.dump(shape_loc_scale, open(path+\"\\\\Zuhause_Shape_Loc_Scale_Stopover.pickle\", \"wb\"))"
   ]
  },
  {
   "cell_type": "code",
   "execution_count": 23,
   "metadata": {},
   "outputs": [
    {
     "data": {
      "image/png": "[encoded data removed]",
      "text/plain": [
       "<Figure size 432x288 with 1 Axes>"
      ]
     },
     "metadata": {},
     "output_type": "display_data"
    }
   ],
   "source": [
    "plt.hist(aufenthalt_final, bins=range(int(min(aufenthalt_final)), int(max(aufenthalt_final)), 30));"
   ]
  },
  {
   "cell_type": "code",
   "execution_count": 24,
   "metadata": {},
   "outputs": [],
   "source": [
    "trips_t_final = [0 for i in range(97)]\n",
    "trips_t_stopover = [0 for i in range(97)]"
   ]
  },
  {
   "cell_type": "code",
   "execution_count": 25,
   "metadata": {},
   "outputs": [],
   "source": [
    "for i in df_final.index:\n",
    "    t = df_final.at[i,\"Departure_t\"]\n",
    "    trips_t_final[t] += 1"
   ]
  },
  {
   "cell_type": "code",
   "execution_count": 26,
   "metadata": {},
   "outputs": [],
   "source": [
    "for i in df_stopover.index:\n",
    "    t = df_stopover.at[i,\"Departure_t\"]\n",
    "    trips_t_stopover[t] += 1"
   ]
  },
  {
   "cell_type": "code",
   "execution_count": 27,
   "metadata": {},
   "outputs": [],
   "source": [
    "for t in range(97):\n",
    "    total = trips_t_final[t] + trips_t_stopover[t]\n",
    "    trips_t_final[t] = trips_t_final[t] / total\n",
    "    trips_t_stopover[t] = trips_t_stopover[t] / total"
   ]
  },
  {
   "cell_type": "code",
   "execution_count": 28,
   "metadata": {},
   "outputs": [
    {
     "data": {
      "image/png": "[encoded data removed]",
      "text/plain": [
       "<Figure size 1440x720 with 1 Axes>"
      ]
     },
     "metadata": {},
     "output_type": "display_data"
    }
   ],
   "source": [
    "plt.figure(figsize=(20,10))\n",
    "x = np.linspace(0, 96, 97)\n",
    "plt.bar(x, trips_t_final, label=\"Endzustand\")\n",
    "plt.bar(x, trips_t_stopover, bottom= trips_t_final, label=\"Zwischenstopp\")\n",
    "plt.legend();"
   ]
  },
  {
   "cell_type": "code",
   "execution_count": 29,
   "metadata": {},
   "outputs": [],
   "source": [
    "pickle.dump(trips_t_final, open(path+\"\\\\Zuhause_Wahrscheinlichkeit_Endzustand.pickle\",\"wb\"))"
   ]
  },
  {
   "cell_type": "code",
   "execution_count": 30,
   "metadata": {},
   "outputs": [
    {
     "data": {
      "text/plain": [
       "[0.9910714285714286,\n",
       " 1.0,\n",
       " 1.0,\n",
       " 0.9894736842105263,\n",
       " 0.9935064935064936,\n",
       " 1.0,\n",
       " 1.0,\n",
       " 0.9787234042553191,\n",
       " 1.0,\n",
       " 1.0,\n",
       " 0.9772727272727273,\n",
       " 1.0,\n",
       " 1.0,\n",
       " 1.0,\n",
       " 1.0,\n",
       " 1.0,\n",
       " 0.3333333333333333,\n",
       " 0.08333333333333333,\n",
       " 0.043478260869565216,\n",
       " 0.08695652173913043,\n",
       " 0.0784313725490196,\n",
       " 0.125,\n",
       " 0.058823529411764705,\n",
       " 0.102803738317757,\n",
       " 0.09881422924901186,\n",
       " 0.10212765957446808,\n",
       " 0.10174418604651163,\n",
       " 0.08564231738035265,\n",
       " 0.12227805695142378,\n",
       " 0.11857142857142858,\n",
       " 0.11615628299894404,\n",
       " 0.1137218045112782,\n",
       " 0.1354679802955665,\n",
       " 0.1560418648905804,\n",
       " 0.17899543378995433,\n",
       " 0.17916666666666667,\n",
       " 0.22118380062305296,\n",
       " 0.24458700882117082,\n",
       " 0.28321678321678323,\n",
       " 0.29178885630498536,\n",
       " 0.3227199136535348,\n",
       " 0.362691466083151,\n",
       " 0.3981164383561644,\n",
       " 0.39979808177688037,\n",
       " 0.4146253602305475,\n",
       " 0.4228961982058949,\n",
       " 0.406427854034148,\n",
       " 0.4271199687377882,\n",
       " 0.3994609164420485,\n",
       " 0.4426403106247794,\n",
       " 0.47245564892623715,\n",
       " 0.49155405405405406,\n",
       " 0.48493589743589743,\n",
       " 0.5204702067288204,\n",
       " 0.5463167878596269,\n",
       " 0.5754283326368576,\n",
       " 0.6033199771036062,\n",
       " 0.6245791245791246,\n",
       " 0.6291145108947612,\n",
       " 0.6367856106759501,\n",
       " 0.6642968614530952,\n",
       " 0.666452442159383,\n",
       " 0.7108892058963385,\n",
       " 0.6967897977132805,\n",
       " 0.727408818726184,\n",
       " 0.7317019400352733,\n",
       " 0.760711743772242,\n",
       " 0.7618629173989455,\n",
       " 0.7996364802737089,\n",
       " 0.8006879073135409,\n",
       " 0.8382047596230634,\n",
       " 0.8414723926380369,\n",
       " 0.8743215739484396,\n",
       " 0.8830238726790451,\n",
       " 0.9130535055350554,\n",
       " 0.9192015209125475,\n",
       " 0.9398008798332947,\n",
       " 0.9475237782879633,\n",
       " 0.9557451346307652,\n",
       " 0.9562567228397275,\n",
       " 0.9706883014917561,\n",
       " 0.9643347050754458,\n",
       " 0.9735628650476483,\n",
       " 0.9819782062028499,\n",
       " 0.9854180168502916,\n",
       " 0.9906832298136646,\n",
       " 0.9904122722914669,\n",
       " 0.9853168469860897,\n",
       " 0.9891245241979336,\n",
       " 0.987750556792873,\n",
       " 0.9916279069767442,\n",
       " 0.9965034965034965,\n",
       " 0.9949494949494949,\n",
       " 0.9908045977011494,\n",
       " 0.9912280701754386,\n",
       " 0.9963235294117647,\n",
       " 1.0]"
      ]
     },
     "execution_count": 30,
     "metadata": {},
     "output_type": "execute_result"
    }
   ],
   "source": [
    "trips_t_final"
   ]
  },
  {
   "cell_type": "code",
   "execution_count": null,
   "metadata": {},
   "outputs": [],
   "source": []
  }
 ],
 "metadata": {
  "kernelspec": {
   "display_name": "Python 3",
   "language": "python",
   "name": "python3"
  },
  "language_info": {
   "codemirror_mode": {
    "name": "ipython",
    "version": 3
   },
   "file_extension": ".py",
   "mimetype": "text/x-python",
   "name": "python",
   "nbconvert_exporter": "python",
   "pygments_lexer": "ipython3",
   "version": "3.7.6"
  }
 },
 "nbformat": 4,
 "nbformat_minor": 4
}

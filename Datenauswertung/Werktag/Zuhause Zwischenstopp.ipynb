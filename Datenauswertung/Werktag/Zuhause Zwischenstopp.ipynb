{
 "cells": [
  {
   "cell_type": "markdown",
   "metadata": {},
   "source": [
    "## Unterteilung des Zustands Zuhause in Zwischenstopp und Endaufenthalt"
   ]
  },
  {
   "cell_type": "code",
   "execution_count": 1,
   "metadata": {},
   "outputs": [],
   "source": [
    "import pandas as pd\n",
    "import numpy as np \n",
    "import matplotlib as mlp\n",
    "import matplotlib.pyplot as plt\n",
    "import seaborn as sns\n",
    "from scipy import stats"
   ]
  },
  {
   "cell_type": "code",
   "execution_count": 2,
   "metadata": {},
   "outputs": [],
   "source": [
    "# einlesen des bearbeiteten Trips-Datensatz\n",
    "df = pd.read_csv(r\"C:\\Users\\thoma\\Desktop\\ev-modelling-repo\\Rohdaten\\NHTS_trips_processed_WT_Aufenthalt.csv\")"
   ]
  },
  {
   "cell_type": "code",
   "execution_count": 3,
   "metadata": {},
   "outputs": [
    {
     "data": {
      "text/html": [
       "<div>\n",
       "<style scoped>\n",
       "    .dataframe tbody tr th:only-of-type {\n",
       "        vertical-align: middle;\n",
       "    }\n",
       "\n",
       "    .dataframe tbody tr th {\n",
       "        vertical-align: top;\n",
       "    }\n",
       "\n",
       "    .dataframe thead th {\n",
       "        text-align: right;\n",
       "    }\n",
       "</style>\n",
       "<table border=\"1\" class=\"dataframe\">\n",
       "  <thead>\n",
       "    <tr style=\"text-align: right;\">\n",
       "      <th></th>\n",
       "      <th>ID</th>\n",
       "      <th>Type_day</th>\n",
       "      <th>TRPTRANS</th>\n",
       "      <th>Trip_no</th>\n",
       "      <th>Whyfrom</th>\n",
       "      <th>Whyto</th>\n",
       "      <th>Distance</th>\n",
       "      <th>Trip_duration</th>\n",
       "      <th>Departure_hhmm</th>\n",
       "      <th>Arrival_hhmm</th>\n",
       "      <th>Departure</th>\n",
       "      <th>Arrival</th>\n",
       "      <th>Departure_t</th>\n",
       "      <th>Stay_duration</th>\n",
       "    </tr>\n",
       "  </thead>\n",
       "  <tbody>\n",
       "    <tr>\n",
       "      <th>0</th>\n",
       "      <td>300000071</td>\n",
       "      <td>1</td>\n",
       "      <td>3</td>\n",
       "      <td>1</td>\n",
       "      <td>1</td>\n",
       "      <td>4</td>\n",
       "      <td>8.439</td>\n",
       "      <td>15</td>\n",
       "      <td>1000</td>\n",
       "      <td>1015</td>\n",
       "      <td>600</td>\n",
       "      <td>615</td>\n",
       "      <td>40</td>\n",
       "      <td>295</td>\n",
       "    </tr>\n",
       "    <tr>\n",
       "      <th>1</th>\n",
       "      <td>300000071</td>\n",
       "      <td>1</td>\n",
       "      <td>3</td>\n",
       "      <td>2</td>\n",
       "      <td>4</td>\n",
       "      <td>1</td>\n",
       "      <td>8.286</td>\n",
       "      <td>20</td>\n",
       "      <td>1510</td>\n",
       "      <td>1530</td>\n",
       "      <td>910</td>\n",
       "      <td>930</td>\n",
       "      <td>61</td>\n",
       "      <td>1110</td>\n",
       "    </tr>\n",
       "    <tr>\n",
       "      <th>2</th>\n",
       "      <td>300000072</td>\n",
       "      <td>1</td>\n",
       "      <td>6</td>\n",
       "      <td>1</td>\n",
       "      <td>2</td>\n",
       "      <td>1</td>\n",
       "      <td>135.191</td>\n",
       "      <td>120</td>\n",
       "      <td>700</td>\n",
       "      <td>900</td>\n",
       "      <td>420</td>\n",
       "      <td>540</td>\n",
       "      <td>28</td>\n",
       "      <td>540</td>\n",
       "    </tr>\n",
       "    <tr>\n",
       "      <th>3</th>\n",
       "      <td>300000072</td>\n",
       "      <td>1</td>\n",
       "      <td>6</td>\n",
       "      <td>2</td>\n",
       "      <td>1</td>\n",
       "      <td>2</td>\n",
       "      <td>131.367</td>\n",
       "      <td>150</td>\n",
       "      <td>1800</td>\n",
       "      <td>2030</td>\n",
       "      <td>1080</td>\n",
       "      <td>1230</td>\n",
       "      <td>72</td>\n",
       "      <td>630</td>\n",
       "    </tr>\n",
       "    <tr>\n",
       "      <th>4</th>\n",
       "      <td>300000073</td>\n",
       "      <td>1</td>\n",
       "      <td>3</td>\n",
       "      <td>1</td>\n",
       "      <td>1</td>\n",
       "      <td>2</td>\n",
       "      <td>3.621</td>\n",
       "      <td>15</td>\n",
       "      <td>845</td>\n",
       "      <td>900</td>\n",
       "      <td>525</td>\n",
       "      <td>540</td>\n",
       "      <td>35</td>\n",
       "      <td>330</td>\n",
       "    </tr>\n",
       "  </tbody>\n",
       "</table>\n",
       "</div>"
      ],
      "text/plain": [
       "          ID  Type_day  TRPTRANS  Trip_no  Whyfrom  Whyto  Distance  \\\n",
       "0  300000071         1         3        1        1      4     8.439   \n",
       "1  300000071         1         3        2        4      1     8.286   \n",
       "2  300000072         1         6        1        2      1   135.191   \n",
       "3  300000072         1         6        2        1      2   131.367   \n",
       "4  300000073         1         3        1        1      2     3.621   \n",
       "\n",
       "   Trip_duration  Departure_hhmm  Arrival_hhmm  Departure  Arrival  \\\n",
       "0             15            1000          1015        600      615   \n",
       "1             20            1510          1530        910      930   \n",
       "2            120             700           900        420      540   \n",
       "3            150            1800          2030       1080     1230   \n",
       "4             15             845           900        525      540   \n",
       "\n",
       "   Departure_t  Stay_duration  \n",
       "0           40            295  \n",
       "1           61           1110  \n",
       "2           28            540  \n",
       "3           72            630  \n",
       "4           35            330  "
      ]
     },
     "execution_count": 3,
     "metadata": {},
     "output_type": "execute_result"
    }
   ],
   "source": [
    "df.head()"
   ]
  },
  {
   "cell_type": "code",
   "execution_count": 4,
   "metadata": {},
   "outputs": [],
   "source": [
    "filt = df[\"Whyto\"] == 1\n",
    "df_filt = df[filt]"
   ]
  },
  {
   "cell_type": "code",
   "execution_count": 5,
   "metadata": {},
   "outputs": [
    {
     "data": {
      "text/html": [
       "<div>\n",
       "<style scoped>\n",
       "    .dataframe tbody tr th:only-of-type {\n",
       "        vertical-align: middle;\n",
       "    }\n",
       "\n",
       "    .dataframe tbody tr th {\n",
       "        vertical-align: top;\n",
       "    }\n",
       "\n",
       "    .dataframe thead th {\n",
       "        text-align: right;\n",
       "    }\n",
       "</style>\n",
       "<table border=\"1\" class=\"dataframe\">\n",
       "  <thead>\n",
       "    <tr style=\"text-align: right;\">\n",
       "      <th></th>\n",
       "      <th>ID</th>\n",
       "      <th>Type_day</th>\n",
       "      <th>TRPTRANS</th>\n",
       "      <th>Trip_no</th>\n",
       "      <th>Whyfrom</th>\n",
       "      <th>Whyto</th>\n",
       "      <th>Distance</th>\n",
       "      <th>Trip_duration</th>\n",
       "      <th>Departure_hhmm</th>\n",
       "      <th>Arrival_hhmm</th>\n",
       "      <th>Departure</th>\n",
       "      <th>Arrival</th>\n",
       "      <th>Departure_t</th>\n",
       "      <th>Stay_duration</th>\n",
       "    </tr>\n",
       "  </thead>\n",
       "  <tbody>\n",
       "    <tr>\n",
       "      <th>1</th>\n",
       "      <td>300000071</td>\n",
       "      <td>1</td>\n",
       "      <td>3</td>\n",
       "      <td>2</td>\n",
       "      <td>4</td>\n",
       "      <td>1</td>\n",
       "      <td>8.286</td>\n",
       "      <td>20</td>\n",
       "      <td>1510</td>\n",
       "      <td>1530</td>\n",
       "      <td>910</td>\n",
       "      <td>930</td>\n",
       "      <td>61</td>\n",
       "      <td>1110</td>\n",
       "    </tr>\n",
       "    <tr>\n",
       "      <th>2</th>\n",
       "      <td>300000072</td>\n",
       "      <td>1</td>\n",
       "      <td>6</td>\n",
       "      <td>1</td>\n",
       "      <td>2</td>\n",
       "      <td>1</td>\n",
       "      <td>135.191</td>\n",
       "      <td>120</td>\n",
       "      <td>700</td>\n",
       "      <td>900</td>\n",
       "      <td>420</td>\n",
       "      <td>540</td>\n",
       "      <td>28</td>\n",
       "      <td>540</td>\n",
       "    </tr>\n",
       "    <tr>\n",
       "      <th>5</th>\n",
       "      <td>300000073</td>\n",
       "      <td>1</td>\n",
       "      <td>3</td>\n",
       "      <td>2</td>\n",
       "      <td>2</td>\n",
       "      <td>1</td>\n",
       "      <td>3.610</td>\n",
       "      <td>15</td>\n",
       "      <td>1430</td>\n",
       "      <td>1445</td>\n",
       "      <td>870</td>\n",
       "      <td>885</td>\n",
       "      <td>58</td>\n",
       "      <td>1080</td>\n",
       "    </tr>\n",
       "    <tr>\n",
       "      <th>7</th>\n",
       "      <td>300000081</td>\n",
       "      <td>4</td>\n",
       "      <td>6</td>\n",
       "      <td>2</td>\n",
       "      <td>2</td>\n",
       "      <td>1</td>\n",
       "      <td>12.902</td>\n",
       "      <td>10</td>\n",
       "      <td>2330</td>\n",
       "      <td>2340</td>\n",
       "      <td>1410</td>\n",
       "      <td>1420</td>\n",
       "      <td>94</td>\n",
       "      <td>695</td>\n",
       "    </tr>\n",
       "    <tr>\n",
       "      <th>9</th>\n",
       "      <td>300000121</td>\n",
       "      <td>4</td>\n",
       "      <td>4</td>\n",
       "      <td>2</td>\n",
       "      <td>4</td>\n",
       "      <td>1</td>\n",
       "      <td>5.464</td>\n",
       "      <td>15</td>\n",
       "      <td>700</td>\n",
       "      <td>715</td>\n",
       "      <td>420</td>\n",
       "      <td>435</td>\n",
       "      <td>28</td>\n",
       "      <td>15</td>\n",
       "    </tr>\n",
       "  </tbody>\n",
       "</table>\n",
       "</div>"
      ],
      "text/plain": [
       "          ID  Type_day  TRPTRANS  Trip_no  Whyfrom  Whyto  Distance  \\\n",
       "1  300000071         1         3        2        4      1     8.286   \n",
       "2  300000072         1         6        1        2      1   135.191   \n",
       "5  300000073         1         3        2        2      1     3.610   \n",
       "7  300000081         4         6        2        2      1    12.902   \n",
       "9  300000121         4         4        2        4      1     5.464   \n",
       "\n",
       "   Trip_duration  Departure_hhmm  Arrival_hhmm  Departure  Arrival  \\\n",
       "1             20            1510          1530        910      930   \n",
       "2            120             700           900        420      540   \n",
       "5             15            1430          1445        870      885   \n",
       "7             10            2330          2340       1410     1420   \n",
       "9             15             700           715        420      435   \n",
       "\n",
       "   Departure_t  Stay_duration  \n",
       "1           61           1110  \n",
       "2           28            540  \n",
       "5           58           1080  \n",
       "7           94            695  \n",
       "9           28             15  "
      ]
     },
     "execution_count": 5,
     "metadata": {},
     "output_type": "execute_result"
    }
   ],
   "source": [
    "df_filt.head()"
   ]
  },
  {
   "cell_type": "code",
   "execution_count": 6,
   "metadata": {},
   "outputs": [
    {
     "data": {
      "text/plain": [
       "pandas.core.series.Series"
      ]
     },
     "execution_count": 6,
     "metadata": {},
     "output_type": "execute_result"
    }
   ],
   "source": [
    "type(filt)"
   ]
  },
  {
   "cell_type": "code",
   "execution_count": 7,
   "metadata": {},
   "outputs": [
    {
     "data": {
      "text/plain": [
       "Int64Index([     1,      2,      5,      7,      9,     11,     14,     16,\n",
       "                18,     20,\n",
       "            ...\n",
       "            632996, 633001, 633005, 633007, 633008, 633009, 633011, 633014,\n",
       "            633018, 633020],\n",
       "           dtype='int64', length=211650)"
      ]
     },
     "execution_count": 7,
     "metadata": {},
     "output_type": "execute_result"
    }
   ],
   "source": [
    "df_filt.index"
   ]
  },
  {
   "cell_type": "code",
   "execution_count": 8,
   "metadata": {},
   "outputs": [],
   "source": [
    "index_stopover = []\n",
    "index_final = []"
   ]
  },
  {
   "cell_type": "code",
   "execution_count": 9,
   "metadata": {},
   "outputs": [],
   "source": [
    "# Indizes der Home-Trips aufteilen in Endstopps und Zwischenstopps\n",
    "for i in df_filt.index:\n",
    "    if (i+1 not in df.index) or (df.at[i+1, \"ID\"] != df.at[i, \"ID\"]):\n",
    "        index_final.append(i)\n",
    "    else:\n",
    "        index_stopover.append(i)"
   ]
  },
  {
   "cell_type": "code",
   "execution_count": 10,
   "metadata": {},
   "outputs": [
    {
     "data": {
      "text/plain": [
       "146850"
      ]
     },
     "execution_count": 10,
     "metadata": {},
     "output_type": "execute_result"
    }
   ],
   "source": [
    "len(index_final)"
   ]
  },
  {
   "cell_type": "code",
   "execution_count": 11,
   "metadata": {},
   "outputs": [
    {
     "data": {
      "text/plain": [
       "64800"
      ]
     },
     "execution_count": 11,
     "metadata": {},
     "output_type": "execute_result"
    }
   ],
   "source": [
    "len(index_stopover)"
   ]
  },
  {
   "cell_type": "code",
   "execution_count": 12,
   "metadata": {},
   "outputs": [],
   "source": [
    "df_final = df.iloc[index_final]"
   ]
  },
  {
   "cell_type": "code",
   "execution_count": 13,
   "metadata": {},
   "outputs": [
    {
     "data": {
      "text/plain": [
       "(146850, 14)"
      ]
     },
     "execution_count": 13,
     "metadata": {},
     "output_type": "execute_result"
    }
   ],
   "source": [
    "df_final.shape"
   ]
  },
  {
   "cell_type": "code",
   "execution_count": 14,
   "metadata": {},
   "outputs": [],
   "source": [
    "df_stopover = df.iloc[index_stopover]"
   ]
  },
  {
   "cell_type": "code",
   "execution_count": 15,
   "metadata": {},
   "outputs": [],
   "source": [
    "aufenthalt_final = df_final[\"Stay_duration\"]"
   ]
  },
  {
   "cell_type": "code",
   "execution_count": 16,
   "metadata": {},
   "outputs": [],
   "source": [
    "aufenthalt_stopover = df_stopover[\"Stay_duration\"]"
   ]
  },
  {
   "cell_type": "code",
   "execution_count": 17,
   "metadata": {},
   "outputs": [
    {
     "data": {
      "image/png": "[encoded data removed]",
      "text/plain": [
       "<Figure size 432x288 with 1 Axes>"
      ]
     },
     "metadata": {},
     "output_type": "display_data"
    }
   ],
   "source": [
    "sns.set();\n",
    "plt.hist(aufenthalt_stopover, bins=range(int(min(aufenthalt_stopover)), int(max(aufenthalt_stopover)), 30));"
   ]
  },
  {
   "cell_type": "code",
   "execution_count": 18,
   "metadata": {},
   "outputs": [],
   "source": [
    "x = np.linspace(0, max(aufenthalt_stopover), 1000)\n",
    "shape_stopover, loc_stopover, scale_stopover = stats.lognorm.fit(aufenthalt_stopover, loc=0)\n",
    "pdf_stopover = stats.lognorm.pdf(x, s=shape_stopover, loc=loc_stopover, scale=scale_stopover)"
   ]
  },
  {
   "cell_type": "code",
   "execution_count": 19,
   "metadata": {},
   "outputs": [
    {
     "data": {
      "text/plain": [
       "(-100, 1200)"
      ]
     },
     "execution_count": 19,
     "metadata": {},
     "output_type": "execute_result"
    },
    {
     "data": {
      "image/png": "[encoded data removed]",
      "text/plain": [
       "<Figure size 432x288 with 1 Axes>"
      ]
     },
     "metadata": {},
     "output_type": "display_data"
    }
   ],
   "source": [
    "plt.figure()\n",
    "plt.hist(aufenthalt_stopover, bins=range(int(min(aufenthalt_stopover)), int(max(aufenthalt_stopover)), 30), density=True);\n",
    "plt.plot(x, pdf_stopover)\n",
    "plt.gca().set_xlim(-100, 1200)"
   ]
  },
  {
   "cell_type": "code",
   "execution_count": 20,
   "metadata": {},
   "outputs": [],
   "source": [
    "test = []\n",
    "for i in range(100000):\n",
    "    number = stats.lognorm.rvs(s=shape_stopover, loc=loc_stopover, scale=scale_stopover)\n",
    "    if number < 0:\n",
    "        test.append(number)"
   ]
  },
  {
   "cell_type": "code",
   "execution_count": 21,
   "metadata": {},
   "outputs": [
    {
     "data": {
      "text/plain": [
       "0.00491"
      ]
     },
     "execution_count": 21,
     "metadata": {},
     "output_type": "execute_result"
    }
   ],
   "source": [
    "len(test)/100000"
   ]
  },
  {
   "cell_type": "markdown",
   "metadata": {},
   "source": [
    "### etwa 0,4 % der Werte negativ -> in Simulation berücksichtigen"
   ]
  },
  {
   "cell_type": "markdown",
   "metadata": {},
   "source": [
    "## Parameter der Verteilungsfunktion abspeichern"
   ]
  },
  {
   "cell_type": "code",
   "execution_count": 29,
   "metadata": {},
   "outputs": [],
   "source": [
    "import pickle\n",
    "import os \n",
    "\n",
    "path = os.getcwd()+ \"\\\\Simulationsdaten\"\n",
    "if not os.path.exists(path):\n",
    "    os.makedirs(path)\n",
    "\n",
    "shape_loc_scale = [shape_stopover, loc_stopover, scale_stopover]\n",
    "pickle.dump(shape_loc_scale, open(path+\"\\\\Zuhause_Shape_Loc_Scale_Stopover.pickle\", \"wb\"))"
   ]
  },
  {
   "cell_type": "code",
   "execution_count": 23,
   "metadata": {},
   "outputs": [
    {
     "data": {
      "image/png": "[encoded data removed]",
      "text/plain": [
       "<Figure size 432x288 with 1 Axes>"
      ]
     },
     "metadata": {},
     "output_type": "display_data"
    }
   ],
   "source": [
    "plt.hist(aufenthalt_final, bins=range(int(min(aufenthalt_final)), int(max(aufenthalt_final)), 30));"
   ]
  },
  {
   "cell_type": "code",
   "execution_count": 24,
   "metadata": {},
   "outputs": [],
   "source": [
    "trips_t_final = [0 for i in range(97)]\n",
    "trips_t_stopover = [0 for i in range(97)]"
   ]
  },
  {
   "cell_type": "code",
   "execution_count": 25,
   "metadata": {},
   "outputs": [],
   "source": [
    "for i in df_final.index:\n",
    "    t = df_final.at[i,\"Departure_t\"]\n",
    "    trips_t_final[t] += 1"
   ]
  },
  {
   "cell_type": "code",
   "execution_count": 26,
   "metadata": {},
   "outputs": [],
   "source": [
    "for i in df_stopover.index:\n",
    "    t = df_stopover.at[i,\"Departure_t\"]\n",
    "    trips_t_stopover[t] += 1"
   ]
  },
  {
   "cell_type": "code",
   "execution_count": 27,
   "metadata": {},
   "outputs": [],
   "source": [
    "for t in range(97):\n",
    "    total = trips_t_final[t] + trips_t_stopover[t]\n",
    "    trips_t_final[t] = trips_t_final[t] / total\n",
    "    trips_t_stopover[t] = trips_t_stopover[t] / total"
   ]
  },
  {
   "cell_type": "code",
   "execution_count": 28,
   "metadata": {},
   "outputs": [
    {
     "data": {
      "image/png": "[encoded data removed]",
      "text/plain": [
       "<Figure size 1440x720 with 1 Axes>"
      ]
     },
     "metadata": {},
     "output_type": "display_data"
    }
   ],
   "source": [
    "plt.figure(figsize=(20,10))\n",
    "x = np.linspace(0, 96, 97)\n",
    "plt.bar(x, trips_t_final, label=\"Endzustand\")\n",
    "plt.bar(x, trips_t_stopover, bottom= trips_t_final, label=\"Zwischenstopp\")\n",
    "plt.legend();"
   ]
  },
  {
   "cell_type": "code",
   "execution_count": 31,
   "metadata": {},
   "outputs": [],
   "source": [
    "pickle.dump(trips_t_final, open(path+\"\\\\Zuhause_Wahrscheinlichkeit_Endzustand.pickle\",\"wb\"))"
   ]
  },
  {
   "cell_type": "code",
   "execution_count": 32,
   "metadata": {},
   "outputs": [
    {
     "data": {
      "text/plain": [
       "[0.9914529914529915,\n",
       " 1.0,\n",
       " 1.0,\n",
       " 0.9902912621359223,\n",
       " 0.9881656804733728,\n",
       " 1.0,\n",
       " 1.0,\n",
       " 0.9795918367346939,\n",
       " 1.0,\n",
       " 1.0,\n",
       " 0.9803921568627451,\n",
       " 1.0,\n",
       " 1.0,\n",
       " 1.0,\n",
       " 1.0,\n",
       " 1.0,\n",
       " 0.23214285714285715,\n",
       " 0.030303030303030304,\n",
       " 0.1044776119402985,\n",
       " 0.12121212121212122,\n",
       " 0.10576923076923077,\n",
       " 0.1095890410958904,\n",
       " 0.1440677966101695,\n",
       " 0.12781954887218044,\n",
       " 0.12594458438287154,\n",
       " 0.10752688172043011,\n",
       " 0.12128146453089245,\n",
       " 0.08656036446469248,\n",
       " 0.1645274212368728,\n",
       " 0.12826899128268993,\n",
       " 0.13603603603603603,\n",
       " 0.1184549356223176,\n",
       " 0.15024805102763997,\n",
       " 0.1609798775153106,\n",
       " 0.1805324459234609,\n",
       " 0.18973862536302033,\n",
       " 0.23687943262411348,\n",
       " 0.2528301886792453,\n",
       " 0.2916392363396972,\n",
       " 0.296551724137931,\n",
       " 0.328993490235353,\n",
       " 0.36477987421383645,\n",
       " 0.3982157339821573,\n",
       " 0.39951690821256036,\n",
       " 0.41945392491467576,\n",
       " 0.42320261437908496,\n",
       " 0.4075135307226998,\n",
       " 0.4261129816685372,\n",
       " 0.401840490797546,\n",
       " 0.44230118443316413,\n",
       " 0.4718768502072232,\n",
       " 0.4927594529364441,\n",
       " 0.48812744214006615,\n",
       " 0.5219230769230769,\n",
       " 0.5471415743789285,\n",
       " 0.577274533174414,\n",
       " 0.6040431266846361,\n",
       " 0.6220447284345048,\n",
       " 0.6291639091109641,\n",
       " 0.6353621591847975,\n",
       " 0.6649093904448106,\n",
       " 0.669202302631579,\n",
       " 0.7121810449574727,\n",
       " 0.697187566081624,\n",
       " 0.7278168097840229,\n",
       " 0.7277719112988384,\n",
       " 0.7596654784754593,\n",
       " 0.7589645660937832,\n",
       " 0.7980452674897119,\n",
       " 0.800209753539591,\n",
       " 0.8381040320098492,\n",
       " 0.8413564145126867,\n",
       " 0.872830494728305,\n",
       " 0.883021728145528,\n",
       " 0.9093722369584438,\n",
       " 0.9185975609756097,\n",
       " 0.9375830013280213,\n",
       " 0.9479495268138801,\n",
       " 0.9543823680164019,\n",
       " 0.9541880341880342,\n",
       " 0.9691542288557214,\n",
       " 0.9609629147690306,\n",
       " 0.9714950552646888,\n",
       " 0.9811169144234633,\n",
       " 0.9830246913580247,\n",
       " 0.9887585532746823,\n",
       " 0.9899497487437185,\n",
       " 0.9824304538799414,\n",
       " 0.9886831275720165,\n",
       " 0.9883720930232558,\n",
       " 0.9912203687445127,\n",
       " 0.9966722129783694,\n",
       " 0.9942473633748802,\n",
       " 0.9890590809628009,\n",
       " 0.9869067103109657,\n",
       " 0.9964912280701754,\n",
       " 1.0]"
      ]
     },
     "execution_count": 32,
     "metadata": {},
     "output_type": "execute_result"
    }
   ],
   "source": [
    "trips_t_final"
   ]
  },
  {
   "cell_type": "code",
   "execution_count": null,
   "metadata": {},
   "outputs": [],
   "source": []
  }
 ],
 "metadata": {
  "kernelspec": {
   "display_name": "Python 3",
   "language": "python",
   "name": "python3"
  },
  "language_info": {
   "codemirror_mode": {
    "name": "ipython",
    "version": 3
   },
   "file_extension": ".py",
   "mimetype": "text/x-python",
   "name": "python",
   "nbconvert_exporter": "python",
   "pygments_lexer": "ipython3",
   "version": "3.7.6"
  }
 },
 "nbformat": 4,
 "nbformat_minor": 4
}

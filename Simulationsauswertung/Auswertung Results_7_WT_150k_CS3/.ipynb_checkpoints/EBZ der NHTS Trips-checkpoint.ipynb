{
 "cells": [
  {
   "cell_type": "markdown",
   "metadata": {},
   "source": [
    "# Erstellen Energiebedarszeitreihe der Ursprungsdaten zum Validieren der Simulation"
   ]
  },
  {
   "cell_type": "code",
   "execution_count": 1,
   "metadata": {},
   "outputs": [],
   "source": [
    "import pandas as pd\n",
    "import numpy as np \n",
    "import matplotlib as mlp\n",
    "import matplotlib.pyplot as plt\n",
    "import seaborn as sns\n",
    "from scipy import stats"
   ]
  },
  {
   "cell_type": "markdown",
   "metadata": {},
   "source": [
    "## Globalparameter"
   ]
  },
  {
   "cell_type": "code",
   "execution_count": 2,
   "metadata": {},
   "outputs": [],
   "source": [
    "# Tagtyp: 1 = Werktag, 2 = Samstag, 3 = Sonntag\n",
    "TYPE_D = 1 \n",
    "# Breite der Zeitschritte\n",
    "T_STEP = 15 \n",
    "# Ladeszenario: 1 = nur Zuhause, 2 = Zuhause und Arbeit, 3 = Überall\n",
    "CHARGE_SCEN = 3\n",
    "# Ladeleistung \n",
    "PCHARGE_SLOW = 3.7 \n",
    "# Abspeichern der simulierten Fahrzeuge\n",
    "simulated_evs = []"
   ]
  },
  {
   "cell_type": "code",
   "execution_count": 3,
   "metadata": {},
   "outputs": [],
   "source": [
    "class Electric_Vehicle(object):\n",
    "    model_df = pd.read_excel(r\"C:\\Users\\thoma\\Desktop\\ev-modelling-repo\\Rohdaten\\EV_Modelle_Tabelle.xlsx\", index_col='Modell')\n",
    "    SEGMENTS = np.array([1, 2, 3, 4, 5, 6, 7, 8, 9, 10, 11, 12, 13, -9])\n",
    "    # Dummy Wahrscheinlichkeiten aus MOP Studie\n",
    "    PROB_SEGMENT = [0.0592, #1\n",
    "        0.1958, #2\n",
    "        0.2621, #3\n",
    "        0.1597, #4\n",
    "        0.029, #5\n",
    "        0.0058, #6\n",
    "        0.0354, #7\n",
    "        0.0122, #8\n",
    "        0.0637, #9\n",
    "        0.0586, #10\n",
    "        0.0386, #11\n",
    "        0.0058, #12\n",
    "        0.0528, #13\n",
    "        0.0213 #-9\n",
    "        ]\n",
    "\n",
    "    \n",
    "    def __init__(self):\n",
    "        segment = self.choose_segment()\n",
    "        model = self.choose_model(segment)\n",
    "        self.MODEL = model\n",
    "        \n",
    "        # Bug da Modelle mehrfach in Liste keine eindeutige Zuordnung sondern Array als output -> fixed -> elegantere Lösung?\n",
    "        # Segment des Fahrzeugs\n",
    "        if np.isscalar(Electric_Vehicle.model_df.at[model, \"Segment\"]):\n",
    "            self.SEGMENT = Electric_Vehicle.model_df.at[model, \"Segment\"]\n",
    "        else:\n",
    "            self.SEGMENT = Electric_Vehicle.model_df.at[model, \"Segment\"][0]\n",
    "        \n",
    "        # Batteriekapazität in kWh\n",
    "        if np.isscalar(Electric_Vehicle.model_df.at[model, \"Batterie\"]):\n",
    "            self.CAPACITY = Electric_Vehicle.model_df.at[model, \"Batterie\"]\n",
    "        else:\n",
    "            self.CAPACITY = Electric_Vehicle.model_df.at[model, \"Batterie\"][0]\n",
    "        \n",
    "        # Verbrauch in kWh/100km\n",
    "        if np.isscalar(Electric_Vehicle.model_df.at[model, \"Verbrauch\"]):\n",
    "            self.CONSUMPTION = Electric_Vehicle.model_df.at[model, \"Verbrauch\"]\n",
    "        else:\n",
    "            self.CONSUMPTION = Electric_Vehicle.model_df.at[model, \"Verbrauch\"][0]\n",
    "        \n",
    "        # Leistung -> aktuell nicht gebraucht\n",
    "        if np.isscalar(Electric_Vehicle.model_df.at[model, \"Leistung\"]):\n",
    "            self.POWER = Electric_Vehicle.model_df.at[model, \"Leistung\"]\n",
    "        else:\n",
    "            self.POWER = Electric_Vehicle.model_df.at[model, \"Leistung\"][0]\n",
    "            \n",
    "        self.SOC = 100\n",
    "        self.trip_no = 0\n",
    "        self.trips = []\n",
    "    \n",
    "    def choose_segment(self): \n",
    "        # wähle p zufällig auf Basis gegebener W'keiten\n",
    "        choice = np.random.choice(Electric_Vehicle.SEGMENTS, p=Electric_Vehicle.PROB_SEGMENT)\n",
    "        \n",
    "        # Vorerst Wahl des häufigsten Semgents bei keiner Angabe -> später überarbeiten\n",
    "        if choice == -9: \n",
    "            choice = 3\n",
    "        \n",
    "        return choice\n",
    "    \n",
    "    def choose_model(self, segment):\n",
    "        models = Electric_Vehicle.model_df\n",
    "        \n",
    "        # filtern der infragekommenden Fahrzeuge über Segment\n",
    "        filt = models[\"Segment\"] == segment\n",
    "        choices = models[filt]\n",
    "        \n",
    "        # Wahl einse zufälligen Fahrzeugs aus der Liste\n",
    "        pick = np.random.randint(0, len(choices))\n",
    "        model = choices.index[pick]\n",
    "        return model\n",
    "    \n",
    "    # drive() und charge() testen\n",
    "    \n",
    "    def drive(self, distance):\n",
    "        trip_consumption = distance * (self.CONSUMPTION / 100) \n",
    "        self.SOC = self.SOC - (trip_consumption / self.CAPACITY) * 100\n",
    "                \n",
    "    \n",
    "    def check_distance(self, distance):\n",
    "        # überprüfe SOC für gegebene Distanz ausreichend ist\n",
    "        trip_consumption = distance * (self.CONSUMPTION / 100)\n",
    "        if trip_consumption < self.SOC/100 * self.CAPACITY:\n",
    "            return True \n",
    "        else:\n",
    "            return False\n",
    "        \n",
    "    def max_distance(self):\n",
    "        # maximale Distanz die mit aktuellem SOC zurückgelegt werden kann\n",
    "        max_dist = round(((self.SOC/100)*self.CAPACITY / self.CONSUMPTION) * 100, 2)\n",
    "        return max_dist\n",
    "        \n",
    "    def charge(self):       \n",
    "        # Fahrzeug befindet sich im Zielzustand des letzten Trips\n",
    "        trip = self.trips[len(self.trips)-1]\n",
    "        # nötige Zeit zum vollständigen Aufladen in Minuten\n",
    "        t_charge_full = (((100 - ev.SOC)/100 * ev.CAPACITY) / PCHARGE_SLOW) * 60\n",
    "        # Ladezeit beschränkt durch Zeit zum vollständigen Aufladen und Länge des Aufenthalts\n",
    "        t_charge = min(t_charge_full, trip.stay_duration)\n",
    "        # update SOC über Ladedauer und Ladeleistung\n",
    "        self.SOC = self.SOC + ((t_charge/60 * PCHARGE_SLOW) / self.CAPACITY) * 100\n",
    "        trip.charge_start = int(trip.arrival)\n",
    "        trip.charge_end = int(round(trip.charge_start + t_charge))"
   ]
  },
  {
   "cell_type": "code",
   "execution_count": 4,
   "metadata": {},
   "outputs": [],
   "source": [
    "class Trip(object):\n",
    "    \n",
    "    def __init__(self, whyfrom, departure):\n",
    "        self.trip_id = None\n",
    "        self.trip_no = None\n",
    "        self.whyfrom = whyfrom\n",
    "        self.whyto = None\n",
    "        self.departure = departure\n",
    "        self.departure_t = round(float(departure/T_STEP))\n",
    "        self.arrival = None\n",
    "        self.trip_duration = None\n",
    "        self.distance = None\n",
    "        self.stay_duration = None\n",
    "        self.SOC_start = None\n",
    "        self.SOC_end = None\n",
    "        self.charge_start = None \n",
    "        self.charge_end = None"
   ]
  },
  {
   "cell_type": "code",
   "execution_count": 5,
   "metadata": {},
   "outputs": [],
   "source": [
    "# einlesen des bearbeiteten Trips-Datensatz (mit errechneten Aufenhtalten)\n",
    "# bereits auf Wochentage gefiltert\n",
    "df = pd.read_csv(r'C:\\Users\\thoma\\Desktop\\ev-modelling-repo\\Rohdaten\\NHTS_trips_processed_WT_Aufenthalt.csv')"
   ]
  },
  {
   "cell_type": "code",
   "execution_count": 6,
   "metadata": {},
   "outputs": [
    {
     "data": {
      "text/html": [
       "<div>\n",
       "<style scoped>\n",
       "    .dataframe tbody tr th:only-of-type {\n",
       "        vertical-align: middle;\n",
       "    }\n",
       "\n",
       "    .dataframe tbody tr th {\n",
       "        vertical-align: top;\n",
       "    }\n",
       "\n",
       "    .dataframe thead th {\n",
       "        text-align: right;\n",
       "    }\n",
       "</style>\n",
       "<table border=\"1\" class=\"dataframe\">\n",
       "  <thead>\n",
       "    <tr style=\"text-align: right;\">\n",
       "      <th></th>\n",
       "      <th>ID</th>\n",
       "      <th>Type_day</th>\n",
       "      <th>TRPTRANS</th>\n",
       "      <th>Trip_no</th>\n",
       "      <th>Whyfrom</th>\n",
       "      <th>Whyto</th>\n",
       "      <th>Distance</th>\n",
       "      <th>Trip_duration</th>\n",
       "      <th>Departure_hhmm</th>\n",
       "      <th>Arrival_hhmm</th>\n",
       "      <th>Departure</th>\n",
       "      <th>Arrival</th>\n",
       "      <th>Departure_t</th>\n",
       "      <th>Stay_duration</th>\n",
       "    </tr>\n",
       "  </thead>\n",
       "  <tbody>\n",
       "    <tr>\n",
       "      <th>0</th>\n",
       "      <td>300000071</td>\n",
       "      <td>1</td>\n",
       "      <td>3</td>\n",
       "      <td>1</td>\n",
       "      <td>1</td>\n",
       "      <td>4</td>\n",
       "      <td>8.439</td>\n",
       "      <td>15</td>\n",
       "      <td>1000</td>\n",
       "      <td>1015</td>\n",
       "      <td>600</td>\n",
       "      <td>615</td>\n",
       "      <td>40</td>\n",
       "      <td>295</td>\n",
       "    </tr>\n",
       "    <tr>\n",
       "      <th>1</th>\n",
       "      <td>300000071</td>\n",
       "      <td>1</td>\n",
       "      <td>3</td>\n",
       "      <td>2</td>\n",
       "      <td>4</td>\n",
       "      <td>1</td>\n",
       "      <td>8.286</td>\n",
       "      <td>20</td>\n",
       "      <td>1510</td>\n",
       "      <td>1530</td>\n",
       "      <td>910</td>\n",
       "      <td>930</td>\n",
       "      <td>61</td>\n",
       "      <td>1110</td>\n",
       "    </tr>\n",
       "    <tr>\n",
       "      <th>2</th>\n",
       "      <td>300000072</td>\n",
       "      <td>1</td>\n",
       "      <td>6</td>\n",
       "      <td>1</td>\n",
       "      <td>2</td>\n",
       "      <td>1</td>\n",
       "      <td>135.191</td>\n",
       "      <td>120</td>\n",
       "      <td>700</td>\n",
       "      <td>900</td>\n",
       "      <td>420</td>\n",
       "      <td>540</td>\n",
       "      <td>28</td>\n",
       "      <td>540</td>\n",
       "    </tr>\n",
       "    <tr>\n",
       "      <th>3</th>\n",
       "      <td>300000072</td>\n",
       "      <td>1</td>\n",
       "      <td>6</td>\n",
       "      <td>2</td>\n",
       "      <td>1</td>\n",
       "      <td>2</td>\n",
       "      <td>131.367</td>\n",
       "      <td>150</td>\n",
       "      <td>1800</td>\n",
       "      <td>2030</td>\n",
       "      <td>1080</td>\n",
       "      <td>1230</td>\n",
       "      <td>72</td>\n",
       "      <td>630</td>\n",
       "    </tr>\n",
       "    <tr>\n",
       "      <th>4</th>\n",
       "      <td>300000073</td>\n",
       "      <td>1</td>\n",
       "      <td>3</td>\n",
       "      <td>1</td>\n",
       "      <td>1</td>\n",
       "      <td>2</td>\n",
       "      <td>3.621</td>\n",
       "      <td>15</td>\n",
       "      <td>845</td>\n",
       "      <td>900</td>\n",
       "      <td>525</td>\n",
       "      <td>540</td>\n",
       "      <td>35</td>\n",
       "      <td>330</td>\n",
       "    </tr>\n",
       "  </tbody>\n",
       "</table>\n",
       "</div>"
      ],
      "text/plain": [
       "          ID  Type_day  TRPTRANS  Trip_no  Whyfrom  Whyto  Distance  \\\n",
       "0  300000071         1         3        1        1      4     8.439   \n",
       "1  300000071         1         3        2        4      1     8.286   \n",
       "2  300000072         1         6        1        2      1   135.191   \n",
       "3  300000072         1         6        2        1      2   131.367   \n",
       "4  300000073         1         3        1        1      2     3.621   \n",
       "\n",
       "   Trip_duration  Departure_hhmm  Arrival_hhmm  Departure  Arrival  \\\n",
       "0             15            1000          1015        600      615   \n",
       "1             20            1510          1530        910      930   \n",
       "2            120             700           900        420      540   \n",
       "3            150            1800          2030       1080     1230   \n",
       "4             15             845           900        525      540   \n",
       "\n",
       "   Departure_t  Stay_duration  \n",
       "0           40            295  \n",
       "1           61           1110  \n",
       "2           28            540  \n",
       "3           72            630  \n",
       "4           35            330  "
      ]
     },
     "execution_count": 6,
     "metadata": {},
     "output_type": "execute_result"
    }
   ],
   "source": [
    "df.head()"
   ]
  },
  {
   "cell_type": "code",
   "execution_count": 7,
   "metadata": {},
   "outputs": [
    {
     "data": {
      "text/plain": [
       "633021"
      ]
     },
     "execution_count": 7,
     "metadata": {},
     "output_type": "execute_result"
    }
   ],
   "source": [
    "len(df)"
   ]
  },
  {
   "cell_type": "code",
   "execution_count": 8,
   "metadata": {},
   "outputs": [],
   "source": [
    "df_grpd = df.groupby([\"ID\"], as_index=False)"
   ]
  },
  {
   "cell_type": "code",
   "execution_count": 9,
   "metadata": {},
   "outputs": [],
   "source": [
    "# Anzahl Gruppierungen das heißt Anzahl unterschiedlicher IDS entspricht Anzahl Fahrzeuge/Triptagebücher\n",
    "nr_evs = len(df_grpd)"
   ]
  },
  {
   "cell_type": "code",
   "execution_count": 10,
   "metadata": {},
   "outputs": [
    {
     "data": {
      "text/plain": [
       "3.9899718253042806"
      ]
     },
     "execution_count": 10,
     "metadata": {},
     "output_type": "execute_result"
    }
   ],
   "source": [
    "633021/158653"
   ]
  },
  {
   "cell_type": "code",
   "execution_count": 11,
   "metadata": {},
   "outputs": [
    {
     "ename": "MemoryError",
     "evalue": "",
     "output_type": "error",
     "traceback": [
      "\u001b[1;31m---------------------------------------------------------------------------\u001b[0m",
      "\u001b[1;31mMemoryError\u001b[0m                               Traceback (most recent call last)",
      "\u001b[1;32m<ipython-input-11-b7d095e4d9d0>\u001b[0m in \u001b[0;36m<module>\u001b[1;34m\u001b[0m\n\u001b[0;32m     40\u001b[0m             \u001b[0mev\u001b[0m\u001b[1;33m.\u001b[0m\u001b[0mdrive\u001b[0m\u001b[1;33m(\u001b[0m\u001b[0mtrip\u001b[0m\u001b[1;33m.\u001b[0m\u001b[0mdistance\u001b[0m\u001b[1;33m)\u001b[0m\u001b[1;33m\u001b[0m\u001b[1;33m\u001b[0m\u001b[0m\n\u001b[0;32m     41\u001b[0m             \u001b[0mtrip\u001b[0m\u001b[1;33m.\u001b[0m\u001b[0mSOC_end\u001b[0m \u001b[1;33m=\u001b[0m \u001b[0mround\u001b[0m\u001b[1;33m(\u001b[0m\u001b[0mev\u001b[0m\u001b[1;33m.\u001b[0m\u001b[0mSOC\u001b[0m\u001b[1;33m,\u001b[0m \u001b[1;36m1\u001b[0m\u001b[1;33m)\u001b[0m\u001b[1;33m\u001b[0m\u001b[1;33m\u001b[0m\u001b[0m\n\u001b[1;32m---> 42\u001b[1;33m             \u001b[0mev\u001b[0m\u001b[1;33m.\u001b[0m\u001b[0mtrips\u001b[0m\u001b[1;33m.\u001b[0m\u001b[0mappend\u001b[0m\u001b[1;33m(\u001b[0m\u001b[0mtrip\u001b[0m\u001b[1;33m)\u001b[0m\u001b[1;33m\u001b[0m\u001b[1;33m\u001b[0m\u001b[0m\n\u001b[0m\u001b[0;32m     43\u001b[0m             \u001b[0mtotal_evs\u001b[0m\u001b[1;33m.\u001b[0m\u001b[0mappend\u001b[0m\u001b[1;33m(\u001b[0m\u001b[0mev\u001b[0m\u001b[1;33m)\u001b[0m\u001b[1;33m\u001b[0m\u001b[1;33m\u001b[0m\u001b[0m\n\u001b[0;32m     44\u001b[0m \u001b[1;33m\u001b[0m\u001b[0m\n",
      "\u001b[1;31mMemoryError\u001b[0m: "
     ]
    }
   ],
   "source": [
    "total_evs = []\n",
    "total_trips = []\n",
    "for i in range(nr_evs):\n",
    "    ev = Electric_Vehicle() \n",
    "    for name, group in df_grpd:\n",
    "        # Zurücksetzen der Indizes der Gruppierungen, sodass diese jeweils bei 0 beginnen\n",
    "        group.reset_index(drop=True, inplace=True)\n",
    "        # iterieren durch Trips der einzelnen Triptagebücher\n",
    "        for j in range(len(group)):\n",
    "            trip = Trip(group.at[j, \"Whyfrom\"], group.at[j, \"Departure\"])\n",
    "            trip.trip_id = float(f\"{i}.{j+1}\")\n",
    "            trip.trip_no = j+1\n",
    "            trip.whyto = group.at[j, \"Whyto\"]\n",
    "            trip.arrival = group.at[j, \"Arrival\"]\n",
    "            trip.trip_duration = group.at[j, \"Trip_duration\"]\n",
    "            trip.distance = group.at[j, \"Distance\"]\n",
    "            trip.stay_duration = group.at[j, \"Stay_duration\"]\n",
    "            trip.SOC_start = round(ev.SOC, 1)\n",
    "            \n",
    "            if ev.SOC < 100:\n",
    "                location = ev.trips[len(ev.trips)-1].whyto\n",
    "                # obere Schranke der Ladezeit, tatsächliche wird in ev.charge() bestimmt\n",
    "                duration = ev.trips[len(ev.trips)-1].stay_duration\n",
    "                if CHARGE_SCEN == 1:\n",
    "                    # geladen wird nur wenn sich das Fahrzeug sich Zuhause befindet und sich dort länger als 15 Minuten aufhält\n",
    "                    if location == 1 and duration > 15:\n",
    "                        ev.charge()\n",
    "\n",
    "                elif CHARGE_SCEN == 2:\n",
    "                    # geladen wird nur wenn sich das Fahrzeug Zuhause oder auf der Arbeit befindet und sich dort länger als 15 Minuten aufhält\n",
    "                    if (location == 1 or location == 2) and duration > 15:\n",
    "                        ev.charge()\n",
    "\n",
    "                elif CHARGE_SCEN == 3:\n",
    "                    # geladen wird in jedem Zustand, sofern die Parkdauer 15 Minuten übersteigt\n",
    "                    if duration > 15:\n",
    "                        ev.charge()     \n",
    "                        \n",
    "            # Fahrvorgang -> update SOC \n",
    "            ev.drive(trip.distance)\n",
    "            trip.SOC_end = round(ev.SOC, 1)\n",
    "            ev.trips.append(trip)\n",
    "            total_evs.append(ev)\n",
    "\n",
    "        if ev.SOC < 100:\n",
    "            location = ev.trips[len(ev.trips)-1].whyto\n",
    "            # obere Schranke der Ladezeit, tatsächliche wird in ev.charge() bestimmt\n",
    "            duration = ev.trips[len(ev.trips)-1].stay_duration\n",
    "            if CHARGE_SCEN == 1:\n",
    "                # geladen wird nur wenn sich das Fahrzeug sich Zuhause befindet und sich dort länger als 15 Minuten aufhält\n",
    "                if location == 1 and duration > 15:\n",
    "                    ev.charge()\n",
    "\n",
    "            elif CHARGE_SCEN == 2:\n",
    "                # geladen wird nur wenn sich das Fahrzeug Zuhause oder auf der Arbeit befindet und sich dort länger als 15 Minuten aufhält\n",
    "                if (location == 1 or location == 2) and duration > 15:\n",
    "                    ev.charge()\n",
    "\n",
    "            elif CHARGE_SCEN == 3:\n",
    "                # geladen wird in jedem Zustand, sofern die Parkdauer 15 Minuten übersteigt\n",
    "                if duration > 15:\n",
    "                    ev.charge()"
   ]
  },
  {
   "cell_type": "code",
   "execution_count": null,
   "metadata": {},
   "outputs": [],
   "source": [
    "df_grpd.get_group(300000071)"
   ]
  },
  {
   "cell_type": "code",
   "execution_count": null,
   "metadata": {},
   "outputs": [],
   "source": [
    "df_grpd.get_group(300000071)[\"Distance\"]"
   ]
  },
  {
   "cell_type": "code",
   "execution_count": null,
   "metadata": {},
   "outputs": [],
   "source": [
    "df_grpd.get_group(300000071).at[0,\"Distance\"]"
   ]
  },
  {
   "cell_type": "code",
   "execution_count": null,
   "metadata": {},
   "outputs": [],
   "source": [
    "len(df_grpd.get_group(300000071))"
   ]
  },
  {
   "cell_type": "code",
   "execution_count": null,
   "metadata": {},
   "outputs": [],
   "source": [
    "df_grpd.get_group(300000072).reset_index(drop=True)"
   ]
  },
  {
   "cell_type": "code",
   "execution_count": null,
   "metadata": {},
   "outputs": [],
   "source": [
    "import pickle\n",
    "path = r\"C:\\Users\\thoma\\Desktop\\ev-modelling-repo\\Rohdaten\\EBZ_Rohdaten.pickle\"\n",
    "\n",
    "pickle.dump(total_evs, open(path, \"wb\"))"
   ]
  },
  {
   "cell_type": "code",
   "execution_count": null,
   "metadata": {},
   "outputs": [],
   "source": []
  }
 ],
 "metadata": {
  "kernelspec": {
   "display_name": "Python 3",
   "language": "python",
   "name": "python3"
  },
  "language_info": {
   "codemirror_mode": {
    "name": "ipython",
    "version": 3
   },
   "file_extension": ".py",
   "mimetype": "text/x-python",
   "name": "python",
   "nbconvert_exporter": "python",
   "pygments_lexer": "ipython3",
   "version": "3.7.6"
  }
 },
 "nbformat": 4,
 "nbformat_minor": 4
}

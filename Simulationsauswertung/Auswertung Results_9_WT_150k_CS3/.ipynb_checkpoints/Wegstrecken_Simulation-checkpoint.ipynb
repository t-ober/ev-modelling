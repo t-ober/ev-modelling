{
 "cells": [
  {
   "cell_type": "markdown",
   "metadata": {},
   "source": [
    "# Auswertung Wegstrecken der Simulation"
   ]
  },
  {
   "cell_type": "code",
   "execution_count": 4,
   "metadata": {},
   "outputs": [],
   "source": [
    "import pandas as pd\n",
    "import numpy as np\n",
    "import matplotlib as mlp\n",
    "import matplotlib.pyplot as plt\n",
    "from scipy import stats\n",
    "import seaborn as sns\n",
    "import os\n",
    "import pickle"
   ]
  },
  {
   "cell_type": "code",
   "execution_count": 5,
   "metadata": {},
   "outputs": [],
   "source": [
    "# Laden der Simulationsergebnisse\n",
    "path = r\"C:\\Users\\thoma\\Desktop\\ev-modelling-repo\\Simulationsergebnisse\\Results_7_WT_150k_CS3.csv\"\n",
    "data = pd.read_csv(path)"
   ]
  },
  {
   "cell_type": "code",
   "execution_count": 6,
   "metadata": {},
   "outputs": [
    {
     "data": {
      "text/html": [
       "<div>\n",
       "<style scoped>\n",
       "    .dataframe tbody tr th:only-of-type {\n",
       "        vertical-align: middle;\n",
       "    }\n",
       "\n",
       "    .dataframe tbody tr th {\n",
       "        vertical-align: top;\n",
       "    }\n",
       "\n",
       "    .dataframe thead th {\n",
       "        text-align: right;\n",
       "    }\n",
       "</style>\n",
       "<table border=\"1\" class=\"dataframe\">\n",
       "  <thead>\n",
       "    <tr style=\"text-align: right;\">\n",
       "      <th></th>\n",
       "      <th>Trip_id</th>\n",
       "      <th>Trip_no</th>\n",
       "      <th>Whyfrom</th>\n",
       "      <th>Whyto</th>\n",
       "      <th>Departure</th>\n",
       "      <th>Departure_t</th>\n",
       "      <th>Arrival</th>\n",
       "      <th>Trip_duration</th>\n",
       "      <th>Distance</th>\n",
       "      <th>Stay_duration</th>\n",
       "      <th>Soc_start</th>\n",
       "      <th>Soc_end</th>\n",
       "      <th>Charge_start</th>\n",
       "      <th>Charge_end</th>\n",
       "    </tr>\n",
       "  </thead>\n",
       "  <tbody>\n",
       "    <tr>\n",
       "      <th>0</th>\n",
       "      <td>0.1</td>\n",
       "      <td>1</td>\n",
       "      <td>1</td>\n",
       "      <td>5</td>\n",
       "      <td>419.0</td>\n",
       "      <td>28</td>\n",
       "      <td>461.0</td>\n",
       "      <td>42.0</td>\n",
       "      <td>23.90</td>\n",
       "      <td>7.0</td>\n",
       "      <td>100.0</td>\n",
       "      <td>85.0</td>\n",
       "      <td>NaN</td>\n",
       "      <td>NaN</td>\n",
       "    </tr>\n",
       "    <tr>\n",
       "      <th>1</th>\n",
       "      <td>0.2</td>\n",
       "      <td>2</td>\n",
       "      <td>5</td>\n",
       "      <td>2</td>\n",
       "      <td>468.0</td>\n",
       "      <td>31</td>\n",
       "      <td>479.0</td>\n",
       "      <td>11.0</td>\n",
       "      <td>6.34</td>\n",
       "      <td>553.0</td>\n",
       "      <td>85.0</td>\n",
       "      <td>81.1</td>\n",
       "      <td>479.0</td>\n",
       "      <td>536.0</td>\n",
       "    </tr>\n",
       "    <tr>\n",
       "      <th>2</th>\n",
       "      <td>0.3</td>\n",
       "      <td>3</td>\n",
       "      <td>2</td>\n",
       "      <td>5</td>\n",
       "      <td>1032.0</td>\n",
       "      <td>69</td>\n",
       "      <td>1046.0</td>\n",
       "      <td>14.0</td>\n",
       "      <td>8.10</td>\n",
       "      <td>1233.0</td>\n",
       "      <td>100.0</td>\n",
       "      <td>94.9</td>\n",
       "      <td>1046.0</td>\n",
       "      <td>1061.0</td>\n",
       "    </tr>\n",
       "    <tr>\n",
       "      <th>3</th>\n",
       "      <td>1.1</td>\n",
       "      <td>1</td>\n",
       "      <td>1</td>\n",
       "      <td>4</td>\n",
       "      <td>485.0</td>\n",
       "      <td>32</td>\n",
       "      <td>501.0</td>\n",
       "      <td>16.0</td>\n",
       "      <td>9.00</td>\n",
       "      <td>29.0</td>\n",
       "      <td>100.0</td>\n",
       "      <td>96.3</td>\n",
       "      <td>501.0</td>\n",
       "      <td>518.0</td>\n",
       "    </tr>\n",
       "    <tr>\n",
       "      <th>4</th>\n",
       "      <td>1.2</td>\n",
       "      <td>2</td>\n",
       "      <td>4</td>\n",
       "      <td>1</td>\n",
       "      <td>530.0</td>\n",
       "      <td>35</td>\n",
       "      <td>535.0</td>\n",
       "      <td>5.0</td>\n",
       "      <td>2.74</td>\n",
       "      <td>92.0</td>\n",
       "      <td>100.0</td>\n",
       "      <td>98.9</td>\n",
       "      <td>535.0</td>\n",
       "      <td>540.0</td>\n",
       "    </tr>\n",
       "  </tbody>\n",
       "</table>\n",
       "</div>"
      ],
      "text/plain": [
       "   Trip_id  Trip_no  Whyfrom  Whyto  Departure  Departure_t  Arrival  \\\n",
       "0      0.1        1        1      5      419.0           28    461.0   \n",
       "1      0.2        2        5      2      468.0           31    479.0   \n",
       "2      0.3        3        2      5     1032.0           69   1046.0   \n",
       "3      1.1        1        1      4      485.0           32    501.0   \n",
       "4      1.2        2        4      1      530.0           35    535.0   \n",
       "\n",
       "   Trip_duration  Distance  Stay_duration  Soc_start  Soc_end  Charge_start  \\\n",
       "0           42.0     23.90            7.0      100.0     85.0           NaN   \n",
       "1           11.0      6.34          553.0       85.0     81.1         479.0   \n",
       "2           14.0      8.10         1233.0      100.0     94.9        1046.0   \n",
       "3           16.0      9.00           29.0      100.0     96.3         501.0   \n",
       "4            5.0      2.74           92.0      100.0     98.9         535.0   \n",
       "\n",
       "   Charge_end  \n",
       "0         NaN  \n",
       "1       536.0  \n",
       "2      1061.0  \n",
       "3       518.0  \n",
       "4       540.0  "
      ]
     },
     "execution_count": 6,
     "metadata": {},
     "output_type": "execute_result"
    }
   ],
   "source": [
    "data.head()"
   ]
  },
  {
   "cell_type": "markdown",
   "metadata": {},
   "source": [
    "## Wegstrecken in 2-dimensionaler Liste Speichern \n",
    "wege_ij[i-1][j-1] entspricht der Liste aller Wegstrecken vom Zustand i zum Zustand j"
   ]
  },
  {
   "cell_type": "code",
   "execution_count": 7,
   "metadata": {},
   "outputs": [],
   "source": [
    "# initialisieren 5x5 Liste \n",
    "wege_ij = [[0 for i in range(5)] for j in range(5)]"
   ]
  },
  {
   "cell_type": "code",
   "execution_count": 8,
   "metadata": {},
   "outputs": [],
   "source": [
    "for i in range(1, 6):\n",
    "    for j in range(1, 6):\n",
    "        if j == i:\n",
    "            continue\n",
    "        # filtern des Dataframes nach Ausgangs- und Zielzustandskombinationen\n",
    "        filt = (data[\"Whyfrom\"] == i) & (data[\"Whyto\"] == j)\n",
    "        # speichern der Liste der Distanzen zwischen den Zuständen in entsprechendem Feld\n",
    "        wege_ij[i-1][j-1] = list(data[filt][\"Distance\"])"
   ]
  },
  {
   "cell_type": "markdown",
   "metadata": {},
   "source": [
    "## Visualisieren der Histogramme"
   ]
  },
  {
   "cell_type": "code",
   "execution_count": null,
   "metadata": {},
   "outputs": [],
   "source": [
    "sns.set()\n",
    "fig, axs = plt.subplots(5, 5, figsize=(20,10))\n",
    "for i in range(5):\n",
    "    for j in range(5):\n",
    "        if i == j:\n",
    "            continue\n",
    "        axs[i][j].hist(wege_ij[i][j], bins=range(int(min(wege_ij[i][j])), int(max(wege_ij[i][j])) + 1, 2), density=True)\n",
    "        axs[i][j].set_xlim(-10, 100)"
   ]
  },
  {
   "cell_type": "code",
   "execution_count": null,
   "metadata": {},
   "outputs": [],
   "source": [
    "# initialisieren 5x5 Liste für Parameter der Verteilungsfunktion \n",
    "shape_ij = [[0 for i in range(5)] for j in range(5)]\n",
    "scale_ij = [[0 for i in range(5)] for j in range(5)]\n",
    "loc_ij = [[0 for i in range(5)] for j in range(5)]\n",
    "pdf_ij = [[0 for i in range(5)] for j in range(5)]\n",
    "x = np.linspace(0, 500, 1000)\n",
    "\n",
    "for i in range(5):\n",
    "    for j in range(5):\n",
    "        if j == i:\n",
    "            continue\n",
    "        shape_ij[i][j], loc_ij[i][j], scale_ij[i][j] = stats.lognorm.fit(wege_ij[i][j], loc=0, scale=5)\n",
    "        pdf_ij[i][j] = stats.lognorm.pdf(x, s=shape_ij[i][j], loc=loc_ij[i][j], scale=scale_ij[i][j])"
   ]
  },
  {
   "cell_type": "code",
   "execution_count": null,
   "metadata": {},
   "outputs": [],
   "source": [
    "fig, axs = plt.subplots(5, 5, figsize=(30,15))\n",
    "for i in range(5):\n",
    "    for j in range(5):\n",
    "        if i==j:\n",
    "            continue\n",
    "        axs[i][j].hist(wege_ij[i][j], bins=range(int(min(wege_ij[i][j])), int(max(wege_ij[i][j])) + 1, 2), density=True)\n",
    "        axs[i][j].set_xlim(-10, 100)\n",
    "        axs[i][j].plot(x, pdf_ij[i][j])\n",
    "fig.suptitle(\"Histogramm und angepasste Lognormalverteilung der Wegstrecken (in km) zwischen den Zuständen\");"
   ]
  },
  {
   "cell_type": "markdown",
   "metadata": {},
   "source": [
    "# Vergleich mit Verteilungsfunktion der Ausgangsdaten"
   ]
  },
  {
   "cell_type": "code",
   "execution_count": null,
   "metadata": {},
   "outputs": [],
   "source": [
    "# Parameter der Ausgangsverteilungsfunktion\n",
    "dist_wd_shape_ij = pickle.load(open(r\"C:\\Users\\thoma\\Desktop\\ev-modelling-repo\\Datenauswertung\\Werktag\\Simulationsdaten\\Verteilung_Wegstrecken_Werktage_Shape.pickle\", \"rb\"))\n",
    "dist_wd_scale_ij = pickle.load(open(r\"C:\\Users\\thoma\\Desktop\\ev-modelling-repo\\Datenauswertung\\Werktag\\Simulationsdaten\\Verteilung_Wegstrecken_Werktage_Scale.pickle\", \"rb\"))\n",
    "dist_wd_loc_ij = pickle.load(open(r\"C:\\Users\\thoma\\Desktop\\ev-modelling-repo\\Datenauswertung\\Werktag\\Simulationsdaten\\Verteilung_Wegstrecken_Werktage_Loc.pickle\", \"rb\"))\n",
    "\n",
    "orig_pdf_ij = [[0 for i in range(5)] for j in range(5)]\n",
    "\n",
    "for i in range(5):\n",
    "    for j in range(5):\n",
    "        if j == i:\n",
    "            continue\n",
    "        orig_pdf_ij[i][j] = stats.lognorm.pdf(x, s=shape_ij[i][j], loc=loc_ij[i][j], scale=scale_ij[i][j])"
   ]
  },
  {
   "cell_type": "code",
   "execution_count": null,
   "metadata": {},
   "outputs": [],
   "source": [
    "fig, axs = plt.subplots(5, 5, figsize=(30,15))\n",
    "for i in range(5):\n",
    "    for j in range(5):\n",
    "        if i==j:\n",
    "            continue\n",
    "        axs[i][j].plot(x, pdf_ij[i][j], label=\"Simulationsergebnis\")\n",
    "        axs[i][j].plot(x, orig_pdf_ij[i][j], label=\"Ausgangsfunktion\", alpha = 0.5)\n",
    "        axs[i][j].legend()\n",
    "        axs[i][j].set_xlim(-10, 100)\n",
    "fig.suptitle(\"Verteilungsfunktionen der Datengrundlage vs. Verteilungsfunktionen der Simulationsauswertung\");"
   ]
  },
  {
   "cell_type": "markdown",
   "metadata": {},
   "source": [
    "# Vergleich der Histogramme der Wegstrecken"
   ]
  },
  {
   "cell_type": "code",
   "execution_count": null,
   "metadata": {},
   "outputs": [],
   "source": [
    "orig_wege_ij = pickle.load(open(r\"C:\\Users\\thoma\\Desktop\\ev-modelling-repo\\Datenauswertung\\Werktag\\Simulationsdaten\\Liste_Wegstrecken_Werktage.pickle\", \"rb\"))"
   ]
  },
  {
   "cell_type": "code",
   "execution_count": null,
   "metadata": {},
   "outputs": [],
   "source": [
    "fig, axs = plt.subplots(5, 5, figsize=(30,15))\n",
    "for i in range(5):\n",
    "    for j in range(5):\n",
    "        if i==j:\n",
    "            continue\n",
    "        axs[i][j].hist(wege_ij[i][j], bins=range(int(min(wege_ij[i][j])), int(max(wege_ij[i][j])) + 1, 2), label=\"Simulationsergebnis\", density=True)\n",
    "        axs[i][j].hist(orig_wege_ij[i][j], bins=range(int(min(wege_ij[i][j])), int(max(wege_ij[i][j])) + 1, 2), label=\"Ausgangsdaten\", alpha=0.5,  density=True)\n",
    "        axs[i][j].legend()\n",
    "        axs[i][j].set_xlim(-10, 100)\n",
    "fig.suptitle(\"Histogramme der Originaldaten vs. Histogramme der Simulation für Wegstrecken in km\");"
   ]
  },
  {
   "cell_type": "code",
   "execution_count": null,
   "metadata": {},
   "outputs": [],
   "source": []
  },
  {
   "cell_type": "code",
   "execution_count": null,
   "metadata": {},
   "outputs": [],
   "source": []
  }
 ],
 "metadata": {
  "kernelspec": {
   "display_name": "Python 3",
   "language": "python",
   "name": "python3"
  },
  "language_info": {
   "codemirror_mode": {
    "name": "ipython",
    "version": 3
   },
   "file_extension": ".py",
   "mimetype": "text/x-python",
   "name": "python",
   "nbconvert_exporter": "python",
   "pygments_lexer": "ipython3",
   "version": "3.7.6"
  }
 },
 "nbformat": 4,
 "nbformat_minor": 4
}

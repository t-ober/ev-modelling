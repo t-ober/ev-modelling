{
 "cells": [
  {
   "cell_type": "code",
   "execution_count": 51,
   "metadata": {},
   "outputs": [],
   "source": [
    "import pandas as pd"
   ]
  },
  {
   "cell_type": "code",
   "execution_count": 52,
   "metadata": {},
   "outputs": [],
   "source": [
    "df = pd.read_csv(\"C:\\\\Users\\\\thoma\\\\Desktop\\\\ev-modelling-repo\\\\Data\\\\NHTS_trips_raw.csv\")"
   ]
  },
  {
   "cell_type": "code",
   "execution_count": 53,
   "metadata": {},
   "outputs": [
    {
     "name": "stdout",
     "output_type": "stream",
     "text": [
      "<class 'pandas.core.frame.DataFrame'>\n",
      "RangeIndex: 923572 entries, 0 to 923571\n",
      "Columns: 105 entries, HOUSEID to HBRESDN\n",
      "dtypes: float64(4), int64(97), object(4)\n",
      "memory usage: 739.9+ MB\n"
     ]
    }
   ],
   "source": [
    "df.info()"
   ]
  },
  {
   "cell_type": "code",
   "execution_count": 54,
   "metadata": {},
   "outputs": [],
   "source": [
    "data = pd.DataFrame()"
   ]
  },
  {
   "cell_type": "markdown",
   "metadata": {},
   "source": [
    "# Übernehmen relevanter Spalten und Umbennennung nach MiD Variablen"
   ]
  },
  {
   "cell_type": "code",
   "execution_count": 55,
   "metadata": {},
   "outputs": [],
   "source": [
    "# zusammenfügen von PERSONID und HOUSEID um einzigartige personenbezogene ID zu erlangen\n",
    "data[\"ID\"] = df[\"HOUSEID\"].apply(lambda x: str(x)) + df[\"PERSONID\"].apply(lambda x: str(x)) \n",
    "data[\"ID\"] = data[\"ID\"].apply(lambda x: int(x))\n",
    "data[\"ST_WOTAG\"] = df[\"TRAVDAY\"]\n",
    "data[\"WHYFROM\"] = df[\"WHYFROM\"]\n",
    "data[\"zweck\"] = df[\"WHYTO\"]\n",
    "data[\"W_NR\"] = df[\"TDTRPNUM\"]\n",
    "data[\"TRPTRANS\"] = df[\"TRPTRANS\"]\n",
    "data[\"wegkm\"] = df[\"VMT_MILE\"]\n",
    "data[\"wegmin_imp1\"] = df[\"TRVLCMIN\"]\n",
    "data[\"W_SZ\"] = df[\"STRTTIME\"]\n",
    "data[\"W_AZ\"]= df[\"ENDTIME\"]"
   ]
  },
  {
   "cell_type": "code",
   "execution_count": 56,
   "metadata": {},
   "outputs": [],
   "source": [
    "testing = data.copy()"
   ]
  },
  {
   "cell_type": "code",
   "execution_count": 57,
   "metadata": {
    "scrolled": true
   },
   "outputs": [
    {
     "data": {
      "text/html": [
       "<div>\n",
       "<style scoped>\n",
       "    .dataframe tbody tr th:only-of-type {\n",
       "        vertical-align: middle;\n",
       "    }\n",
       "\n",
       "    .dataframe tbody tr th {\n",
       "        vertical-align: top;\n",
       "    }\n",
       "\n",
       "    .dataframe thead th {\n",
       "        text-align: right;\n",
       "    }\n",
       "</style>\n",
       "<table border=\"1\" class=\"dataframe\">\n",
       "  <thead>\n",
       "    <tr style=\"text-align: right;\">\n",
       "      <th></th>\n",
       "      <th>ID</th>\n",
       "      <th>ST_WOTAG</th>\n",
       "      <th>WHYFROM</th>\n",
       "      <th>zweck</th>\n",
       "      <th>W_NR</th>\n",
       "      <th>TRPTRANS</th>\n",
       "      <th>wegkm</th>\n",
       "      <th>wegmin_imp1</th>\n",
       "      <th>W_SZ</th>\n",
       "      <th>W_AZ</th>\n",
       "    </tr>\n",
       "  </thead>\n",
       "  <tbody>\n",
       "    <tr>\n",
       "      <th>0</th>\n",
       "      <td>300000071</td>\n",
       "      <td>2</td>\n",
       "      <td>1</td>\n",
       "      <td>19</td>\n",
       "      <td>1</td>\n",
       "      <td>3</td>\n",
       "      <td>5.244</td>\n",
       "      <td>15</td>\n",
       "      <td>1000</td>\n",
       "      <td>1015</td>\n",
       "    </tr>\n",
       "    <tr>\n",
       "      <th>1</th>\n",
       "      <td>300000071</td>\n",
       "      <td>2</td>\n",
       "      <td>19</td>\n",
       "      <td>1</td>\n",
       "      <td>2</td>\n",
       "      <td>3</td>\n",
       "      <td>5.149</td>\n",
       "      <td>20</td>\n",
       "      <td>1510</td>\n",
       "      <td>1530</td>\n",
       "    </tr>\n",
       "    <tr>\n",
       "      <th>2</th>\n",
       "      <td>300000072</td>\n",
       "      <td>2</td>\n",
       "      <td>3</td>\n",
       "      <td>1</td>\n",
       "      <td>1</td>\n",
       "      <td>6</td>\n",
       "      <td>84.004</td>\n",
       "      <td>120</td>\n",
       "      <td>700</td>\n",
       "      <td>900</td>\n",
       "    </tr>\n",
       "    <tr>\n",
       "      <th>3</th>\n",
       "      <td>300000072</td>\n",
       "      <td>2</td>\n",
       "      <td>1</td>\n",
       "      <td>3</td>\n",
       "      <td>2</td>\n",
       "      <td>6</td>\n",
       "      <td>81.628</td>\n",
       "      <td>150</td>\n",
       "      <td>1800</td>\n",
       "      <td>2030</td>\n",
       "    </tr>\n",
       "    <tr>\n",
       "      <th>4</th>\n",
       "      <td>300000073</td>\n",
       "      <td>2</td>\n",
       "      <td>1</td>\n",
       "      <td>8</td>\n",
       "      <td>1</td>\n",
       "      <td>3</td>\n",
       "      <td>2.250</td>\n",
       "      <td>15</td>\n",
       "      <td>845</td>\n",
       "      <td>900</td>\n",
       "    </tr>\n",
       "  </tbody>\n",
       "</table>\n",
       "</div>"
      ],
      "text/plain": [
       "          ID  ST_WOTAG  WHYFROM  zweck  W_NR  TRPTRANS   wegkm  wegmin_imp1  \\\n",
       "0  300000071         2        1     19     1         3   5.244           15   \n",
       "1  300000071         2       19      1     2         3   5.149           20   \n",
       "2  300000072         2        3      1     1         6  84.004          120   \n",
       "3  300000072         2        1      3     2         6  81.628          150   \n",
       "4  300000073         2        1      8     1         3   2.250           15   \n",
       "\n",
       "   W_SZ  W_AZ  \n",
       "0  1000  1015  \n",
       "1  1510  1530  \n",
       "2   700   900  \n",
       "3  1800  2030  \n",
       "4   845   900  "
      ]
     },
     "execution_count": 57,
     "metadata": {},
     "output_type": "execute_result"
    }
   ],
   "source": [
    "testing.head()"
   ]
  },
  {
   "cell_type": "markdown",
   "metadata": {},
   "source": [
    "# Zuordnung der Wochentage anpassen"
   ]
  },
  {
   "cell_type": "code",
   "execution_count": 58,
   "metadata": {},
   "outputs": [],
   "source": [
    "testing[\"ST_WOTAG\"] = testing[\"ST_WOTAG\"].replace({1:7, 2:1, 3:2, 4:3, 5:4, 6:5, 7:6})"
   ]
  },
  {
   "cell_type": "code",
   "execution_count": 59,
   "metadata": {},
   "outputs": [
    {
     "data": {
      "text/plain": [
       "5    154049\n",
       "4    150812\n",
       "3    147798\n",
       "2    147502\n",
       "1    137379\n",
       "6     97536\n",
       "7     88496\n",
       "Name: ST_WOTAG, dtype: int64"
      ]
     },
     "execution_count": 59,
     "metadata": {},
     "output_type": "execute_result"
    }
   ],
   "source": [
    "testing[\"ST_WOTAG\"].value_counts()"
   ]
  },
  {
   "cell_type": "code",
   "execution_count": 60,
   "metadata": {
    "scrolled": true
   },
   "outputs": [
    {
     "data": {
      "text/plain": [
       "6    154049\n",
       "5    150812\n",
       "4    147798\n",
       "3    147502\n",
       "2    137379\n",
       "7     97536\n",
       "1     88496\n",
       "Name: ST_WOTAG, dtype: int64"
      ]
     },
     "execution_count": 60,
     "metadata": {},
     "output_type": "execute_result"
    }
   ],
   "source": [
    "data[\"ST_WOTAG\"].value_counts()"
   ]
  },
  {
   "cell_type": "markdown",
   "metadata": {},
   "source": [
    "# Umrechnen der Wergzeiten von hhmm in Minuten"
   ]
  },
  {
   "cell_type": "code",
   "execution_count": 61,
   "metadata": {},
   "outputs": [
    {
     "data": {
      "text/plain": [
       "0         1000\n",
       "1         1510\n",
       "2          700\n",
       "3         1800\n",
       "4          845\n",
       "          ... \n",
       "923567     810\n",
       "923568    1320\n",
       "923569    1415\n",
       "923570    1820\n",
       "923571    1848\n",
       "Name: W_SZ, Length: 923572, dtype: int64"
      ]
     },
     "execution_count": 61,
     "metadata": {},
     "output_type": "execute_result"
    }
   ],
   "source": [
    "testing[\"W_SZ\"]"
   ]
  },
  {
   "cell_type": "code",
   "execution_count": 62,
   "metadata": {},
   "outputs": [],
   "source": [
    "def to_minutes(hhmm):\n",
    "    result = 0\n",
    "    if len(str(hhmm)) == 4:\n",
    "        hhmm = str(hhmm)\n",
    "        hh = int(hhmm[0:2])\n",
    "        mm = int(hhmm[2:4])\n",
    "    if len(str(hhmm)) ==3:\n",
    "        hmm = str(hhmm)\n",
    "        hh = int(hmm[0])\n",
    "        mm = int(hmm[1:3])\n",
    "    if len(str(hhmm)) ==2:\n",
    "        mm = str(hhmm)\n",
    "        hh = 0\n",
    "        mm = int(mm)\n",
    "    if len(str(hhmm)) ==1:\n",
    "        m = str(hhmm)\n",
    "        hh = 0\n",
    "        mm = int(m)\n",
    "    result = hh*60+mm\n",
    "    return result"
   ]
  },
  {
   "cell_type": "code",
   "execution_count": 63,
   "metadata": {},
   "outputs": [
    {
     "data": {
      "text/plain": [
       "True"
      ]
     },
     "execution_count": 63,
     "metadata": {},
     "output_type": "execute_result"
    }
   ],
   "source": [
    "x = 14*60+50\n",
    "test = to_minutes(1450)\n",
    "x==test"
   ]
  },
  {
   "cell_type": "code",
   "execution_count": 64,
   "metadata": {},
   "outputs": [],
   "source": [
    "testing[\"W_SZ_MIN\"] = testing[\"W_SZ\"].apply(lambda x: to_minutes(x))"
   ]
  },
  {
   "cell_type": "code",
   "execution_count": 65,
   "metadata": {},
   "outputs": [],
   "source": [
    "testing[\"W_AZ_MIN\"] = testing[\"W_AZ\"].apply(lambda x: to_minutes(x))"
   ]
  },
  {
   "cell_type": "code",
   "execution_count": 66,
   "metadata": {
    "scrolled": true
   },
   "outputs": [
    {
     "data": {
      "text/html": [
       "<div>\n",
       "<style scoped>\n",
       "    .dataframe tbody tr th:only-of-type {\n",
       "        vertical-align: middle;\n",
       "    }\n",
       "\n",
       "    .dataframe tbody tr th {\n",
       "        vertical-align: top;\n",
       "    }\n",
       "\n",
       "    .dataframe thead th {\n",
       "        text-align: right;\n",
       "    }\n",
       "</style>\n",
       "<table border=\"1\" class=\"dataframe\">\n",
       "  <thead>\n",
       "    <tr style=\"text-align: right;\">\n",
       "      <th></th>\n",
       "      <th>ID</th>\n",
       "      <th>ST_WOTAG</th>\n",
       "      <th>WHYFROM</th>\n",
       "      <th>zweck</th>\n",
       "      <th>W_NR</th>\n",
       "      <th>TRPTRANS</th>\n",
       "      <th>wegkm</th>\n",
       "      <th>wegmin_imp1</th>\n",
       "      <th>W_SZ</th>\n",
       "      <th>W_AZ</th>\n",
       "      <th>W_SZ_MIN</th>\n",
       "      <th>W_AZ_MIN</th>\n",
       "    </tr>\n",
       "  </thead>\n",
       "  <tbody>\n",
       "    <tr>\n",
       "      <th>0</th>\n",
       "      <td>300000071</td>\n",
       "      <td>1</td>\n",
       "      <td>1</td>\n",
       "      <td>19</td>\n",
       "      <td>1</td>\n",
       "      <td>3</td>\n",
       "      <td>5.244</td>\n",
       "      <td>15</td>\n",
       "      <td>1000</td>\n",
       "      <td>1015</td>\n",
       "      <td>600</td>\n",
       "      <td>615</td>\n",
       "    </tr>\n",
       "    <tr>\n",
       "      <th>1</th>\n",
       "      <td>300000071</td>\n",
       "      <td>1</td>\n",
       "      <td>19</td>\n",
       "      <td>1</td>\n",
       "      <td>2</td>\n",
       "      <td>3</td>\n",
       "      <td>5.149</td>\n",
       "      <td>20</td>\n",
       "      <td>1510</td>\n",
       "      <td>1530</td>\n",
       "      <td>910</td>\n",
       "      <td>930</td>\n",
       "    </tr>\n",
       "    <tr>\n",
       "      <th>2</th>\n",
       "      <td>300000072</td>\n",
       "      <td>1</td>\n",
       "      <td>3</td>\n",
       "      <td>1</td>\n",
       "      <td>1</td>\n",
       "      <td>6</td>\n",
       "      <td>84.004</td>\n",
       "      <td>120</td>\n",
       "      <td>700</td>\n",
       "      <td>900</td>\n",
       "      <td>420</td>\n",
       "      <td>540</td>\n",
       "    </tr>\n",
       "    <tr>\n",
       "      <th>3</th>\n",
       "      <td>300000072</td>\n",
       "      <td>1</td>\n",
       "      <td>1</td>\n",
       "      <td>3</td>\n",
       "      <td>2</td>\n",
       "      <td>6</td>\n",
       "      <td>81.628</td>\n",
       "      <td>150</td>\n",
       "      <td>1800</td>\n",
       "      <td>2030</td>\n",
       "      <td>1080</td>\n",
       "      <td>1230</td>\n",
       "    </tr>\n",
       "    <tr>\n",
       "      <th>4</th>\n",
       "      <td>300000073</td>\n",
       "      <td>1</td>\n",
       "      <td>1</td>\n",
       "      <td>8</td>\n",
       "      <td>1</td>\n",
       "      <td>3</td>\n",
       "      <td>2.250</td>\n",
       "      <td>15</td>\n",
       "      <td>845</td>\n",
       "      <td>900</td>\n",
       "      <td>525</td>\n",
       "      <td>540</td>\n",
       "    </tr>\n",
       "    <tr>\n",
       "      <th>5</th>\n",
       "      <td>300000073</td>\n",
       "      <td>1</td>\n",
       "      <td>8</td>\n",
       "      <td>1</td>\n",
       "      <td>2</td>\n",
       "      <td>3</td>\n",
       "      <td>2.243</td>\n",
       "      <td>15</td>\n",
       "      <td>1430</td>\n",
       "      <td>1445</td>\n",
       "      <td>870</td>\n",
       "      <td>885</td>\n",
       "    </tr>\n",
       "    <tr>\n",
       "      <th>6</th>\n",
       "      <td>300000081</td>\n",
       "      <td>4</td>\n",
       "      <td>1</td>\n",
       "      <td>3</td>\n",
       "      <td>1</td>\n",
       "      <td>6</td>\n",
       "      <td>8.017</td>\n",
       "      <td>15</td>\n",
       "      <td>1115</td>\n",
       "      <td>1130</td>\n",
       "      <td>675</td>\n",
       "      <td>690</td>\n",
       "    </tr>\n",
       "    <tr>\n",
       "      <th>7</th>\n",
       "      <td>300000081</td>\n",
       "      <td>4</td>\n",
       "      <td>3</td>\n",
       "      <td>1</td>\n",
       "      <td>2</td>\n",
       "      <td>6</td>\n",
       "      <td>8.017</td>\n",
       "      <td>10</td>\n",
       "      <td>2330</td>\n",
       "      <td>2340</td>\n",
       "      <td>1410</td>\n",
       "      <td>1420</td>\n",
       "    </tr>\n",
       "    <tr>\n",
       "      <th>8</th>\n",
       "      <td>300000121</td>\n",
       "      <td>4</td>\n",
       "      <td>1</td>\n",
       "      <td>16</td>\n",
       "      <td>1</td>\n",
       "      <td>4</td>\n",
       "      <td>3.395</td>\n",
       "      <td>15</td>\n",
       "      <td>550</td>\n",
       "      <td>605</td>\n",
       "      <td>350</td>\n",
       "      <td>365</td>\n",
       "    </tr>\n",
       "    <tr>\n",
       "      <th>9</th>\n",
       "      <td>300000121</td>\n",
       "      <td>4</td>\n",
       "      <td>16</td>\n",
       "      <td>1</td>\n",
       "      <td>2</td>\n",
       "      <td>4</td>\n",
       "      <td>3.395</td>\n",
       "      <td>15</td>\n",
       "      <td>700</td>\n",
       "      <td>715</td>\n",
       "      <td>420</td>\n",
       "      <td>435</td>\n",
       "    </tr>\n",
       "  </tbody>\n",
       "</table>\n",
       "</div>"
      ],
      "text/plain": [
       "          ID  ST_WOTAG  WHYFROM  zweck  W_NR  TRPTRANS   wegkm  wegmin_imp1  \\\n",
       "0  300000071         1        1     19     1         3   5.244           15   \n",
       "1  300000071         1       19      1     2         3   5.149           20   \n",
       "2  300000072         1        3      1     1         6  84.004          120   \n",
       "3  300000072         1        1      3     2         6  81.628          150   \n",
       "4  300000073         1        1      8     1         3   2.250           15   \n",
       "5  300000073         1        8      1     2         3   2.243           15   \n",
       "6  300000081         4        1      3     1         6   8.017           15   \n",
       "7  300000081         4        3      1     2         6   8.017           10   \n",
       "8  300000121         4        1     16     1         4   3.395           15   \n",
       "9  300000121         4       16      1     2         4   3.395           15   \n",
       "\n",
       "   W_SZ  W_AZ  W_SZ_MIN  W_AZ_MIN  \n",
       "0  1000  1015       600       615  \n",
       "1  1510  1530       910       930  \n",
       "2   700   900       420       540  \n",
       "3  1800  2030      1080      1230  \n",
       "4   845   900       525       540  \n",
       "5  1430  1445       870       885  \n",
       "6  1115  1130       675       690  \n",
       "7  2330  2340      1410      1420  \n",
       "8   550   605       350       365  \n",
       "9   700   715       420       435  "
      ]
     },
     "execution_count": 66,
     "metadata": {},
     "output_type": "execute_result"
    }
   ],
   "source": [
    "testing.head(10)"
   ]
  },
  {
   "cell_type": "markdown",
   "metadata": {},
   "source": [
    "# Neuzuordnung Wegzwecke\n",
    "-7 (I prefer not to answer) -> 99 (keine Angabe) \\\n",
    "-8 (I don't know) -> 99 (keine Angabe) \\\n",
    "-9 (Not ascertained) -> 99 (keine Angabe) \\\n",
    "01 (Regular home activities (chores, sleep)) -> 8 (nach Hause) \\\n",
    "02 (Work from home(paid)) -> 8 (nach Hause) \\\n",
    "03 (Work) -> 1 (Erreichen des Arbeitsplatzes) \\\n",
    "04 (Work-related meeting / trip) -> 2 (dienstlich/geschäftlich) \\\n",
    "05 (Volunteer acitivities (not paid)) -> 7 (Freizeitaktivität) \\\n",
    "06 (Drop off / pick up someone) -> 6 (Bringen/Holen/Begleiten von Personen) \\\n",
    "07 (Change type of transportation) -> 10 (anderer Zweck) \\\n",
    "08 (Attend school as a student) -> 3 (Erreichen der Ausbildungsstätte/Schule) \\\n",
    "09 Attend child care -> 10 (anderer Zweck) \\\n",
    "10 Attend adult care -> 10 (anderer Zweck) \\\n",
    "11 Buy goods (groceries, clothes, appliances, gas) -> 4 (Einkauf) \\\n",
    "12 Buy services (dry cleaners, banking, service a car, pet care) -> 5 (private Erledigungen) \\\n",
    "13 Buy meals (go out for a meal, snack, carry-out) -> 7 (Freizeitaktivität) \\\n",
    "14 Other general errands (post office, library) -> 5 (private Erledigungen) \\\n",
    "15 Recreational activities (visit parks, movies, bars, museums) -> 7 (Freizeitaktivität) \\\n",
    "16 Exercise (go for a jog, walk, walk the dog, go to the gym) -> 7 (Freizeitaktivität) \\\n",
    "17 Visit friends or relatives -> 7 (Freizeitaktivität) \\\n",
    "18 Health care visit (medical, dental, therapy) -> 5 (private Erledigungen) \\\n",
    "19 Religious or other community activities\t-> 7 (Freizeitaktivität) \\\n",
    "97 Something Else -> 10 (anderer Zweck)\n",
    "\n",
    "## Achtung: \n",
    "### Im Ausgangsdatensatz 9 = Rückweg vom vorherigen Weg, kommt hier nicht zum Einsatz"
   ]
  },
  {
   "cell_type": "code",
   "execution_count": 67,
   "metadata": {},
   "outputs": [],
   "source": [
    "reassignment = {-7:99, -8:99, -9:99, 1:8, 2:8, 3:1, 4:2, 5:7, 6:6, 7:10, 8:3, 9:10, 10:10, 11:4,\n",
    "                12:5, 13:7, 14:5, 15:7, 16:7, 17:7, 18:5, 19:7, 97:10}"
   ]
  },
  {
   "cell_type": "code",
   "execution_count": 68,
   "metadata": {},
   "outputs": [],
   "source": [
    "testing[\"zweck\"] = testing[\"zweck\"].replace(reassignment)\n",
    "testing[\"WHYFROM\"] = testing[\"WHYFROM\"].replace(reassignment)"
   ]
  },
  {
   "cell_type": "code",
   "execution_count": 69,
   "metadata": {},
   "outputs": [
    {
     "data": {
      "text/plain": [
       "8     318777\n",
       "7     199666\n",
       "4     132545\n",
       "1      98968\n",
       "5      68365\n",
       "6      56377\n",
       "3      22133\n",
       "10     14887\n",
       "2      11622\n",
       "99       232\n",
       "Name: zweck, dtype: int64"
      ]
     },
     "execution_count": 69,
     "metadata": {},
     "output_type": "execute_result"
    }
   ],
   "source": [
    "testing[\"zweck\"].value_counts()"
   ]
  },
  {
   "cell_type": "markdown",
   "metadata": {},
   "source": [
    "# Reduzieren der Zustände\n",
    "auf: \n",
    "* Zuhause -> 1\n",
    "* Arbeit -> 2 \n",
    "* Einkaufen -> 3 \n",
    "* Freizeit -> 4\n",
    "* Sonstiges -> 5\n",
    "\n",
    "### Zuordnung:\n",
    "* Erreichen des Arbeitsplatzes 1 -> 2\n",
    "* dienstlich/geschäftlich 2 -> 5  \n",
    "* Erreichen der Ausbildungsstätte/Schule 3 -> 2 \n",
    "* Einkauf (Dienstleistungen) 4 -> 3\n",
    "* private Erledigung 5 -> 3\n",
    "* Bringen/Holen/Begleiten von Personen 6 -> 5\n",
    "* Freizeitaktivität 7 -> 4 \n",
    "* nach Hause 8 -> 1\n",
    "* Rückweg vom vorherigen Weg 9 -> zu letztem Zustand (in NHTS Datensatz nicht vorhanden)\n",
    "* anderer Zweck 10 -> 5 Sonstiges\n",
    "* keine Angabe 99 -> 5 Sonstiges (oder nicht berücksichtigen?)"
   ]
  },
  {
   "cell_type": "code",
   "execution_count": 70,
   "metadata": {},
   "outputs": [],
   "source": [
    "reduzieren = {1:2, 2:5, 3:2, 4:3, 5:3, 6:5, 7:4, 8:1, 10:5, 99:5}"
   ]
  },
  {
   "cell_type": "code",
   "execution_count": 71,
   "metadata": {},
   "outputs": [],
   "source": [
    "testing[\"zweck\"] = testing[\"zweck\"].replace(reduzieren)\n",
    "testing[\"WHYFROM\"] = testing[\"WHYFROM\"].replace(reduzieren)"
   ]
  },
  {
   "cell_type": "markdown",
   "metadata": {},
   "source": [
    "# Umrechnen Wegelänge\n",
    "\n",
    "1mile = 1.60934km"
   ]
  },
  {
   "cell_type": "code",
   "execution_count": 72,
   "metadata": {},
   "outputs": [],
   "source": [
    "testing[\"wegkm\"] = testing[\"wegkm\"].apply(lambda x: round(x*1.60934, 3) if x > 0 else -1)"
   ]
  },
  {
   "cell_type": "code",
   "execution_count": 73,
   "metadata": {},
   "outputs": [
    {
     "data": {
      "text/plain": [
       "0           8.439\n",
       "1           8.286\n",
       "2         135.191\n",
       "3         131.367\n",
       "4           3.621\n",
       "           ...   \n",
       "923567     -1.000\n",
       "923568     -1.000\n",
       "923569     -1.000\n",
       "923570     -1.000\n",
       "923571     -1.000\n",
       "Name: wegkm, Length: 923572, dtype: float64"
      ]
     },
     "execution_count": 73,
     "metadata": {},
     "output_type": "execute_result"
    }
   ],
   "source": [
    "testing[\"wegkm\"]"
   ]
  },
  {
   "cell_type": "code",
   "execution_count": 74,
   "metadata": {},
   "outputs": [
    {
     "data": {
      "text/html": [
       "<div>\n",
       "<style scoped>\n",
       "    .dataframe tbody tr th:only-of-type {\n",
       "        vertical-align: middle;\n",
       "    }\n",
       "\n",
       "    .dataframe tbody tr th {\n",
       "        vertical-align: top;\n",
       "    }\n",
       "\n",
       "    .dataframe thead th {\n",
       "        text-align: right;\n",
       "    }\n",
       "</style>\n",
       "<table border=\"1\" class=\"dataframe\">\n",
       "  <thead>\n",
       "    <tr style=\"text-align: right;\">\n",
       "      <th></th>\n",
       "      <th>ID</th>\n",
       "      <th>ST_WOTAG</th>\n",
       "      <th>WHYFROM</th>\n",
       "      <th>zweck</th>\n",
       "      <th>W_NR</th>\n",
       "      <th>TRPTRANS</th>\n",
       "      <th>wegkm</th>\n",
       "      <th>wegmin_imp1</th>\n",
       "      <th>W_SZ</th>\n",
       "      <th>W_AZ</th>\n",
       "      <th>W_SZ_MIN</th>\n",
       "      <th>W_AZ_MIN</th>\n",
       "    </tr>\n",
       "  </thead>\n",
       "  <tbody>\n",
       "    <tr>\n",
       "      <th>0</th>\n",
       "      <td>300000071</td>\n",
       "      <td>1</td>\n",
       "      <td>1</td>\n",
       "      <td>4</td>\n",
       "      <td>1</td>\n",
       "      <td>3</td>\n",
       "      <td>8.439</td>\n",
       "      <td>15</td>\n",
       "      <td>1000</td>\n",
       "      <td>1015</td>\n",
       "      <td>600</td>\n",
       "      <td>615</td>\n",
       "    </tr>\n",
       "    <tr>\n",
       "      <th>1</th>\n",
       "      <td>300000071</td>\n",
       "      <td>1</td>\n",
       "      <td>4</td>\n",
       "      <td>1</td>\n",
       "      <td>2</td>\n",
       "      <td>3</td>\n",
       "      <td>8.286</td>\n",
       "      <td>20</td>\n",
       "      <td>1510</td>\n",
       "      <td>1530</td>\n",
       "      <td>910</td>\n",
       "      <td>930</td>\n",
       "    </tr>\n",
       "    <tr>\n",
       "      <th>2</th>\n",
       "      <td>300000072</td>\n",
       "      <td>1</td>\n",
       "      <td>2</td>\n",
       "      <td>1</td>\n",
       "      <td>1</td>\n",
       "      <td>6</td>\n",
       "      <td>135.191</td>\n",
       "      <td>120</td>\n",
       "      <td>700</td>\n",
       "      <td>900</td>\n",
       "      <td>420</td>\n",
       "      <td>540</td>\n",
       "    </tr>\n",
       "    <tr>\n",
       "      <th>3</th>\n",
       "      <td>300000072</td>\n",
       "      <td>1</td>\n",
       "      <td>1</td>\n",
       "      <td>2</td>\n",
       "      <td>2</td>\n",
       "      <td>6</td>\n",
       "      <td>131.367</td>\n",
       "      <td>150</td>\n",
       "      <td>1800</td>\n",
       "      <td>2030</td>\n",
       "      <td>1080</td>\n",
       "      <td>1230</td>\n",
       "    </tr>\n",
       "    <tr>\n",
       "      <th>4</th>\n",
       "      <td>300000073</td>\n",
       "      <td>1</td>\n",
       "      <td>1</td>\n",
       "      <td>2</td>\n",
       "      <td>1</td>\n",
       "      <td>3</td>\n",
       "      <td>3.621</td>\n",
       "      <td>15</td>\n",
       "      <td>845</td>\n",
       "      <td>900</td>\n",
       "      <td>525</td>\n",
       "      <td>540</td>\n",
       "    </tr>\n",
       "    <tr>\n",
       "      <th>5</th>\n",
       "      <td>300000073</td>\n",
       "      <td>1</td>\n",
       "      <td>2</td>\n",
       "      <td>1</td>\n",
       "      <td>2</td>\n",
       "      <td>3</td>\n",
       "      <td>3.610</td>\n",
       "      <td>15</td>\n",
       "      <td>1430</td>\n",
       "      <td>1445</td>\n",
       "      <td>870</td>\n",
       "      <td>885</td>\n",
       "    </tr>\n",
       "    <tr>\n",
       "      <th>6</th>\n",
       "      <td>300000081</td>\n",
       "      <td>4</td>\n",
       "      <td>1</td>\n",
       "      <td>2</td>\n",
       "      <td>1</td>\n",
       "      <td>6</td>\n",
       "      <td>12.902</td>\n",
       "      <td>15</td>\n",
       "      <td>1115</td>\n",
       "      <td>1130</td>\n",
       "      <td>675</td>\n",
       "      <td>690</td>\n",
       "    </tr>\n",
       "    <tr>\n",
       "      <th>7</th>\n",
       "      <td>300000081</td>\n",
       "      <td>4</td>\n",
       "      <td>2</td>\n",
       "      <td>1</td>\n",
       "      <td>2</td>\n",
       "      <td>6</td>\n",
       "      <td>12.902</td>\n",
       "      <td>10</td>\n",
       "      <td>2330</td>\n",
       "      <td>2340</td>\n",
       "      <td>1410</td>\n",
       "      <td>1420</td>\n",
       "    </tr>\n",
       "    <tr>\n",
       "      <th>8</th>\n",
       "      <td>300000121</td>\n",
       "      <td>4</td>\n",
       "      <td>1</td>\n",
       "      <td>4</td>\n",
       "      <td>1</td>\n",
       "      <td>4</td>\n",
       "      <td>5.464</td>\n",
       "      <td>15</td>\n",
       "      <td>550</td>\n",
       "      <td>605</td>\n",
       "      <td>350</td>\n",
       "      <td>365</td>\n",
       "    </tr>\n",
       "    <tr>\n",
       "      <th>9</th>\n",
       "      <td>300000121</td>\n",
       "      <td>4</td>\n",
       "      <td>4</td>\n",
       "      <td>1</td>\n",
       "      <td>2</td>\n",
       "      <td>4</td>\n",
       "      <td>5.464</td>\n",
       "      <td>15</td>\n",
       "      <td>700</td>\n",
       "      <td>715</td>\n",
       "      <td>420</td>\n",
       "      <td>435</td>\n",
       "    </tr>\n",
       "  </tbody>\n",
       "</table>\n",
       "</div>"
      ],
      "text/plain": [
       "          ID  ST_WOTAG  WHYFROM  zweck  W_NR  TRPTRANS    wegkm  wegmin_imp1  \\\n",
       "0  300000071         1        1      4     1         3    8.439           15   \n",
       "1  300000071         1        4      1     2         3    8.286           20   \n",
       "2  300000072         1        2      1     1         6  135.191          120   \n",
       "3  300000072         1        1      2     2         6  131.367          150   \n",
       "4  300000073         1        1      2     1         3    3.621           15   \n",
       "5  300000073         1        2      1     2         3    3.610           15   \n",
       "6  300000081         4        1      2     1         6   12.902           15   \n",
       "7  300000081         4        2      1     2         6   12.902           10   \n",
       "8  300000121         4        1      4     1         4    5.464           15   \n",
       "9  300000121         4        4      1     2         4    5.464           15   \n",
       "\n",
       "   W_SZ  W_AZ  W_SZ_MIN  W_AZ_MIN  \n",
       "0  1000  1015       600       615  \n",
       "1  1510  1530       910       930  \n",
       "2   700   900       420       540  \n",
       "3  1800  2030      1080      1230  \n",
       "4   845   900       525       540  \n",
       "5  1430  1445       870       885  \n",
       "6  1115  1130       675       690  \n",
       "7  2330  2340      1410      1420  \n",
       "8   550   605       350       365  \n",
       "9   700   715       420       435  "
      ]
     },
     "execution_count": 74,
     "metadata": {},
     "output_type": "execute_result"
    }
   ],
   "source": [
    "testing.head(10)"
   ]
  },
  {
   "cell_type": "markdown",
   "metadata": {},
   "source": [
    "## Zuordnen Satrtzeiten zu Zeitschritten\n",
    "Schrittweite: t = 15 Minuten \\\n",
    "96 Zeitschritte pro Tag: W_SZ_t = [0, 96]"
   ]
  },
  {
   "cell_type": "code",
   "execution_count": 75,
   "metadata": {},
   "outputs": [],
   "source": [
    "testing[\"W_SZ_t\"] = testing[\"W_SZ_MIN\"].apply(lambda x: round(x/15))"
   ]
  },
  {
   "cell_type": "code",
   "execution_count": 76,
   "metadata": {},
   "outputs": [
    {
     "data": {
      "text/html": [
       "<div>\n",
       "<style scoped>\n",
       "    .dataframe tbody tr th:only-of-type {\n",
       "        vertical-align: middle;\n",
       "    }\n",
       "\n",
       "    .dataframe tbody tr th {\n",
       "        vertical-align: top;\n",
       "    }\n",
       "\n",
       "    .dataframe thead th {\n",
       "        text-align: right;\n",
       "    }\n",
       "</style>\n",
       "<table border=\"1\" class=\"dataframe\">\n",
       "  <thead>\n",
       "    <tr style=\"text-align: right;\">\n",
       "      <th></th>\n",
       "      <th>ID</th>\n",
       "      <th>ST_WOTAG</th>\n",
       "      <th>WHYFROM</th>\n",
       "      <th>zweck</th>\n",
       "      <th>W_NR</th>\n",
       "      <th>TRPTRANS</th>\n",
       "      <th>wegkm</th>\n",
       "      <th>wegmin_imp1</th>\n",
       "      <th>W_SZ</th>\n",
       "      <th>W_AZ</th>\n",
       "      <th>W_SZ_MIN</th>\n",
       "      <th>W_AZ_MIN</th>\n",
       "      <th>W_SZ_t</th>\n",
       "    </tr>\n",
       "  </thead>\n",
       "  <tbody>\n",
       "    <tr>\n",
       "      <th>0</th>\n",
       "      <td>300000071</td>\n",
       "      <td>1</td>\n",
       "      <td>1</td>\n",
       "      <td>4</td>\n",
       "      <td>1</td>\n",
       "      <td>3</td>\n",
       "      <td>8.439</td>\n",
       "      <td>15</td>\n",
       "      <td>1000</td>\n",
       "      <td>1015</td>\n",
       "      <td>600</td>\n",
       "      <td>615</td>\n",
       "      <td>40</td>\n",
       "    </tr>\n",
       "    <tr>\n",
       "      <th>1</th>\n",
       "      <td>300000071</td>\n",
       "      <td>1</td>\n",
       "      <td>4</td>\n",
       "      <td>1</td>\n",
       "      <td>2</td>\n",
       "      <td>3</td>\n",
       "      <td>8.286</td>\n",
       "      <td>20</td>\n",
       "      <td>1510</td>\n",
       "      <td>1530</td>\n",
       "      <td>910</td>\n",
       "      <td>930</td>\n",
       "      <td>61</td>\n",
       "    </tr>\n",
       "    <tr>\n",
       "      <th>2</th>\n",
       "      <td>300000072</td>\n",
       "      <td>1</td>\n",
       "      <td>2</td>\n",
       "      <td>1</td>\n",
       "      <td>1</td>\n",
       "      <td>6</td>\n",
       "      <td>135.191</td>\n",
       "      <td>120</td>\n",
       "      <td>700</td>\n",
       "      <td>900</td>\n",
       "      <td>420</td>\n",
       "      <td>540</td>\n",
       "      <td>28</td>\n",
       "    </tr>\n",
       "    <tr>\n",
       "      <th>3</th>\n",
       "      <td>300000072</td>\n",
       "      <td>1</td>\n",
       "      <td>1</td>\n",
       "      <td>2</td>\n",
       "      <td>2</td>\n",
       "      <td>6</td>\n",
       "      <td>131.367</td>\n",
       "      <td>150</td>\n",
       "      <td>1800</td>\n",
       "      <td>2030</td>\n",
       "      <td>1080</td>\n",
       "      <td>1230</td>\n",
       "      <td>72</td>\n",
       "    </tr>\n",
       "    <tr>\n",
       "      <th>4</th>\n",
       "      <td>300000073</td>\n",
       "      <td>1</td>\n",
       "      <td>1</td>\n",
       "      <td>2</td>\n",
       "      <td>1</td>\n",
       "      <td>3</td>\n",
       "      <td>3.621</td>\n",
       "      <td>15</td>\n",
       "      <td>845</td>\n",
       "      <td>900</td>\n",
       "      <td>525</td>\n",
       "      <td>540</td>\n",
       "      <td>35</td>\n",
       "    </tr>\n",
       "  </tbody>\n",
       "</table>\n",
       "</div>"
      ],
      "text/plain": [
       "          ID  ST_WOTAG  WHYFROM  zweck  W_NR  TRPTRANS    wegkm  wegmin_imp1  \\\n",
       "0  300000071         1        1      4     1         3    8.439           15   \n",
       "1  300000071         1        4      1     2         3    8.286           20   \n",
       "2  300000072         1        2      1     1         6  135.191          120   \n",
       "3  300000072         1        1      2     2         6  131.367          150   \n",
       "4  300000073         1        1      2     1         3    3.621           15   \n",
       "\n",
       "   W_SZ  W_AZ  W_SZ_MIN  W_AZ_MIN  W_SZ_t  \n",
       "0  1000  1015       600       615      40  \n",
       "1  1510  1530       910       930      61  \n",
       "2   700   900       420       540      28  \n",
       "3  1800  2030      1080      1230      72  \n",
       "4   845   900       525       540      35  "
      ]
     },
     "execution_count": 76,
     "metadata": {},
     "output_type": "execute_result"
    }
   ],
   "source": [
    "testing.head()"
   ]
  },
  {
   "cell_type": "markdown",
   "metadata": {},
   "source": [
    "## Speichern der Daten"
   ]
  },
  {
   "cell_type": "code",
   "execution_count": 77,
   "metadata": {},
   "outputs": [],
   "source": [
    "testing.to_csv(r'C:\\Users\\thoma\\Desktop\\ev-modelling-repo\\Data\\NHTS_trips_processed.csv', header=True, index=False) "
   ]
  },
  {
   "cell_type": "code",
   "execution_count": null,
   "metadata": {},
   "outputs": [],
   "source": []
  }
 ],
 "metadata": {
  "kernelspec": {
   "display_name": "Python 3",
   "language": "python",
   "name": "python3"
  },
  "language_info": {
   "codemirror_mode": {
    "name": "ipython",
    "version": 3
   },
   "file_extension": ".py",
   "mimetype": "text/x-python",
   "name": "python",
   "nbconvert_exporter": "python",
   "pygments_lexer": "ipython3",
   "version": "3.7.6"
  }
 },
 "nbformat": 4,
 "nbformat_minor": 4
}

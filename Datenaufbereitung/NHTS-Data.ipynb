{
 "cells": [
  {
   "cell_type": "code",
   "execution_count": 194,
   "metadata": {},
   "outputs": [],
   "source": [
    "import pandas as pd"
   ]
  },
  {
   "cell_type": "code",
   "execution_count": 195,
   "metadata": {},
   "outputs": [],
   "source": [
    "df = pd.read_csv(\"trippub.csv\")"
   ]
  },
  {
   "cell_type": "code",
   "execution_count": 196,
   "metadata": {},
   "outputs": [
    {
     "name": "stdout",
     "output_type": "stream",
     "text": [
      "<class 'pandas.core.frame.DataFrame'>\n",
      "RangeIndex: 923572 entries, 0 to 923571\n",
      "Columns: 105 entries, HOUSEID to HBRESDN\n",
      "dtypes: float64(4), int64(97), object(4)\n",
      "memory usage: 739.9+ MB\n"
     ]
    }
   ],
   "source": [
    "df.info()"
   ]
  },
  {
   "cell_type": "code",
   "execution_count": 197,
   "metadata": {},
   "outputs": [],
   "source": [
    "data = pd.DataFrame()"
   ]
  },
  {
   "cell_type": "code",
   "execution_count": 198,
   "metadata": {},
   "outputs": [],
   "source": [
    "data[\"ST_WOTAG\"] = df[\"TRAVDAY\"]\n",
    "data[\"WHYFROM\"] = df[\"WHYFROM\"]\n",
    "data[\"W_SZ\"] = df[\"STRTTIME\"]\n",
    "data[\"W_AZ\"]= df[\"ENDTIME\"]\n",
    "data[\"W_NR\"] = df[\"TDTRPNUM\"]\n",
    "data[\"wegmin_imp1\"] = df[\"TRVLCMIN\"]\n",
    "data[\"zweck\"] = df[\"WHYTO\"]\n",
    "data[\"wegkm\"] = df[\"VMT_MILE\"]"
   ]
  },
  {
   "cell_type": "code",
   "execution_count": 199,
   "metadata": {},
   "outputs": [],
   "source": [
    "testing = data.copy()"
   ]
  },
  {
   "cell_type": "code",
   "execution_count": 200,
   "metadata": {
    "scrolled": true
   },
   "outputs": [
    {
     "data": {
      "text/html": [
       "<div>\n",
       "<style scoped>\n",
       "    .dataframe tbody tr th:only-of-type {\n",
       "        vertical-align: middle;\n",
       "    }\n",
       "\n",
       "    .dataframe tbody tr th {\n",
       "        vertical-align: top;\n",
       "    }\n",
       "\n",
       "    .dataframe thead th {\n",
       "        text-align: right;\n",
       "    }\n",
       "</style>\n",
       "<table border=\"1\" class=\"dataframe\">\n",
       "  <thead>\n",
       "    <tr style=\"text-align: right;\">\n",
       "      <th></th>\n",
       "      <th>ST_WOTAG</th>\n",
       "      <th>WHYFROM</th>\n",
       "      <th>W_SZ</th>\n",
       "      <th>W_AZ</th>\n",
       "      <th>W_NR</th>\n",
       "      <th>wegmin_imp1</th>\n",
       "      <th>zweck</th>\n",
       "      <th>wegkm</th>\n",
       "    </tr>\n",
       "  </thead>\n",
       "  <tbody>\n",
       "    <tr>\n",
       "      <th>0</th>\n",
       "      <td>2</td>\n",
       "      <td>1</td>\n",
       "      <td>1000</td>\n",
       "      <td>1015</td>\n",
       "      <td>1</td>\n",
       "      <td>15</td>\n",
       "      <td>19</td>\n",
       "      <td>5.244</td>\n",
       "    </tr>\n",
       "    <tr>\n",
       "      <th>1</th>\n",
       "      <td>2</td>\n",
       "      <td>19</td>\n",
       "      <td>1510</td>\n",
       "      <td>1530</td>\n",
       "      <td>2</td>\n",
       "      <td>20</td>\n",
       "      <td>1</td>\n",
       "      <td>5.149</td>\n",
       "    </tr>\n",
       "    <tr>\n",
       "      <th>2</th>\n",
       "      <td>2</td>\n",
       "      <td>3</td>\n",
       "      <td>700</td>\n",
       "      <td>900</td>\n",
       "      <td>1</td>\n",
       "      <td>120</td>\n",
       "      <td>1</td>\n",
       "      <td>84.004</td>\n",
       "    </tr>\n",
       "    <tr>\n",
       "      <th>3</th>\n",
       "      <td>2</td>\n",
       "      <td>1</td>\n",
       "      <td>1800</td>\n",
       "      <td>2030</td>\n",
       "      <td>2</td>\n",
       "      <td>150</td>\n",
       "      <td>3</td>\n",
       "      <td>81.628</td>\n",
       "    </tr>\n",
       "    <tr>\n",
       "      <th>4</th>\n",
       "      <td>2</td>\n",
       "      <td>1</td>\n",
       "      <td>845</td>\n",
       "      <td>900</td>\n",
       "      <td>1</td>\n",
       "      <td>15</td>\n",
       "      <td>8</td>\n",
       "      <td>2.250</td>\n",
       "    </tr>\n",
       "  </tbody>\n",
       "</table>\n",
       "</div>"
      ],
      "text/plain": [
       "   ST_WOTAG  WHYFROM  W_SZ  W_AZ  W_NR  wegmin_imp1  zweck   wegkm\n",
       "0         2        1  1000  1015     1           15     19   5.244\n",
       "1         2       19  1510  1530     2           20      1   5.149\n",
       "2         2        3   700   900     1          120      1  84.004\n",
       "3         2        1  1800  2030     2          150      3  81.628\n",
       "4         2        1   845   900     1           15      8   2.250"
      ]
     },
     "execution_count": 200,
     "metadata": {},
     "output_type": "execute_result"
    }
   ],
   "source": [
    "testing.head()"
   ]
  },
  {
   "cell_type": "markdown",
   "metadata": {},
   "source": [
    "# Zuordnung der Wochentage anpassen"
   ]
  },
  {
   "cell_type": "code",
   "execution_count": 201,
   "metadata": {},
   "outputs": [],
   "source": [
    "testing[\"ST_WOTAG\"] = testing[\"ST_WOTAG\"].replace({1:7, 2:1, 3:2, 4:3, 5:4, 6:5, 7:6})"
   ]
  },
  {
   "cell_type": "code",
   "execution_count": 202,
   "metadata": {},
   "outputs": [
    {
     "data": {
      "text/plain": [
       "5    154049\n",
       "4    150812\n",
       "3    147798\n",
       "2    147502\n",
       "1    137379\n",
       "6     97536\n",
       "7     88496\n",
       "Name: ST_WOTAG, dtype: int64"
      ]
     },
     "execution_count": 202,
     "metadata": {},
     "output_type": "execute_result"
    }
   ],
   "source": [
    "testing[\"ST_WOTAG\"].value_counts()"
   ]
  },
  {
   "cell_type": "code",
   "execution_count": 203,
   "metadata": {
    "scrolled": true
   },
   "outputs": [
    {
     "data": {
      "text/plain": [
       "6    154049\n",
       "5    150812\n",
       "4    147798\n",
       "3    147502\n",
       "2    137379\n",
       "7     97536\n",
       "1     88496\n",
       "Name: ST_WOTAG, dtype: int64"
      ]
     },
     "execution_count": 203,
     "metadata": {},
     "output_type": "execute_result"
    }
   ],
   "source": [
    "data[\"ST_WOTAG\"].value_counts()"
   ]
  },
  {
   "cell_type": "markdown",
   "metadata": {},
   "source": [
    "# Umrechnen der Wergzeiten von hhmm in Minuten"
   ]
  },
  {
   "cell_type": "code",
   "execution_count": 204,
   "metadata": {},
   "outputs": [
    {
     "data": {
      "text/plain": [
       "0         1000\n",
       "1         1510\n",
       "2          700\n",
       "3         1800\n",
       "4          845\n",
       "          ... \n",
       "923567     810\n",
       "923568    1320\n",
       "923569    1415\n",
       "923570    1820\n",
       "923571    1848\n",
       "Name: W_SZ, Length: 923572, dtype: int64"
      ]
     },
     "execution_count": 204,
     "metadata": {},
     "output_type": "execute_result"
    }
   ],
   "source": [
    "testing[\"W_SZ\"]"
   ]
  },
  {
   "cell_type": "code",
   "execution_count": 205,
   "metadata": {},
   "outputs": [],
   "source": [
    "def to_minutes(hhmm):\n",
    "    result = 0\n",
    "    if len(str(hhmm)) == 4:\n",
    "        hhmm = str(hhmm)\n",
    "        hh = int(hhmm[0:2])\n",
    "        mm = int(hhmm[2:4])\n",
    "    if len(str(hhmm)) ==3:\n",
    "        hmm = str(hhmm)\n",
    "        hh = int(hmm[0])\n",
    "        mm = int(hmm[1:3])\n",
    "    if len(str(hhmm)) ==2:\n",
    "        mm = str(hhmm)\n",
    "        hh = 0\n",
    "        mm = int(mm)\n",
    "    if len(str(hhmm)) ==1:\n",
    "        m = str(hhmm)\n",
    "        hh = 0\n",
    "        mm = int(m)\n",
    "    result = hh*60+mm\n",
    "    return result"
   ]
  },
  {
   "cell_type": "code",
   "execution_count": 206,
   "metadata": {},
   "outputs": [
    {
     "data": {
      "text/plain": [
       "True"
      ]
     },
     "execution_count": 206,
     "metadata": {},
     "output_type": "execute_result"
    }
   ],
   "source": [
    "x = 14*60+50\n",
    "test = to_minutes(1450)\n",
    "x==test"
   ]
  },
  {
   "cell_type": "code",
   "execution_count": 207,
   "metadata": {},
   "outputs": [],
   "source": [
    "testing[\"W_SZ_MIN\"] = testing[\"W_SZ\"].apply(lambda x: to_minutes(x))"
   ]
  },
  {
   "cell_type": "code",
   "execution_count": 208,
   "metadata": {},
   "outputs": [],
   "source": [
    "testing[\"W_AZ_MIN\"] = testing[\"W_AZ\"].apply(lambda x: to_minutes(x))"
   ]
  },
  {
   "cell_type": "code",
   "execution_count": 209,
   "metadata": {
    "scrolled": true
   },
   "outputs": [
    {
     "data": {
      "text/html": [
       "<div>\n",
       "<style scoped>\n",
       "    .dataframe tbody tr th:only-of-type {\n",
       "        vertical-align: middle;\n",
       "    }\n",
       "\n",
       "    .dataframe tbody tr th {\n",
       "        vertical-align: top;\n",
       "    }\n",
       "\n",
       "    .dataframe thead th {\n",
       "        text-align: right;\n",
       "    }\n",
       "</style>\n",
       "<table border=\"1\" class=\"dataframe\">\n",
       "  <thead>\n",
       "    <tr style=\"text-align: right;\">\n",
       "      <th></th>\n",
       "      <th>ST_WOTAG</th>\n",
       "      <th>WHYFROM</th>\n",
       "      <th>W_SZ</th>\n",
       "      <th>W_AZ</th>\n",
       "      <th>W_NR</th>\n",
       "      <th>wegmin_imp1</th>\n",
       "      <th>zweck</th>\n",
       "      <th>wegkm</th>\n",
       "      <th>W_SZ_MIN</th>\n",
       "      <th>W_AZ_MIN</th>\n",
       "    </tr>\n",
       "  </thead>\n",
       "  <tbody>\n",
       "    <tr>\n",
       "      <th>0</th>\n",
       "      <td>1</td>\n",
       "      <td>1</td>\n",
       "      <td>1000</td>\n",
       "      <td>1015</td>\n",
       "      <td>1</td>\n",
       "      <td>15</td>\n",
       "      <td>19</td>\n",
       "      <td>5.244</td>\n",
       "      <td>600</td>\n",
       "      <td>615</td>\n",
       "    </tr>\n",
       "    <tr>\n",
       "      <th>1</th>\n",
       "      <td>1</td>\n",
       "      <td>19</td>\n",
       "      <td>1510</td>\n",
       "      <td>1530</td>\n",
       "      <td>2</td>\n",
       "      <td>20</td>\n",
       "      <td>1</td>\n",
       "      <td>5.149</td>\n",
       "      <td>910</td>\n",
       "      <td>930</td>\n",
       "    </tr>\n",
       "    <tr>\n",
       "      <th>2</th>\n",
       "      <td>1</td>\n",
       "      <td>3</td>\n",
       "      <td>700</td>\n",
       "      <td>900</td>\n",
       "      <td>1</td>\n",
       "      <td>120</td>\n",
       "      <td>1</td>\n",
       "      <td>84.004</td>\n",
       "      <td>420</td>\n",
       "      <td>540</td>\n",
       "    </tr>\n",
       "    <tr>\n",
       "      <th>3</th>\n",
       "      <td>1</td>\n",
       "      <td>1</td>\n",
       "      <td>1800</td>\n",
       "      <td>2030</td>\n",
       "      <td>2</td>\n",
       "      <td>150</td>\n",
       "      <td>3</td>\n",
       "      <td>81.628</td>\n",
       "      <td>1080</td>\n",
       "      <td>1230</td>\n",
       "    </tr>\n",
       "    <tr>\n",
       "      <th>4</th>\n",
       "      <td>1</td>\n",
       "      <td>1</td>\n",
       "      <td>845</td>\n",
       "      <td>900</td>\n",
       "      <td>1</td>\n",
       "      <td>15</td>\n",
       "      <td>8</td>\n",
       "      <td>2.250</td>\n",
       "      <td>525</td>\n",
       "      <td>540</td>\n",
       "    </tr>\n",
       "    <tr>\n",
       "      <th>5</th>\n",
       "      <td>1</td>\n",
       "      <td>8</td>\n",
       "      <td>1430</td>\n",
       "      <td>1445</td>\n",
       "      <td>2</td>\n",
       "      <td>15</td>\n",
       "      <td>1</td>\n",
       "      <td>2.243</td>\n",
       "      <td>870</td>\n",
       "      <td>885</td>\n",
       "    </tr>\n",
       "    <tr>\n",
       "      <th>6</th>\n",
       "      <td>4</td>\n",
       "      <td>1</td>\n",
       "      <td>1115</td>\n",
       "      <td>1130</td>\n",
       "      <td>1</td>\n",
       "      <td>15</td>\n",
       "      <td>3</td>\n",
       "      <td>8.017</td>\n",
       "      <td>675</td>\n",
       "      <td>690</td>\n",
       "    </tr>\n",
       "    <tr>\n",
       "      <th>7</th>\n",
       "      <td>4</td>\n",
       "      <td>3</td>\n",
       "      <td>2330</td>\n",
       "      <td>2340</td>\n",
       "      <td>2</td>\n",
       "      <td>10</td>\n",
       "      <td>1</td>\n",
       "      <td>8.017</td>\n",
       "      <td>1410</td>\n",
       "      <td>1420</td>\n",
       "    </tr>\n",
       "    <tr>\n",
       "      <th>8</th>\n",
       "      <td>4</td>\n",
       "      <td>1</td>\n",
       "      <td>550</td>\n",
       "      <td>605</td>\n",
       "      <td>1</td>\n",
       "      <td>15</td>\n",
       "      <td>16</td>\n",
       "      <td>3.395</td>\n",
       "      <td>350</td>\n",
       "      <td>365</td>\n",
       "    </tr>\n",
       "    <tr>\n",
       "      <th>9</th>\n",
       "      <td>4</td>\n",
       "      <td>16</td>\n",
       "      <td>700</td>\n",
       "      <td>715</td>\n",
       "      <td>2</td>\n",
       "      <td>15</td>\n",
       "      <td>1</td>\n",
       "      <td>3.395</td>\n",
       "      <td>420</td>\n",
       "      <td>435</td>\n",
       "    </tr>\n",
       "  </tbody>\n",
       "</table>\n",
       "</div>"
      ],
      "text/plain": [
       "   ST_WOTAG  WHYFROM  W_SZ  W_AZ  W_NR  wegmin_imp1  zweck   wegkm  W_SZ_MIN  \\\n",
       "0         1        1  1000  1015     1           15     19   5.244       600   \n",
       "1         1       19  1510  1530     2           20      1   5.149       910   \n",
       "2         1        3   700   900     1          120      1  84.004       420   \n",
       "3         1        1  1800  2030     2          150      3  81.628      1080   \n",
       "4         1        1   845   900     1           15      8   2.250       525   \n",
       "5         1        8  1430  1445     2           15      1   2.243       870   \n",
       "6         4        1  1115  1130     1           15      3   8.017       675   \n",
       "7         4        3  2330  2340     2           10      1   8.017      1410   \n",
       "8         4        1   550   605     1           15     16   3.395       350   \n",
       "9         4       16   700   715     2           15      1   3.395       420   \n",
       "\n",
       "   W_AZ_MIN  \n",
       "0       615  \n",
       "1       930  \n",
       "2       540  \n",
       "3      1230  \n",
       "4       540  \n",
       "5       885  \n",
       "6       690  \n",
       "7      1420  \n",
       "8       365  \n",
       "9       435  "
      ]
     },
     "execution_count": 209,
     "metadata": {},
     "output_type": "execute_result"
    }
   ],
   "source": [
    "testing.head(10)"
   ]
  },
  {
   "cell_type": "markdown",
   "metadata": {},
   "source": [
    "# Neuzuordnung Wegzwecke\n",
    "-7 (I prefer not to answer) -> 99 (keine Angabe) \\\n",
    "-8 (I don't know) -> 99 (keine Angabe) \\\n",
    "-9 (Not ascertained) -> 99 (keine Angabe) \\\n",
    "01 (Regular home activities (chores, sleep)) -> 8 (nach Hause) \\\n",
    "02 (Work from home(paid)) -> 8 (nach Hause) \\\n",
    "03 (Work) -> 1 (Erreichen des Arbeitsplatzes) \\\n",
    "04 (Work-related meeting / trip) -> 2 (dienstlich/geschäftlich) \\\n",
    "05 (Volunteer acitivities (not paid)) -> 7 (Freizeitaktivität) \\\n",
    "06 (Drop off / pick up someone) -> 6 (Bringen/Holen/Begleiten von Personen) \\\n",
    "07 (Change type of transportation) -> 10 (anderer Zweck) \\\n",
    "08 (Attend school as a student) -> 3 (Erreichen der Ausbildungsstätte/Schule) \\\n",
    "09 Attend child care -> 10 (anderer Zweck) \\\n",
    "10 Attend adult care -> 10 (anderer Zweck) \\\n",
    "11 Buy goods (groceries, clothes, appliances, gas) -> 4 (Einkauf) \\\n",
    "12 Buy services (dry cleaners, banking, service a car, pet care) -> 5 (private Erledigungen) \\\n",
    "13 Buy meals (go out for a meal, snack, carry-out) -> 7 (Freizeitaktivität) \\\n",
    "14 Other general errands (post office, library) -> 5 (private Erledigungen) \\\n",
    "15 Recreational activities (visit parks, movies, bars, museums) -> 7 (Freizeitaktivität) \\\n",
    "16 Exercise (go for a jog, walk, walk the dog, go to the gym) -> 7 (Freizeitaktivität) \\\n",
    "17 Visit friends or relatives -> 7 (Freizeitaktivität) \\\n",
    "18 Health care visit (medical, dental, therapy) -> 5 (private Erledigungen) \\\n",
    "19 Religious or other community activities\t-> 7 (Freizeitaktivität) \\\n",
    "\n",
    "## Achtung: \n",
    "### Im Ausgangsdatensatz 9 = Rückweg vom vorherigen Weg, kommt hier nicht zum Einsatz"
   ]
  },
  {
   "cell_type": "code",
   "execution_count": 210,
   "metadata": {},
   "outputs": [],
   "source": [
    "reassignment = {-7:99, -8:99, -9:99, 1:8, 2:8, 3:1, 4:2, 5:7, 6:6, 7:10, 8:3, 9:10, 10:10, 11:4,\n",
    "                12:5, 13:7, 14:5, 15:7, 16:7, 17:7, 18:5, 19:7}"
   ]
  },
  {
   "cell_type": "code",
   "execution_count": 211,
   "metadata": {},
   "outputs": [],
   "source": [
    "testing[\"zweck\"] = testing[\"zweck\"].replace(reassignment)"
   ]
  },
  {
   "cell_type": "code",
   "execution_count": 212,
   "metadata": {},
   "outputs": [
    {
     "data": {
      "text/plain": [
       "8     318777\n",
       "7     199666\n",
       "4     132545\n",
       "1      98968\n",
       "5      68365\n",
       "6      56377\n",
       "3      22133\n",
       "10     12043\n",
       "2      11622\n",
       "97      2844\n",
       "99       232\n",
       "Name: zweck, dtype: int64"
      ]
     },
     "execution_count": 212,
     "metadata": {},
     "output_type": "execute_result"
    }
   ],
   "source": [
    "testing[\"zweck\"].value_counts()"
   ]
  },
  {
   "cell_type": "markdown",
   "metadata": {},
   "source": [
    "# Umrechnen Wegelänge\n",
    "\n",
    "1mile = 1.60934km"
   ]
  },
  {
   "cell_type": "code",
   "execution_count": 213,
   "metadata": {},
   "outputs": [
    {
     "data": {
      "text/plain": [
       "0           8.439\n",
       "1           8.286\n",
       "2         135.191\n",
       "3         131.367\n",
       "4           3.621\n",
       "           ...   \n",
       "923567     -1.000\n",
       "923568     -1.000\n",
       "923569     -1.000\n",
       "923570     -1.000\n",
       "923571     -1.000\n",
       "Name: wegkm, Length: 923572, dtype: float64"
      ]
     },
     "execution_count": 213,
     "metadata": {},
     "output_type": "execute_result"
    }
   ],
   "source": [
    "testing[\"wegkm\"].apply(lambda x: round(x*1.60934, 3) if x > 0 else -1)"
   ]
  },
  {
   "cell_type": "code",
   "execution_count": 214,
   "metadata": {},
   "outputs": [
    {
     "data": {
      "text/plain": [
       "0          5.244\n",
       "1          5.149\n",
       "2         84.004\n",
       "3         81.628\n",
       "4          2.250\n",
       "           ...  \n",
       "923567    -1.000\n",
       "923568    -1.000\n",
       "923569    -1.000\n",
       "923570    -1.000\n",
       "923571    -1.000\n",
       "Name: wegkm, Length: 923572, dtype: float64"
      ]
     },
     "execution_count": 214,
     "metadata": {},
     "output_type": "execute_result"
    }
   ],
   "source": [
    "testing[\"wegkm\"]"
   ]
  },
  {
   "cell_type": "code",
   "execution_count": 215,
   "metadata": {},
   "outputs": [
    {
     "data": {
      "text/html": [
       "<div>\n",
       "<style scoped>\n",
       "    .dataframe tbody tr th:only-of-type {\n",
       "        vertical-align: middle;\n",
       "    }\n",
       "\n",
       "    .dataframe tbody tr th {\n",
       "        vertical-align: top;\n",
       "    }\n",
       "\n",
       "    .dataframe thead th {\n",
       "        text-align: right;\n",
       "    }\n",
       "</style>\n",
       "<table border=\"1\" class=\"dataframe\">\n",
       "  <thead>\n",
       "    <tr style=\"text-align: right;\">\n",
       "      <th></th>\n",
       "      <th>ST_WOTAG</th>\n",
       "      <th>WHYFROM</th>\n",
       "      <th>W_SZ</th>\n",
       "      <th>W_AZ</th>\n",
       "      <th>W_NR</th>\n",
       "      <th>wegmin_imp1</th>\n",
       "      <th>zweck</th>\n",
       "      <th>wegkm</th>\n",
       "      <th>W_SZ_MIN</th>\n",
       "      <th>W_AZ_MIN</th>\n",
       "    </tr>\n",
       "  </thead>\n",
       "  <tbody>\n",
       "    <tr>\n",
       "      <th>0</th>\n",
       "      <td>1</td>\n",
       "      <td>1</td>\n",
       "      <td>1000</td>\n",
       "      <td>1015</td>\n",
       "      <td>1</td>\n",
       "      <td>15</td>\n",
       "      <td>7</td>\n",
       "      <td>5.244</td>\n",
       "      <td>600</td>\n",
       "      <td>615</td>\n",
       "    </tr>\n",
       "    <tr>\n",
       "      <th>1</th>\n",
       "      <td>1</td>\n",
       "      <td>19</td>\n",
       "      <td>1510</td>\n",
       "      <td>1530</td>\n",
       "      <td>2</td>\n",
       "      <td>20</td>\n",
       "      <td>8</td>\n",
       "      <td>5.149</td>\n",
       "      <td>910</td>\n",
       "      <td>930</td>\n",
       "    </tr>\n",
       "    <tr>\n",
       "      <th>2</th>\n",
       "      <td>1</td>\n",
       "      <td>3</td>\n",
       "      <td>700</td>\n",
       "      <td>900</td>\n",
       "      <td>1</td>\n",
       "      <td>120</td>\n",
       "      <td>8</td>\n",
       "      <td>84.004</td>\n",
       "      <td>420</td>\n",
       "      <td>540</td>\n",
       "    </tr>\n",
       "    <tr>\n",
       "      <th>3</th>\n",
       "      <td>1</td>\n",
       "      <td>1</td>\n",
       "      <td>1800</td>\n",
       "      <td>2030</td>\n",
       "      <td>2</td>\n",
       "      <td>150</td>\n",
       "      <td>1</td>\n",
       "      <td>81.628</td>\n",
       "      <td>1080</td>\n",
       "      <td>1230</td>\n",
       "    </tr>\n",
       "    <tr>\n",
       "      <th>4</th>\n",
       "      <td>1</td>\n",
       "      <td>1</td>\n",
       "      <td>845</td>\n",
       "      <td>900</td>\n",
       "      <td>1</td>\n",
       "      <td>15</td>\n",
       "      <td>3</td>\n",
       "      <td>2.250</td>\n",
       "      <td>525</td>\n",
       "      <td>540</td>\n",
       "    </tr>\n",
       "  </tbody>\n",
       "</table>\n",
       "</div>"
      ],
      "text/plain": [
       "   ST_WOTAG  WHYFROM  W_SZ  W_AZ  W_NR  wegmin_imp1  zweck   wegkm  W_SZ_MIN  \\\n",
       "0         1        1  1000  1015     1           15      7   5.244       600   \n",
       "1         1       19  1510  1530     2           20      8   5.149       910   \n",
       "2         1        3   700   900     1          120      8  84.004       420   \n",
       "3         1        1  1800  2030     2          150      1  81.628      1080   \n",
       "4         1        1   845   900     1           15      3   2.250       525   \n",
       "\n",
       "   W_AZ_MIN  \n",
       "0       615  \n",
       "1       930  \n",
       "2       540  \n",
       "3      1230  \n",
       "4       540  "
      ]
     },
     "execution_count": 215,
     "metadata": {},
     "output_type": "execute_result"
    }
   ],
   "source": [
    "testing.head()"
   ]
  },
  {
   "cell_type": "code",
   "execution_count": 219,
   "metadata": {},
   "outputs": [],
   "source": [
    "testing.to_csv(r'C:\\Users\\thoma\\Desktop\\Untitled Folder\\NHTS-Analyse\\NHTS_trips_processed.csv', index=True, header=True) "
   ]
  },
  {
   "cell_type": "code",
   "execution_count": null,
   "metadata": {},
   "outputs": [],
   "source": []
  }
 ],
 "metadata": {
  "kernelspec": {
   "display_name": "Python 3",
   "language": "python",
   "name": "python3"
  },
  "language_info": {
   "codemirror_mode": {
    "name": "ipython",
    "version": 3
   },
   "file_extension": ".py",
   "mimetype": "text/x-python",
   "name": "python",
   "nbconvert_exporter": "python",
   "pygments_lexer": "ipython3",
   "version": "3.7.6"
  }
 },
 "nbformat": 4,
 "nbformat_minor": 4
}
